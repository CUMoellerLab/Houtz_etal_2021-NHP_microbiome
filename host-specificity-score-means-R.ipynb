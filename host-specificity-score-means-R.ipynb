{
 "cells": [
  {
   "cell_type": "code",
   "execution_count": null,
   "id": "weekly-northeast",
   "metadata": {},
   "outputs": [],
   "source": [
    "####Host Specificity Scores####\n",
    "#Calculating means of Sorensen-Dice distances at genus level#\n",
    "#This R script contains raw data from each microbial genus's pairwise Sorensen-Dice beta group significance tests on samples groups by host species_geographical location_captivity state_study as .tsv files"
   ]
  },
  {
   "cell_type": "code",
   "execution_count": null,
   "id": "moving-bacteria",
   "metadata": {},
   "outputs": [],
   "source": [
    "#Load appropriate packages\n",
    "library(sqldf)\n",
    "library(dplyr)\n",
    "library(data.table)"
   ]
  },
  {
   "cell_type": "code",
   "execution_count": null,
   "id": "thirty-canyon",
   "metadata": {},
   "outputs": [],
   "source": [
    "#Create list of tsv files\n",
    "tsv_input <- list.files(\".\", pattern=\"*.tsv\", full.names=TRUE)"
   ]
  },
  {
   "cell_type": "code",
   "execution_count": null,
   "id": "regulated-martial",
   "metadata": {},
   "outputs": [],
   "source": [
    "#Read in raw data as tsv\n",
    "for (i in tsv_input)\n",
    "{\n",
    "  \n",
    "  x <- as.data.frame(fread(i))\n",
    "  \n",
    "  #Calculate the mean distance grouped by species_country_captivitystate_study comparison (Group1 vs Group2)\n",
    "  \n",
    "  x <- sqldf(\"select Group1,Group2,avg(Distance) from x group by Group1,Group2\")\n",
    "  \n",
    "  #Add a new column with the bacterial genus in each row for when everything is combined into the same dataframe\n",
    "  \n",
    "  x['Bacterial Genus']=i\n",
    "  \n",
    "  #Write the summary table to a csv\n",
    "  \n",
    "  write.csv(x, file=paste(i, \".csv\", sep = \"\"), row.names = FALSE)\n",
    "  \n",
    "}"
   ]
  },
  {
   "cell_type": "code",
   "execution_count": null,
   "id": "unusual-council",
   "metadata": {},
   "outputs": [],
   "source": [
    "#merge all csv files into one dataframe\n",
    "\n",
    "filenames <- list.files(\".\", pattern=\"*.csv\", full.names=TRUE)"
   ]
  },
  {
   "cell_type": "code",
   "execution_count": null,
   "id": "annoying-coordinator",
   "metadata": {},
   "outputs": [],
   "source": [
    "# Read all csv files in the folder and create a list of dataframes\n",
    "\n",
    "ldf <- lapply(filenames, read.csv)"
   ]
  },
  {
   "cell_type": "code",
   "execution_count": null,
   "id": "intimate-subscriber",
   "metadata": {},
   "outputs": [],
   "source": [
    "# Combine each dataframe in the list into a single dataframe\n",
    "\n",
    "df.final <- do.call(\"rbind\", ldf)"
   ]
  },
  {
   "cell_type": "code",
   "execution_count": null,
   "id": "binding-fellow",
   "metadata": {},
   "outputs": [],
   "source": [
    "#Write the final summary table to a csv\n",
    "\n",
    "write.csv(df.final, file=\"primate_micro_ratios_summary.csv\", row.names = FALSE)"
   ]
  }
 ],
 "metadata": {
  "kernelspec": {
   "display_name": "R",
   "language": "R",
   "name": "ir"
  },
  "language_info": {
   "codemirror_mode": "r",
   "file_extension": ".r",
   "mimetype": "text/x-r-source",
   "name": "R",
   "pygments_lexer": "r",
   "version": "4.0.3"
  }
 },
 "nbformat": 4,
 "nbformat_minor": 5
}
