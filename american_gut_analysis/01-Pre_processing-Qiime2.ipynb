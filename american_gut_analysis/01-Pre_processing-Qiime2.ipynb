{
 "cells": [
  {
   "cell_type": "markdown",
   "id": "activated-relationship",
   "metadata": {},
   "source": [
    "# 01: Pre-processing data with Qiime2\n",
    "\n",
    "This notebook takes the combined data outputs from Qiita (metadata, taxonomy, and ASV biome files) and splits them into genus-level biome tables for downstream analysis."
   ]
  },
  {
   "cell_type": "code",
   "execution_count": 1,
   "id": "municipal-weekly",
   "metadata": {},
   "outputs": [],
   "source": [
    "from biom import Table\n",
    "from biom.util import biom_open\n",
    "from skbio import DistanceMatrix\n",
    "from os.path import abspath, join\n",
    "from qiime2 import Artifact\n",
    "from os import makedirs\n",
    "from qiime2.plugins import diversity\n",
    "from qiime2.plugins.feature_table.methods import filter_samples\n",
    "from qiime2 import Metadata\n",
    "import pandas as pd"
   ]
  },
  {
   "cell_type": "markdown",
   "id": "descending-mouth",
   "metadata": {},
   "source": [
    "### Data filepaths"
   ]
  },
  {
   "cell_type": "code",
   "execution_count": 2,
   "id": "written-impossible",
   "metadata": {},
   "outputs": [],
   "source": [
    "# get biom qza\n",
    "\n",
    "biom_fp = './data/american_gut_filtered_rarefied_table.qza' \n",
    "\n",
    "\n",
    "# get taxonomy qza\n",
    "\n",
    "tax_fp = './data/taxonomy_assignment_american_gut_rarefied.qza'\n",
    "\n",
    "\n",
    "# get metadata\n",
    "\n",
    "md_fp = './data/american_gut_filtered_metadata.txt'"
   ]
  },
  {
   "cell_type": "markdown",
   "id": "particular-thong",
   "metadata": {},
   "source": [
    "### Read in data"
   ]
  },
  {
   "cell_type": "markdown",
   "id": "opened-conversion",
   "metadata": {},
   "source": [
    "#### Biom table"
   ]
  },
  {
   "cell_type": "code",
   "execution_count": 3,
   "id": "particular-default",
   "metadata": {},
   "outputs": [],
   "source": [
    "# read biom qza into qiime2 Artifact class\n",
    "\n",
    "biom_art = Artifact.load(abspath(biom_fp))\n",
    "\n",
    "# load the qiime2 artifact into biom Table class\n",
    "\n",
    "biom = biom_art.view(Table)"
   ]
  },
  {
   "cell_type": "markdown",
   "id": "objective-starter",
   "metadata": {},
   "source": [
    "#### Taxonomy table"
   ]
  },
  {
   "cell_type": "code",
   "execution_count": 4,
   "id": "ranging-decimal",
   "metadata": {},
   "outputs": [],
   "source": [
    "# read biom tax into qiime2 Artifact class\n",
    "\n",
    "tax_art = Artifact.load(abspath(tax_fp))\n",
    "\n",
    "# read taxonomy artifact as Pandas DF\n",
    "\n",
    "tax_df = tax_art.view(pd.DataFrame)"
   ]
  },
  {
   "cell_type": "markdown",
   "id": "enhanced-insight",
   "metadata": {},
   "source": [
    "#### Metadata file"
   ]
  },
  {
   "cell_type": "code",
   "execution_count": 5,
   "id": "monetary-consumer",
   "metadata": {},
   "outputs": [],
   "source": [
    "# read in metadata\n",
    "\n",
    "metadata = Metadata.load(md_fp)"
   ]
  },
  {
   "cell_type": "markdown",
   "id": "retained-range",
   "metadata": {},
   "source": [
    "### Write separate Biom tables per genus"
   ]
  },
  {
   "cell_type": "code",
   "execution_count": 6,
   "id": "dominant-education",
   "metadata": {},
   "outputs": [],
   "source": [
    "# group all the code into a single method to facilitate rerunning\n",
    "\n",
    "def split_otu_tables_by_tax(biom_t, tax_df, output_dir,\n",
    "                            metadata,\n",
    "                            threshold=5,\n",
    "                            level=5,\n",
    "                            tax_names=['Kingdom',\n",
    "                                       'Phylum',\n",
    "                                       'Class',\n",
    "                                       'Order',\n",
    "                                       'Family', \n",
    "                                       'Genus',\n",
    "                                       'Species'],\n",
    "                            sampling_depth=5,\n",
    "                            export_viz=False):\n",
    "    # fix the taxonomy\n",
    "    tax_cols = tax_df['Taxon'].str.split('; ', expand=True)\n",
    "\n",
    "    tax_cols.columns = tax_names\n",
    "    \n",
    "    # make concatenated tax string at appropriate level\n",
    "    cat_cols = tax_names[:level+1]\n",
    "    print(cat_cols)\n",
    "    tax_str = tax_cols[cat_cols].fillna(' ').apply(lambda x: '; '.join(x), axis=1)\n",
    "    \n",
    "    # find taxa above threshold number of OTUs\n",
    "    tax_thr = pd.Series(tax_str.value_counts()).where(lambda x : x >= threshold).dropna().index\n",
    "    \n",
    "    # make output dir\n",
    "    makedirs(output_dir, exist_ok=True)\n",
    "    \n",
    "    # for each tax_thr value, filter the OTU table and write to file\n",
    "    \n",
    "    # also, make a dict of all filtered tables and keep in memory for downstream analysis\n",
    "    tax_arts = {}\n",
    "    \n",
    "    for t in tax_thr:\n",
    "        t_ids =  pd.Series(tax_str).where(lambda x : x == t).dropna().index\n",
    "        tax_otu = biom_t.filter(t_ids, axis='observation', inplace=False)\n",
    "        tax_otu.remove_empty(inplace=True)\n",
    "        \n",
    "        \n",
    "        output_f = t.replace(';','_').replace(' ','')\n",
    "        output_fn = '{0}.{1}.qza'.format(tax_names[level], output_f)\n",
    "        output_fp = join(output_dir, output_fn)\n",
    "\n",
    "        # export as q2 artifact\n",
    "        tax_art = Artifact.import_data(\"FeatureTable[Frequency]\", tax_otu)\n",
    "        tax_art.save(output_fp)\n",
    "        \n",
    "        tax_arts[t] = tax_art\n",
    "        \n",
    "        if export_viz:\n",
    "            # export the bc and jaccard emperor viz\n",
    "            (rarefied_table,\n",
    "             observed_otus_vector,\n",
    "             shannon_vector,\n",
    "             evenness_vector,\n",
    "             jaccard_distance_matrix,\n",
    "             bray_curtis_distance_matrix,\n",
    "             jaccard_pcoa_results,\n",
    "             bray_curtis_pcoa_results,\n",
    "             jaccard_emperor,\n",
    "             bray_curtis_emperor) = diversity.pipelines.core_metrics(table=tax_art, \n",
    "                                                                    sampling_depth=sampling_depth,\n",
    "                                                                    metadata=metadata)\n",
    "\n",
    "            jaccard_fp = join(output_dir, '{0}.{1}.emperor.jaccard.qzv'.format(tax_names[level], output_f))\n",
    "            bc_fp = join(output_dir, '{0}.{1}.emperor.braycurtis.qzv'.format(tax_names[level], output_f))\n",
    "            jaccard_emperor.save(jaccard_fp)\n",
    "            bray_curtis_emperor.save(bc_fp)\n",
    "\n",
    "    return(tax_arts)"
   ]
  },
  {
   "cell_type": "code",
   "execution_count": 7,
   "id": "going-category",
   "metadata": {},
   "outputs": [],
   "source": [
    "output_dir = './output/genus_asv_tables'\n",
    "\n",
    "makedirs(output_dir, exist_ok=True)"
   ]
  },
  {
   "cell_type": "code",
   "execution_count": 8,
   "id": "clinical-viewer",
   "metadata": {},
   "outputs": [
    {
     "name": "stdout",
     "output_type": "stream",
     "text": [
      "['Kingdom', 'Phylum', 'Class', 'Order', 'Family', 'Genus']\n"
     ]
    }
   ],
   "source": [
    "genus_tables = split_otu_tables_by_tax(biom,\n",
    "                                       tax_df,\n",
    "                                       output_dir,\n",
    "                                       metadata,\n",
    "                                       level=5,\n",
    "                                       threshold=5)"
   ]
  },
  {
   "cell_type": "markdown",
   "id": "national-competition",
   "metadata": {},
   "source": [
    "## Calculate Sorensen-Dice beta diversity and Host Specificity metrics"
   ]
  },
  {
   "cell_type": "code",
   "execution_count": 9,
   "id": "collect-merchant",
   "metadata": {},
   "outputs": [
    {
     "name": "stderr",
     "output_type": "stream",
     "text": [
      "/Users/jenniferhoutz/miniconda3/envs/qiime2-2021.2/lib/python3.6/site-packages/sklearn/metrics/pairwise.py:1761: DataConversionWarning: Data was converted to boolean for metric dice\n",
      "  warnings.warn(msg, DataConversionWarning)\n",
      "/Users/jenniferhoutz/miniconda3/envs/qiime2-2021.2/lib/python3.6/site-packages/sklearn/metrics/pairwise.py:1761: DataConversionWarning: Data was converted to boolean for metric dice\n",
      "  warnings.warn(msg, DataConversionWarning)\n",
      "/Users/jenniferhoutz/miniconda3/envs/qiime2-2021.2/lib/python3.6/site-packages/sklearn/metrics/pairwise.py:1761: DataConversionWarning: Data was converted to boolean for metric dice\n",
      "  warnings.warn(msg, DataConversionWarning)\n",
      "/Users/jenniferhoutz/miniconda3/envs/qiime2-2021.2/lib/python3.6/site-packages/sklearn/metrics/pairwise.py:1761: DataConversionWarning: Data was converted to boolean for metric dice\n",
      "  warnings.warn(msg, DataConversionWarning)\n",
      "/Users/jenniferhoutz/miniconda3/envs/qiime2-2021.2/lib/python3.6/site-packages/sklearn/metrics/pairwise.py:1761: DataConversionWarning: Data was converted to boolean for metric dice\n",
      "  warnings.warn(msg, DataConversionWarning)\n",
      "/Users/jenniferhoutz/miniconda3/envs/qiime2-2021.2/lib/python3.6/site-packages/sklearn/metrics/pairwise.py:1761: DataConversionWarning: Data was converted to boolean for metric dice\n",
      "  warnings.warn(msg, DataConversionWarning)\n",
      "/Users/jenniferhoutz/miniconda3/envs/qiime2-2021.2/lib/python3.6/site-packages/sklearn/metrics/pairwise.py:1761: DataConversionWarning: Data was converted to boolean for metric dice\n",
      "  warnings.warn(msg, DataConversionWarning)\n",
      "/Users/jenniferhoutz/miniconda3/envs/qiime2-2021.2/lib/python3.6/site-packages/sklearn/metrics/pairwise.py:1761: DataConversionWarning: Data was converted to boolean for metric dice\n",
      "  warnings.warn(msg, DataConversionWarning)\n",
      "/Users/jenniferhoutz/miniconda3/envs/qiime2-2021.2/lib/python3.6/site-packages/sklearn/metrics/pairwise.py:1761: DataConversionWarning: Data was converted to boolean for metric dice\n",
      "  warnings.warn(msg, DataConversionWarning)\n",
      "/Users/jenniferhoutz/miniconda3/envs/qiime2-2021.2/lib/python3.6/site-packages/sklearn/metrics/pairwise.py:1761: DataConversionWarning: Data was converted to boolean for metric dice\n",
      "  warnings.warn(msg, DataConversionWarning)\n",
      "/Users/jenniferhoutz/miniconda3/envs/qiime2-2021.2/lib/python3.6/site-packages/sklearn/metrics/pairwise.py:1761: DataConversionWarning: Data was converted to boolean for metric dice\n",
      "  warnings.warn(msg, DataConversionWarning)\n",
      "/Users/jenniferhoutz/miniconda3/envs/qiime2-2021.2/lib/python3.6/site-packages/sklearn/metrics/pairwise.py:1761: DataConversionWarning: Data was converted to boolean for metric dice\n",
      "  warnings.warn(msg, DataConversionWarning)\n",
      "/Users/jenniferhoutz/miniconda3/envs/qiime2-2021.2/lib/python3.6/site-packages/sklearn/metrics/pairwise.py:1761: DataConversionWarning: Data was converted to boolean for metric dice\n",
      "  warnings.warn(msg, DataConversionWarning)\n",
      "/Users/jenniferhoutz/miniconda3/envs/qiime2-2021.2/lib/python3.6/site-packages/sklearn/metrics/pairwise.py:1761: DataConversionWarning: Data was converted to boolean for metric dice\n",
      "  warnings.warn(msg, DataConversionWarning)\n",
      "/Users/jenniferhoutz/miniconda3/envs/qiime2-2021.2/lib/python3.6/site-packages/sklearn/metrics/pairwise.py:1761: DataConversionWarning: Data was converted to boolean for metric dice\n",
      "  warnings.warn(msg, DataConversionWarning)\n",
      "/Users/jenniferhoutz/miniconda3/envs/qiime2-2021.2/lib/python3.6/site-packages/sklearn/metrics/pairwise.py:1761: DataConversionWarning: Data was converted to boolean for metric dice\n",
      "  warnings.warn(msg, DataConversionWarning)\n",
      "/Users/jenniferhoutz/miniconda3/envs/qiime2-2021.2/lib/python3.6/site-packages/sklearn/metrics/pairwise.py:1761: DataConversionWarning: Data was converted to boolean for metric dice\n",
      "  warnings.warn(msg, DataConversionWarning)\n",
      "/Users/jenniferhoutz/miniconda3/envs/qiime2-2021.2/lib/python3.6/site-packages/sklearn/metrics/pairwise.py:1761: DataConversionWarning: Data was converted to boolean for metric dice\n",
      "  warnings.warn(msg, DataConversionWarning)\n",
      "/Users/jenniferhoutz/miniconda3/envs/qiime2-2021.2/lib/python3.6/site-packages/sklearn/metrics/pairwise.py:1761: DataConversionWarning: Data was converted to boolean for metric dice\n",
      "  warnings.warn(msg, DataConversionWarning)\n",
      "/Users/jenniferhoutz/miniconda3/envs/qiime2-2021.2/lib/python3.6/site-packages/sklearn/metrics/pairwise.py:1761: DataConversionWarning: Data was converted to boolean for metric dice\n",
      "  warnings.warn(msg, DataConversionWarning)\n",
      "/Users/jenniferhoutz/miniconda3/envs/qiime2-2021.2/lib/python3.6/site-packages/sklearn/metrics/pairwise.py:1761: DataConversionWarning: Data was converted to boolean for metric dice\n",
      "  warnings.warn(msg, DataConversionWarning)\n",
      "/Users/jenniferhoutz/miniconda3/envs/qiime2-2021.2/lib/python3.6/site-packages/sklearn/metrics/pairwise.py:1761: DataConversionWarning: Data was converted to boolean for metric dice\n",
      "  warnings.warn(msg, DataConversionWarning)\n",
      "/Users/jenniferhoutz/miniconda3/envs/qiime2-2021.2/lib/python3.6/site-packages/sklearn/metrics/pairwise.py:1761: DataConversionWarning: Data was converted to boolean for metric dice\n",
      "  warnings.warn(msg, DataConversionWarning)\n",
      "/Users/jenniferhoutz/miniconda3/envs/qiime2-2021.2/lib/python3.6/site-packages/sklearn/metrics/pairwise.py:1761: DataConversionWarning: Data was converted to boolean for metric dice\n",
      "  warnings.warn(msg, DataConversionWarning)\n",
      "/Users/jenniferhoutz/miniconda3/envs/qiime2-2021.2/lib/python3.6/site-packages/skbio/stats/distance/_permanova.py:130: RuntimeWarning: divide by zero encountered in double_scalars\n",
      "  return (s_A / (num_groups - 1)) / (s_W / (sample_size - num_groups))\n",
      "/Users/jenniferhoutz/miniconda3/envs/qiime2-2021.2/lib/python3.6/site-packages/sklearn/metrics/pairwise.py:1761: DataConversionWarning: Data was converted to boolean for metric dice\n",
      "  warnings.warn(msg, DataConversionWarning)\n",
      "/Users/jenniferhoutz/miniconda3/envs/qiime2-2021.2/lib/python3.6/site-packages/skbio/stats/distance/_permanova.py:130: RuntimeWarning: invalid value encountered in double_scalars\n",
      "  return (s_A / (num_groups - 1)) / (s_W / (sample_size - num_groups))\n",
      "/Users/jenniferhoutz/miniconda3/envs/qiime2-2021.2/lib/python3.6/site-packages/sklearn/metrics/pairwise.py:1761: DataConversionWarning: Data was converted to boolean for metric dice\n",
      "  warnings.warn(msg, DataConversionWarning)\n",
      "/Users/jenniferhoutz/miniconda3/envs/qiime2-2021.2/lib/python3.6/site-packages/sklearn/metrics/pairwise.py:1761: DataConversionWarning: Data was converted to boolean for metric dice\n",
      "  warnings.warn(msg, DataConversionWarning)\n",
      "/Users/jenniferhoutz/miniconda3/envs/qiime2-2021.2/lib/python3.6/site-packages/sklearn/metrics/pairwise.py:1761: DataConversionWarning: Data was converted to boolean for metric dice\n",
      "  warnings.warn(msg, DataConversionWarning)\n",
      "/Users/jenniferhoutz/miniconda3/envs/qiime2-2021.2/lib/python3.6/site-packages/sklearn/metrics/pairwise.py:1761: DataConversionWarning: Data was converted to boolean for metric dice\n",
      "  warnings.warn(msg, DataConversionWarning)\n",
      "/Users/jenniferhoutz/miniconda3/envs/qiime2-2021.2/lib/python3.6/site-packages/sklearn/metrics/pairwise.py:1761: DataConversionWarning: Data was converted to boolean for metric dice\n",
      "  warnings.warn(msg, DataConversionWarning)\n",
      "/Users/jenniferhoutz/miniconda3/envs/qiime2-2021.2/lib/python3.6/site-packages/sklearn/metrics/pairwise.py:1761: DataConversionWarning: Data was converted to boolean for metric dice\n",
      "  warnings.warn(msg, DataConversionWarning)\n",
      "/Users/jenniferhoutz/miniconda3/envs/qiime2-2021.2/lib/python3.6/site-packages/sklearn/metrics/pairwise.py:1761: DataConversionWarning: Data was converted to boolean for metric dice\n",
      "  warnings.warn(msg, DataConversionWarning)\n",
      "/Users/jenniferhoutz/miniconda3/envs/qiime2-2021.2/lib/python3.6/site-packages/sklearn/metrics/pairwise.py:1761: DataConversionWarning: Data was converted to boolean for metric dice\n",
      "  warnings.warn(msg, DataConversionWarning)\n"
     ]
    },
    {
     "name": "stdout",
     "output_type": "stream",
     "text": [
      "Problem with taxon k__Bacteria; p__Firmicutes; c__Erysipelotrichi; o__Erysipelotrichales; f__Erysipelotrichaceae; g__RFN20\n"
     ]
    },
    {
     "name": "stderr",
     "output_type": "stream",
     "text": [
      "/Users/jenniferhoutz/miniconda3/envs/qiime2-2021.2/lib/python3.6/site-packages/sklearn/metrics/pairwise.py:1761: DataConversionWarning: Data was converted to boolean for metric dice\n",
      "  warnings.warn(msg, DataConversionWarning)\n",
      "/Users/jenniferhoutz/miniconda3/envs/qiime2-2021.2/lib/python3.6/site-packages/skbio/stats/distance/_permanova.py:130: RuntimeWarning: invalid value encountered in double_scalars\n",
      "  return (s_A / (num_groups - 1)) / (s_W / (sample_size - num_groups))\n",
      "/Users/jenniferhoutz/miniconda3/envs/qiime2-2021.2/lib/python3.6/site-packages/sklearn/metrics/pairwise.py:1761: DataConversionWarning: Data was converted to boolean for metric dice\n",
      "  warnings.warn(msg, DataConversionWarning)\n"
     ]
    },
    {
     "name": "stdout",
     "output_type": "stream",
     "text": [
      "Problem with taxon k__Bacteria; p__Proteobacteria; c__Alphaproteobacteria; o__Rickettsiales; f__; g__\n"
     ]
    },
    {
     "name": "stderr",
     "output_type": "stream",
     "text": [
      "/Users/jenniferhoutz/miniconda3/envs/qiime2-2021.2/lib/python3.6/site-packages/sklearn/metrics/pairwise.py:1761: DataConversionWarning: Data was converted to boolean for metric dice\n",
      "  warnings.warn(msg, DataConversionWarning)\n",
      "/Users/jenniferhoutz/miniconda3/envs/qiime2-2021.2/lib/python3.6/site-packages/skbio/stats/distance/_permanova.py:130: RuntimeWarning: divide by zero encountered in double_scalars\n",
      "  return (s_A / (num_groups - 1)) / (s_W / (sample_size - num_groups))\n",
      "/Users/jenniferhoutz/miniconda3/envs/qiime2-2021.2/lib/python3.6/site-packages/sklearn/metrics/pairwise.py:1761: DataConversionWarning: Data was converted to boolean for metric dice\n",
      "  warnings.warn(msg, DataConversionWarning)\n",
      "/Users/jenniferhoutz/miniconda3/envs/qiime2-2021.2/lib/python3.6/site-packages/sklearn/metrics/pairwise.py:1761: DataConversionWarning: Data was converted to boolean for metric dice\n",
      "  warnings.warn(msg, DataConversionWarning)\n",
      "/Users/jenniferhoutz/miniconda3/envs/qiime2-2021.2/lib/python3.6/site-packages/sklearn/metrics/pairwise.py:1761: DataConversionWarning: Data was converted to boolean for metric dice\n",
      "  warnings.warn(msg, DataConversionWarning)\n",
      "/Users/jenniferhoutz/miniconda3/envs/qiime2-2021.2/lib/python3.6/site-packages/sklearn/metrics/pairwise.py:1761: DataConversionWarning: Data was converted to boolean for metric dice\n",
      "  warnings.warn(msg, DataConversionWarning)\n",
      "/Users/jenniferhoutz/miniconda3/envs/qiime2-2021.2/lib/python3.6/site-packages/sklearn/metrics/pairwise.py:1761: DataConversionWarning: Data was converted to boolean for metric dice\n",
      "  warnings.warn(msg, DataConversionWarning)\n",
      "/Users/jenniferhoutz/miniconda3/envs/qiime2-2021.2/lib/python3.6/site-packages/skbio/stats/distance/_permanova.py:130: RuntimeWarning: divide by zero encountered in double_scalars\n",
      "  return (s_A / (num_groups - 1)) / (s_W / (sample_size - num_groups))\n"
     ]
    },
    {
     "name": "stdout",
     "output_type": "stream",
     "text": [
      "Problem with taxon k__Bacteria; p__Proteobacteria; c__Alphaproteobacteria; o__Rickettsiales; f__mitochondria;  \n"
     ]
    },
    {
     "name": "stderr",
     "output_type": "stream",
     "text": [
      "/Users/jenniferhoutz/miniconda3/envs/qiime2-2021.2/lib/python3.6/site-packages/sklearn/metrics/pairwise.py:1761: DataConversionWarning: Data was converted to boolean for metric dice\n",
      "  warnings.warn(msg, DataConversionWarning)\n",
      "/Users/jenniferhoutz/miniconda3/envs/qiime2-2021.2/lib/python3.6/site-packages/sklearn/metrics/pairwise.py:1761: DataConversionWarning: Data was converted to boolean for metric dice\n",
      "  warnings.warn(msg, DataConversionWarning)\n",
      "/Users/jenniferhoutz/miniconda3/envs/qiime2-2021.2/lib/python3.6/site-packages/skbio/stats/distance/_permanova.py:130: RuntimeWarning: invalid value encountered in double_scalars\n",
      "  return (s_A / (num_groups - 1)) / (s_W / (sample_size - num_groups))\n",
      "/Users/jenniferhoutz/miniconda3/envs/qiime2-2021.2/lib/python3.6/site-packages/sklearn/metrics/pairwise.py:1761: DataConversionWarning: Data was converted to boolean for metric dice\n",
      "  warnings.warn(msg, DataConversionWarning)\n",
      "/Users/jenniferhoutz/miniconda3/envs/qiime2-2021.2/lib/python3.6/site-packages/skbio/stats/distance/_permanova.py:130: RuntimeWarning: divide by zero encountered in double_scalars\n",
      "  return (s_A / (num_groups - 1)) / (s_W / (sample_size - num_groups))\n"
     ]
    },
    {
     "name": "stdout",
     "output_type": "stream",
     "text": [
      "Problem with taxon k__Bacteria; p__Bacteroidetes; c__Bacteroidia; o__Bacteroidales; f__Rikenellaceae; g__\n"
     ]
    },
    {
     "name": "stderr",
     "output_type": "stream",
     "text": [
      "/Users/jenniferhoutz/miniconda3/envs/qiime2-2021.2/lib/python3.6/site-packages/sklearn/metrics/pairwise.py:1761: DataConversionWarning: Data was converted to boolean for metric dice\n",
      "  warnings.warn(msg, DataConversionWarning)\n",
      "/Users/jenniferhoutz/miniconda3/envs/qiime2-2021.2/lib/python3.6/site-packages/sklearn/metrics/pairwise.py:1761: DataConversionWarning: Data was converted to boolean for metric dice\n",
      "  warnings.warn(msg, DataConversionWarning)\n",
      "/Users/jenniferhoutz/miniconda3/envs/qiime2-2021.2/lib/python3.6/site-packages/skbio/stats/distance/_permanova.py:130: RuntimeWarning: divide by zero encountered in double_scalars\n",
      "  return (s_A / (num_groups - 1)) / (s_W / (sample_size - num_groups))\n",
      "/Users/jenniferhoutz/miniconda3/envs/qiime2-2021.2/lib/python3.6/site-packages/sklearn/metrics/pairwise.py:1761: DataConversionWarning: Data was converted to boolean for metric dice\n",
      "  warnings.warn(msg, DataConversionWarning)\n",
      "/Users/jenniferhoutz/miniconda3/envs/qiime2-2021.2/lib/python3.6/site-packages/sklearn/metrics/pairwise.py:1761: DataConversionWarning: Data was converted to boolean for metric dice\n",
      "  warnings.warn(msg, DataConversionWarning)\n",
      "/Users/jenniferhoutz/miniconda3/envs/qiime2-2021.2/lib/python3.6/site-packages/skbio/stats/distance/_permanova.py:130: RuntimeWarning: divide by zero encountered in double_scalars\n",
      "  return (s_A / (num_groups - 1)) / (s_W / (sample_size - num_groups))\n",
      "/Users/jenniferhoutz/miniconda3/envs/qiime2-2021.2/lib/python3.6/site-packages/sklearn/metrics/pairwise.py:1761: DataConversionWarning: Data was converted to boolean for metric dice\n",
      "  warnings.warn(msg, DataConversionWarning)\n",
      "/Users/jenniferhoutz/miniconda3/envs/qiime2-2021.2/lib/python3.6/site-packages/sklearn/metrics/pairwise.py:1761: DataConversionWarning: Data was converted to boolean for metric dice\n",
      "  warnings.warn(msg, DataConversionWarning)\n",
      "/Users/jenniferhoutz/miniconda3/envs/qiime2-2021.2/lib/python3.6/site-packages/skbio/stats/distance/_permanova.py:130: RuntimeWarning: divide by zero encountered in double_scalars\n",
      "  return (s_A / (num_groups - 1)) / (s_W / (sample_size - num_groups))\n"
     ]
    },
    {
     "name": "stdout",
     "output_type": "stream",
     "text": [
      "Problem with taxon k__Bacteria; p__Firmicutes; c__Erysipelotrichi; o__Erysipelotrichales; f__Erysipelotrichaceae; g__\n"
     ]
    },
    {
     "name": "stderr",
     "output_type": "stream",
     "text": [
      "/Users/jenniferhoutz/miniconda3/envs/qiime2-2021.2/lib/python3.6/site-packages/sklearn/metrics/pairwise.py:1761: DataConversionWarning: Data was converted to boolean for metric dice\n",
      "  warnings.warn(msg, DataConversionWarning)\n",
      "/Users/jenniferhoutz/miniconda3/envs/qiime2-2021.2/lib/python3.6/site-packages/sklearn/metrics/pairwise.py:1761: DataConversionWarning: Data was converted to boolean for metric dice\n",
      "  warnings.warn(msg, DataConversionWarning)\n",
      "/Users/jenniferhoutz/miniconda3/envs/qiime2-2021.2/lib/python3.6/site-packages/sklearn/metrics/pairwise.py:1761: DataConversionWarning: Data was converted to boolean for metric dice\n",
      "  warnings.warn(msg, DataConversionWarning)\n",
      "/Users/jenniferhoutz/miniconda3/envs/qiime2-2021.2/lib/python3.6/site-packages/skbio/stats/distance/_permanova.py:130: RuntimeWarning: divide by zero encountered in double_scalars\n",
      "  return (s_A / (num_groups - 1)) / (s_W / (sample_size - num_groups))\n",
      "/Users/jenniferhoutz/miniconda3/envs/qiime2-2021.2/lib/python3.6/site-packages/sklearn/metrics/pairwise.py:1761: DataConversionWarning: Data was converted to boolean for metric dice\n",
      "  warnings.warn(msg, DataConversionWarning)\n"
     ]
    },
    {
     "name": "stdout",
     "output_type": "stream",
     "text": [
      "Problem with taxon k__Bacteria; p__Proteobacteria;  ;  ;  ;  \n"
     ]
    },
    {
     "name": "stderr",
     "output_type": "stream",
     "text": [
      "/Users/jenniferhoutz/miniconda3/envs/qiime2-2021.2/lib/python3.6/site-packages/sklearn/metrics/pairwise.py:1761: DataConversionWarning: Data was converted to boolean for metric dice\n",
      "  warnings.warn(msg, DataConversionWarning)\n",
      "/Users/jenniferhoutz/miniconda3/envs/qiime2-2021.2/lib/python3.6/site-packages/skbio/stats/distance/_permanova.py:130: RuntimeWarning: invalid value encountered in double_scalars\n",
      "  return (s_A / (num_groups - 1)) / (s_W / (sample_size - num_groups))\n",
      "/Users/jenniferhoutz/miniconda3/envs/qiime2-2021.2/lib/python3.6/site-packages/skbio/stats/distance/_permanova.py:130: RuntimeWarning: divide by zero encountered in double_scalars\n",
      "  return (s_A / (num_groups - 1)) / (s_W / (sample_size - num_groups))\n",
      "/Users/jenniferhoutz/miniconda3/envs/qiime2-2021.2/lib/python3.6/site-packages/sklearn/metrics/pairwise.py:1761: DataConversionWarning: Data was converted to boolean for metric dice\n",
      "  warnings.warn(msg, DataConversionWarning)\n",
      "/Users/jenniferhoutz/miniconda3/envs/qiime2-2021.2/lib/python3.6/site-packages/skbio/stats/distance/_permanova.py:130: RuntimeWarning: divide by zero encountered in double_scalars\n",
      "  return (s_A / (num_groups - 1)) / (s_W / (sample_size - num_groups))\n"
     ]
    },
    {
     "name": "stdout",
     "output_type": "stream",
     "text": [
      "Problem with taxon k__Bacteria; p__Actinobacteria; c__Actinobacteria; o__Actinomycetales; f__Corynebacteriaceae; g__Corynebacterium\n"
     ]
    },
    {
     "name": "stderr",
     "output_type": "stream",
     "text": [
      "/Users/jenniferhoutz/miniconda3/envs/qiime2-2021.2/lib/python3.6/site-packages/sklearn/metrics/pairwise.py:1761: DataConversionWarning: Data was converted to boolean for metric dice\n",
      "  warnings.warn(msg, DataConversionWarning)\n",
      "/Users/jenniferhoutz/miniconda3/envs/qiime2-2021.2/lib/python3.6/site-packages/sklearn/metrics/pairwise.py:1761: DataConversionWarning: Data was converted to boolean for metric dice\n",
      "  warnings.warn(msg, DataConversionWarning)\n"
     ]
    },
    {
     "name": "stdout",
     "output_type": "stream",
     "text": [
      "Problem with taxon k__Bacteria; p__Actinobacteria; c__Actinobacteria; o__Actinomycetales;  ;  \n"
     ]
    },
    {
     "name": "stderr",
     "output_type": "stream",
     "text": [
      "/Users/jenniferhoutz/miniconda3/envs/qiime2-2021.2/lib/python3.6/site-packages/sklearn/metrics/pairwise.py:1761: DataConversionWarning: Data was converted to boolean for metric dice\n",
      "  warnings.warn(msg, DataConversionWarning)\n",
      "/Users/jenniferhoutz/miniconda3/envs/qiime2-2021.2/lib/python3.6/site-packages/skbio/stats/distance/_permanova.py:130: RuntimeWarning: divide by zero encountered in double_scalars\n",
      "  return (s_A / (num_groups - 1)) / (s_W / (sample_size - num_groups))\n",
      "/Users/jenniferhoutz/miniconda3/envs/qiime2-2021.2/lib/python3.6/site-packages/sklearn/metrics/pairwise.py:1761: DataConversionWarning: Data was converted to boolean for metric dice\n",
      "  warnings.warn(msg, DataConversionWarning)\n",
      "/Users/jenniferhoutz/miniconda3/envs/qiime2-2021.2/lib/python3.6/site-packages/skbio/stats/distance/_permanova.py:130: RuntimeWarning: invalid value encountered in double_scalars\n",
      "  return (s_A / (num_groups - 1)) / (s_W / (sample_size - num_groups))\n",
      "/Users/jenniferhoutz/miniconda3/envs/qiime2-2021.2/lib/python3.6/site-packages/skbio/stats/distance/_permanova.py:130: RuntimeWarning: divide by zero encountered in double_scalars\n",
      "  return (s_A / (num_groups - 1)) / (s_W / (sample_size - num_groups))\n",
      "/Users/jenniferhoutz/miniconda3/envs/qiime2-2021.2/lib/python3.6/site-packages/sklearn/metrics/pairwise.py:1761: DataConversionWarning: Data was converted to boolean for metric dice\n",
      "  warnings.warn(msg, DataConversionWarning)\n",
      "/Users/jenniferhoutz/miniconda3/envs/qiime2-2021.2/lib/python3.6/site-packages/sklearn/metrics/pairwise.py:1761: DataConversionWarning: Data was converted to boolean for metric dice\n",
      "  warnings.warn(msg, DataConversionWarning)\n"
     ]
    },
    {
     "name": "stdout",
     "output_type": "stream",
     "text": [
      "Problem with taxon k__Bacteria; p__Bacteroidetes; c__Bacteroidia; o__Bacteroidales; f__Porphyromonadaceae; g__Porphyromonas\n"
     ]
    },
    {
     "name": "stderr",
     "output_type": "stream",
     "text": [
      "/Users/jenniferhoutz/miniconda3/envs/qiime2-2021.2/lib/python3.6/site-packages/sklearn/metrics/pairwise.py:1761: DataConversionWarning: Data was converted to boolean for metric dice\n",
      "  warnings.warn(msg, DataConversionWarning)\n",
      "/Users/jenniferhoutz/miniconda3/envs/qiime2-2021.2/lib/python3.6/site-packages/skbio/stats/distance/_permanova.py:130: RuntimeWarning: divide by zero encountered in double_scalars\n",
      "  return (s_A / (num_groups - 1)) / (s_W / (sample_size - num_groups))\n"
     ]
    },
    {
     "name": "stdout",
     "output_type": "stream",
     "text": [
      "Problem with taxon k__Bacteria; p__Firmicutes; c__Clostridia; o__Clostridiales; f__[Tissierellaceae]; g__Anaerococcus\n"
     ]
    },
    {
     "name": "stderr",
     "output_type": "stream",
     "text": [
      "/Users/jenniferhoutz/miniconda3/envs/qiime2-2021.2/lib/python3.6/site-packages/sklearn/metrics/pairwise.py:1761: DataConversionWarning: Data was converted to boolean for metric dice\n",
      "  warnings.warn(msg, DataConversionWarning)\n",
      "/Users/jenniferhoutz/miniconda3/envs/qiime2-2021.2/lib/python3.6/site-packages/sklearn/metrics/pairwise.py:1761: DataConversionWarning: Data was converted to boolean for metric dice\n",
      "  warnings.warn(msg, DataConversionWarning)\n",
      "/Users/jenniferhoutz/miniconda3/envs/qiime2-2021.2/lib/python3.6/site-packages/sklearn/metrics/pairwise.py:1761: DataConversionWarning: Data was converted to boolean for metric dice\n",
      "  warnings.warn(msg, DataConversionWarning)\n"
     ]
    },
    {
     "name": "stdout",
     "output_type": "stream",
     "text": [
      "Problem with taxon k__Bacteria; p__Firmicutes; c__Clostridia; o__Clostridiales; f__[Tissierellaceae]; g__Peptoniphilus\n"
     ]
    },
    {
     "name": "stderr",
     "output_type": "stream",
     "text": [
      "/Users/jenniferhoutz/miniconda3/envs/qiime2-2021.2/lib/python3.6/site-packages/sklearn/metrics/pairwise.py:1761: DataConversionWarning: Data was converted to boolean for metric dice\n",
      "  warnings.warn(msg, DataConversionWarning)\n",
      "/Users/jenniferhoutz/miniconda3/envs/qiime2-2021.2/lib/python3.6/site-packages/sklearn/metrics/pairwise.py:1761: DataConversionWarning: Data was converted to boolean for metric dice\n",
      "  warnings.warn(msg, DataConversionWarning)\n"
     ]
    },
    {
     "name": "stdout",
     "output_type": "stream",
     "text": [
      "Problem with taxon k__Bacteria; p__Actinobacteria; c__Coriobacteriia; o__Coriobacteriales; f__Coriobacteriaceae; g__Atopobium\n"
     ]
    },
    {
     "name": "stderr",
     "output_type": "stream",
     "text": [
      "/Users/jenniferhoutz/miniconda3/envs/qiime2-2021.2/lib/python3.6/site-packages/sklearn/metrics/pairwise.py:1761: DataConversionWarning: Data was converted to boolean for metric dice\n",
      "  warnings.warn(msg, DataConversionWarning)\n",
      "/Users/jenniferhoutz/miniconda3/envs/qiime2-2021.2/lib/python3.6/site-packages/skbio/stats/distance/_permanova.py:130: RuntimeWarning: divide by zero encountered in double_scalars\n",
      "  return (s_A / (num_groups - 1)) / (s_W / (sample_size - num_groups))\n"
     ]
    },
    {
     "name": "stdout",
     "output_type": "stream",
     "text": [
      "Problem with taxon k__Bacteria; p__Bacteroidetes; c__Bacteroidia; o__Bacteroidales; f__[Barnesiellaceae]; g__\n"
     ]
    },
    {
     "name": "stderr",
     "output_type": "stream",
     "text": [
      "/Users/jenniferhoutz/miniconda3/envs/qiime2-2021.2/lib/python3.6/site-packages/sklearn/metrics/pairwise.py:1761: DataConversionWarning: Data was converted to boolean for metric dice\n",
      "  warnings.warn(msg, DataConversionWarning)\n",
      "/Users/jenniferhoutz/miniconda3/envs/qiime2-2021.2/lib/python3.6/site-packages/sklearn/metrics/pairwise.py:1761: DataConversionWarning: Data was converted to boolean for metric dice\n",
      "  warnings.warn(msg, DataConversionWarning)\n",
      "/Users/jenniferhoutz/miniconda3/envs/qiime2-2021.2/lib/python3.6/site-packages/skbio/stats/distance/_permanova.py:130: RuntimeWarning: divide by zero encountered in double_scalars\n",
      "  return (s_A / (num_groups - 1)) / (s_W / (sample_size - num_groups))\n",
      "/Users/jenniferhoutz/miniconda3/envs/qiime2-2021.2/lib/python3.6/site-packages/sklearn/metrics/pairwise.py:1761: DataConversionWarning: Data was converted to boolean for metric dice\n",
      "  warnings.warn(msg, DataConversionWarning)\n",
      "/Users/jenniferhoutz/miniconda3/envs/qiime2-2021.2/lib/python3.6/site-packages/skbio/stats/distance/_permanova.py:130: RuntimeWarning: divide by zero encountered in double_scalars\n",
      "  return (s_A / (num_groups - 1)) / (s_W / (sample_size - num_groups))\n",
      "/Users/jenniferhoutz/miniconda3/envs/qiime2-2021.2/lib/python3.6/site-packages/skbio/stats/distance/_permanova.py:130: RuntimeWarning: invalid value encountered in double_scalars\n",
      "  return (s_A / (num_groups - 1)) / (s_W / (sample_size - num_groups))\n"
     ]
    },
    {
     "name": "stdout",
     "output_type": "stream",
     "text": [
      "Problem with taxon k__Bacteria; p__Verrucomicrobia; c__Opitutae; o__[Cerasicoccales]; f__[Cerasicoccaceae]; g__\n"
     ]
    },
    {
     "name": "stderr",
     "output_type": "stream",
     "text": [
      "/Users/jenniferhoutz/miniconda3/envs/qiime2-2021.2/lib/python3.6/site-packages/sklearn/metrics/pairwise.py:1761: DataConversionWarning: Data was converted to boolean for metric dice\n",
      "  warnings.warn(msg, DataConversionWarning)\n"
     ]
    },
    {
     "name": "stdout",
     "output_type": "stream",
     "text": [
      "Problem with taxon k__Bacteria; p__Proteobacteria; c__Alphaproteobacteria; o__Rhizobiales;  ;  \n"
     ]
    },
    {
     "name": "stderr",
     "output_type": "stream",
     "text": [
      "/Users/jenniferhoutz/miniconda3/envs/qiime2-2021.2/lib/python3.6/site-packages/sklearn/metrics/pairwise.py:1761: DataConversionWarning: Data was converted to boolean for metric dice\n",
      "  warnings.warn(msg, DataConversionWarning)\n",
      "/Users/jenniferhoutz/miniconda3/envs/qiime2-2021.2/lib/python3.6/site-packages/sklearn/metrics/pairwise.py:1761: DataConversionWarning: Data was converted to boolean for metric dice\n",
      "  warnings.warn(msg, DataConversionWarning)\n",
      "/Users/jenniferhoutz/miniconda3/envs/qiime2-2021.2/lib/python3.6/site-packages/sklearn/metrics/pairwise.py:1761: DataConversionWarning: Data was converted to boolean for metric dice\n",
      "  warnings.warn(msg, DataConversionWarning)\n",
      "/Users/jenniferhoutz/miniconda3/envs/qiime2-2021.2/lib/python3.6/site-packages/sklearn/metrics/pairwise.py:1761: DataConversionWarning: Data was converted to boolean for metric dice\n",
      "  warnings.warn(msg, DataConversionWarning)\n",
      "/Users/jenniferhoutz/miniconda3/envs/qiime2-2021.2/lib/python3.6/site-packages/skbio/stats/distance/_permanova.py:130: RuntimeWarning: divide by zero encountered in double_scalars\n",
      "  return (s_A / (num_groups - 1)) / (s_W / (sample_size - num_groups))\n",
      "/Users/jenniferhoutz/miniconda3/envs/qiime2-2021.2/lib/python3.6/site-packages/sklearn/metrics/pairwise.py:1761: DataConversionWarning: Data was converted to boolean for metric dice\n",
      "  warnings.warn(msg, DataConversionWarning)\n"
     ]
    },
    {
     "name": "stdout",
     "output_type": "stream",
     "text": [
      "Problem with taxon k__Bacteria; p__Firmicutes; c__Bacilli; o__Bacillales; f__Paenibacillaceae; g__Paenibacillus\n"
     ]
    },
    {
     "name": "stderr",
     "output_type": "stream",
     "text": [
      "/Users/jenniferhoutz/miniconda3/envs/qiime2-2021.2/lib/python3.6/site-packages/sklearn/metrics/pairwise.py:1761: DataConversionWarning: Data was converted to boolean for metric dice\n",
      "  warnings.warn(msg, DataConversionWarning)\n",
      "/Users/jenniferhoutz/miniconda3/envs/qiime2-2021.2/lib/python3.6/site-packages/skbio/stats/distance/_permanova.py:130: RuntimeWarning: divide by zero encountered in double_scalars\n",
      "  return (s_A / (num_groups - 1)) / (s_W / (sample_size - num_groups))\n",
      "/Users/jenniferhoutz/miniconda3/envs/qiime2-2021.2/lib/python3.6/site-packages/sklearn/metrics/pairwise.py:1761: DataConversionWarning: Data was converted to boolean for metric dice\n",
      "  warnings.warn(msg, DataConversionWarning)\n"
     ]
    },
    {
     "name": "stdout",
     "output_type": "stream",
     "text": [
      "Problem with taxon k__Bacteria; p__Proteobacteria; c__Betaproteobacteria; o__Burkholderiales; f__Comamonadaceae;  \n"
     ]
    },
    {
     "name": "stderr",
     "output_type": "stream",
     "text": [
      "/Users/jenniferhoutz/miniconda3/envs/qiime2-2021.2/lib/python3.6/site-packages/sklearn/metrics/pairwise.py:1761: DataConversionWarning: Data was converted to boolean for metric dice\n",
      "  warnings.warn(msg, DataConversionWarning)\n",
      "/Users/jenniferhoutz/miniconda3/envs/qiime2-2021.2/lib/python3.6/site-packages/skbio/stats/distance/_permanova.py:130: RuntimeWarning: divide by zero encountered in double_scalars\n",
      "  return (s_A / (num_groups - 1)) / (s_W / (sample_size - num_groups))\n",
      "/Users/jenniferhoutz/miniconda3/envs/qiime2-2021.2/lib/python3.6/site-packages/sklearn/metrics/pairwise.py:1761: DataConversionWarning: Data was converted to boolean for metric dice\n",
      "  warnings.warn(msg, DataConversionWarning)\n",
      "/Users/jenniferhoutz/miniconda3/envs/qiime2-2021.2/lib/python3.6/site-packages/sklearn/metrics/pairwise.py:1761: DataConversionWarning: Data was converted to boolean for metric dice\n",
      "  warnings.warn(msg, DataConversionWarning)\n",
      "/Users/jenniferhoutz/miniconda3/envs/qiime2-2021.2/lib/python3.6/site-packages/sklearn/metrics/pairwise.py:1761: DataConversionWarning: Data was converted to boolean for metric dice\n",
      "  warnings.warn(msg, DataConversionWarning)\n",
      "/Users/jenniferhoutz/miniconda3/envs/qiime2-2021.2/lib/python3.6/site-packages/skbio/stats/distance/_permanova.py:130: RuntimeWarning: divide by zero encountered in double_scalars\n",
      "  return (s_A / (num_groups - 1)) / (s_W / (sample_size - num_groups))\n",
      "/Users/jenniferhoutz/miniconda3/envs/qiime2-2021.2/lib/python3.6/site-packages/sklearn/metrics/pairwise.py:1761: DataConversionWarning: Data was converted to boolean for metric dice\n",
      "  warnings.warn(msg, DataConversionWarning)\n"
     ]
    },
    {
     "name": "stdout",
     "output_type": "stream",
     "text": [
      "Problem with taxon k__Bacteria; p__Firmicutes; c__Bacilli; o__Lactobacillales;  ;  \n"
     ]
    },
    {
     "name": "stderr",
     "output_type": "stream",
     "text": [
      "/Users/jenniferhoutz/miniconda3/envs/qiime2-2021.2/lib/python3.6/site-packages/sklearn/metrics/pairwise.py:1761: DataConversionWarning: Data was converted to boolean for metric dice\n",
      "  warnings.warn(msg, DataConversionWarning)\n"
     ]
    },
    {
     "name": "stdout",
     "output_type": "stream",
     "text": [
      "Problem with taxon k__Bacteria; p__Firmicutes; c__Clostridia; o__Clostridiales; f__Lachnospiraceae; g__Anaerostipes\n"
     ]
    },
    {
     "name": "stderr",
     "output_type": "stream",
     "text": [
      "/Users/jenniferhoutz/miniconda3/envs/qiime2-2021.2/lib/python3.6/site-packages/sklearn/metrics/pairwise.py:1761: DataConversionWarning: Data was converted to boolean for metric dice\n",
      "  warnings.warn(msg, DataConversionWarning)\n",
      "/Users/jenniferhoutz/miniconda3/envs/qiime2-2021.2/lib/python3.6/site-packages/skbio/stats/distance/_permanova.py:130: RuntimeWarning: divide by zero encountered in double_scalars\n",
      "  return (s_A / (num_groups - 1)) / (s_W / (sample_size - num_groups))\n",
      "/Users/jenniferhoutz/miniconda3/envs/qiime2-2021.2/lib/python3.6/site-packages/sklearn/metrics/pairwise.py:1761: DataConversionWarning: Data was converted to boolean for metric dice\n",
      "  warnings.warn(msg, DataConversionWarning)\n",
      "/Users/jenniferhoutz/miniconda3/envs/qiime2-2021.2/lib/python3.6/site-packages/sklearn/metrics/pairwise.py:1761: DataConversionWarning: Data was converted to boolean for metric dice\n",
      "  warnings.warn(msg, DataConversionWarning)\n"
     ]
    },
    {
     "name": "stdout",
     "output_type": "stream",
     "text": [
      "Problem with taxon k__Bacteria; p__Firmicutes; c__Bacilli; o__Bacillales;  ;  \n"
     ]
    },
    {
     "name": "stderr",
     "output_type": "stream",
     "text": [
      "/Users/jenniferhoutz/miniconda3/envs/qiime2-2021.2/lib/python3.6/site-packages/sklearn/metrics/pairwise.py:1761: DataConversionWarning: Data was converted to boolean for metric dice\n",
      "  warnings.warn(msg, DataConversionWarning)\n",
      "/Users/jenniferhoutz/miniconda3/envs/qiime2-2021.2/lib/python3.6/site-packages/skbio/stats/distance/_permanova.py:130: RuntimeWarning: divide by zero encountered in double_scalars\n",
      "  return (s_A / (num_groups - 1)) / (s_W / (sample_size - num_groups))\n",
      "/Users/jenniferhoutz/miniconda3/envs/qiime2-2021.2/lib/python3.6/site-packages/sklearn/metrics/pairwise.py:1761: DataConversionWarning: Data was converted to boolean for metric dice\n",
      "  warnings.warn(msg, DataConversionWarning)\n"
     ]
    },
    {
     "name": "stdout",
     "output_type": "stream",
     "text": [
      "Problem with taxon k__Bacteria; p__Firmicutes; c__Clostridia; o__Clostridiales; f__Veillonellaceae; g__Veillonella\n"
     ]
    },
    {
     "name": "stderr",
     "output_type": "stream",
     "text": [
      "/Users/jenniferhoutz/miniconda3/envs/qiime2-2021.2/lib/python3.6/site-packages/sklearn/metrics/pairwise.py:1761: DataConversionWarning: Data was converted to boolean for metric dice\n",
      "  warnings.warn(msg, DataConversionWarning)\n",
      "/Users/jenniferhoutz/miniconda3/envs/qiime2-2021.2/lib/python3.6/site-packages/skbio/stats/distance/_permanova.py:130: RuntimeWarning: divide by zero encountered in double_scalars\n",
      "  return (s_A / (num_groups - 1)) / (s_W / (sample_size - num_groups))\n",
      "/Users/jenniferhoutz/miniconda3/envs/qiime2-2021.2/lib/python3.6/site-packages/sklearn/metrics/pairwise.py:1761: DataConversionWarning: Data was converted to boolean for metric dice\n",
      "  warnings.warn(msg, DataConversionWarning)\n"
     ]
    },
    {
     "name": "stdout",
     "output_type": "stream",
     "text": [
      "Problem with taxon k__Bacteria; p__Actinobacteria; c__Thermoleophilia; o__Gaiellales; f__Gaiellaceae; g__\n"
     ]
    },
    {
     "name": "stderr",
     "output_type": "stream",
     "text": [
      "/Users/jenniferhoutz/miniconda3/envs/qiime2-2021.2/lib/python3.6/site-packages/sklearn/metrics/pairwise.py:1761: DataConversionWarning: Data was converted to boolean for metric dice\n",
      "  warnings.warn(msg, DataConversionWarning)\n"
     ]
    },
    {
     "name": "stdout",
     "output_type": "stream",
     "text": [
      "Problem with taxon k__Bacteria; p__Actinobacteria; c__Actinobacteria; o__Actinomycetales; f__Actinomycetaceae; g__Actinomyces\n"
     ]
    },
    {
     "name": "stderr",
     "output_type": "stream",
     "text": [
      "/Users/jenniferhoutz/miniconda3/envs/qiime2-2021.2/lib/python3.6/site-packages/sklearn/metrics/pairwise.py:1761: DataConversionWarning: Data was converted to boolean for metric dice\n",
      "  warnings.warn(msg, DataConversionWarning)\n",
      "/Users/jenniferhoutz/miniconda3/envs/qiime2-2021.2/lib/python3.6/site-packages/skbio/stats/distance/_permanova.py:130: RuntimeWarning: divide by zero encountered in double_scalars\n",
      "  return (s_A / (num_groups - 1)) / (s_W / (sample_size - num_groups))\n",
      "/Users/jenniferhoutz/miniconda3/envs/qiime2-2021.2/lib/python3.6/site-packages/sklearn/metrics/pairwise.py:1761: DataConversionWarning: Data was converted to boolean for metric dice\n",
      "  warnings.warn(msg, DataConversionWarning)\n",
      "/Users/jenniferhoutz/miniconda3/envs/qiime2-2021.2/lib/python3.6/site-packages/sklearn/metrics/pairwise.py:1761: DataConversionWarning: Data was converted to boolean for metric dice\n",
      "  warnings.warn(msg, DataConversionWarning)\n",
      "/Users/jenniferhoutz/miniconda3/envs/qiime2-2021.2/lib/python3.6/site-packages/sklearn/metrics/pairwise.py:1761: DataConversionWarning: Data was converted to boolean for metric dice\n",
      "  warnings.warn(msg, DataConversionWarning)\n",
      "/Users/jenniferhoutz/miniconda3/envs/qiime2-2021.2/lib/python3.6/site-packages/skbio/stats/distance/_permanova.py:130: RuntimeWarning: divide by zero encountered in double_scalars\n",
      "  return (s_A / (num_groups - 1)) / (s_W / (sample_size - num_groups))\n"
     ]
    },
    {
     "name": "stdout",
     "output_type": "stream",
     "text": [
      "Problem with taxon k__Bacteria; p__Firmicutes; c__Clostridia; o__Clostridiales; f__Ruminococcaceae; g__Subdoligranulum\n"
     ]
    },
    {
     "name": "stderr",
     "output_type": "stream",
     "text": [
      "/Users/jenniferhoutz/miniconda3/envs/qiime2-2021.2/lib/python3.6/site-packages/sklearn/metrics/pairwise.py:1761: DataConversionWarning: Data was converted to boolean for metric dice\n",
      "  warnings.warn(msg, DataConversionWarning)\n",
      "/Users/jenniferhoutz/miniconda3/envs/qiime2-2021.2/lib/python3.6/site-packages/skbio/stats/distance/_permanova.py:130: RuntimeWarning: divide by zero encountered in double_scalars\n",
      "  return (s_A / (num_groups - 1)) / (s_W / (sample_size - num_groups))\n",
      "/Users/jenniferhoutz/miniconda3/envs/qiime2-2021.2/lib/python3.6/site-packages/skbio/stats/distance/_permanova.py:130: RuntimeWarning: invalid value encountered in double_scalars\n",
      "  return (s_A / (num_groups - 1)) / (s_W / (sample_size - num_groups))\n",
      "/Users/jenniferhoutz/miniconda3/envs/qiime2-2021.2/lib/python3.6/site-packages/sklearn/metrics/pairwise.py:1761: DataConversionWarning: Data was converted to boolean for metric dice\n",
      "  warnings.warn(msg, DataConversionWarning)\n",
      "/Users/jenniferhoutz/miniconda3/envs/qiime2-2021.2/lib/python3.6/site-packages/skbio/stats/distance/_permanova.py:130: RuntimeWarning: divide by zero encountered in double_scalars\n",
      "  return (s_A / (num_groups - 1)) / (s_W / (sample_size - num_groups))\n",
      "/Users/jenniferhoutz/miniconda3/envs/qiime2-2021.2/lib/python3.6/site-packages/sklearn/metrics/pairwise.py:1761: DataConversionWarning: Data was converted to boolean for metric dice\n",
      "  warnings.warn(msg, DataConversionWarning)\n",
      "/Users/jenniferhoutz/miniconda3/envs/qiime2-2021.2/lib/python3.6/site-packages/skbio/stats/distance/_permanova.py:130: RuntimeWarning: divide by zero encountered in double_scalars\n",
      "  return (s_A / (num_groups - 1)) / (s_W / (sample_size - num_groups))\n",
      "/Users/jenniferhoutz/miniconda3/envs/qiime2-2021.2/lib/python3.6/site-packages/sklearn/metrics/pairwise.py:1761: DataConversionWarning: Data was converted to boolean for metric dice\n",
      "  warnings.warn(msg, DataConversionWarning)\n",
      "/Users/jenniferhoutz/miniconda3/envs/qiime2-2021.2/lib/python3.6/site-packages/skbio/stats/distance/_permanova.py:130: RuntimeWarning: divide by zero encountered in double_scalars\n",
      "  return (s_A / (num_groups - 1)) / (s_W / (sample_size - num_groups))\n",
      "/Users/jenniferhoutz/miniconda3/envs/qiime2-2021.2/lib/python3.6/site-packages/sklearn/metrics/pairwise.py:1761: DataConversionWarning: Data was converted to boolean for metric dice\n",
      "  warnings.warn(msg, DataConversionWarning)\n",
      "/Users/jenniferhoutz/miniconda3/envs/qiime2-2021.2/lib/python3.6/site-packages/sklearn/metrics/pairwise.py:1761: DataConversionWarning: Data was converted to boolean for metric dice\n",
      "  warnings.warn(msg, DataConversionWarning)\n",
      "/Users/jenniferhoutz/miniconda3/envs/qiime2-2021.2/lib/python3.6/site-packages/skbio/stats/distance/_permanova.py:130: RuntimeWarning: divide by zero encountered in double_scalars\n",
      "  return (s_A / (num_groups - 1)) / (s_W / (sample_size - num_groups))\n",
      "/Users/jenniferhoutz/miniconda3/envs/qiime2-2021.2/lib/python3.6/site-packages/sklearn/metrics/pairwise.py:1761: DataConversionWarning: Data was converted to boolean for metric dice\n",
      "  warnings.warn(msg, DataConversionWarning)\n",
      "/Users/jenniferhoutz/miniconda3/envs/qiime2-2021.2/lib/python3.6/site-packages/skbio/stats/distance/_permanova.py:130: RuntimeWarning: divide by zero encountered in double_scalars\n",
      "  return (s_A / (num_groups - 1)) / (s_W / (sample_size - num_groups))\n"
     ]
    },
    {
     "name": "stdout",
     "output_type": "stream",
     "text": [
      "Problem with taxon k__Bacteria; p__Proteobacteria; c__Gammaproteobacteria;  ;  ;  \n"
     ]
    },
    {
     "name": "stderr",
     "output_type": "stream",
     "text": [
      "/Users/jenniferhoutz/miniconda3/envs/qiime2-2021.2/lib/python3.6/site-packages/sklearn/metrics/pairwise.py:1761: DataConversionWarning: Data was converted to boolean for metric dice\n",
      "  warnings.warn(msg, DataConversionWarning)\n",
      "/Users/jenniferhoutz/miniconda3/envs/qiime2-2021.2/lib/python3.6/site-packages/sklearn/metrics/pairwise.py:1761: DataConversionWarning: Data was converted to boolean for metric dice\n",
      "  warnings.warn(msg, DataConversionWarning)\n",
      "/Users/jenniferhoutz/miniconda3/envs/qiime2-2021.2/lib/python3.6/site-packages/skbio/stats/distance/_permanova.py:130: RuntimeWarning: divide by zero encountered in double_scalars\n",
      "  return (s_A / (num_groups - 1)) / (s_W / (sample_size - num_groups))\n"
     ]
    },
    {
     "name": "stdout",
     "output_type": "stream",
     "text": [
      "Problem with taxon k__Archaea; p__Euryarchaeota; c__Methanobacteria; o__Methanobacteriales; f__Methanobacteriaceae; g__Methanobrevibacter\n"
     ]
    },
    {
     "name": "stderr",
     "output_type": "stream",
     "text": [
      "/Users/jenniferhoutz/miniconda3/envs/qiime2-2021.2/lib/python3.6/site-packages/sklearn/metrics/pairwise.py:1761: DataConversionWarning: Data was converted to boolean for metric dice\n",
      "  warnings.warn(msg, DataConversionWarning)\n",
      "/Users/jenniferhoutz/miniconda3/envs/qiime2-2021.2/lib/python3.6/site-packages/sklearn/metrics/pairwise.py:1761: DataConversionWarning: Data was converted to boolean for metric dice\n",
      "  warnings.warn(msg, DataConversionWarning)\n",
      "/Users/jenniferhoutz/miniconda3/envs/qiime2-2021.2/lib/python3.6/site-packages/sklearn/metrics/pairwise.py:1761: DataConversionWarning: Data was converted to boolean for metric dice\n",
      "  warnings.warn(msg, DataConversionWarning)\n",
      "/Users/jenniferhoutz/miniconda3/envs/qiime2-2021.2/lib/python3.6/site-packages/skbio/stats/distance/_permanova.py:130: RuntimeWarning: divide by zero encountered in double_scalars\n",
      "  return (s_A / (num_groups - 1)) / (s_W / (sample_size - num_groups))\n",
      "/Users/jenniferhoutz/miniconda3/envs/qiime2-2021.2/lib/python3.6/site-packages/sklearn/metrics/pairwise.py:1761: DataConversionWarning: Data was converted to boolean for metric dice\n",
      "  warnings.warn(msg, DataConversionWarning)\n"
     ]
    },
    {
     "name": "stdout",
     "output_type": "stream",
     "text": [
      "Problem with taxon k__Bacteria; p__Verrucomicrobia; c__Opitutae; o__HA64; f__; g__\n"
     ]
    },
    {
     "name": "stderr",
     "output_type": "stream",
     "text": [
      "/Users/jenniferhoutz/miniconda3/envs/qiime2-2021.2/lib/python3.6/site-packages/sklearn/metrics/pairwise.py:1761: DataConversionWarning: Data was converted to boolean for metric dice\n",
      "  warnings.warn(msg, DataConversionWarning)\n"
     ]
    },
    {
     "name": "stdout",
     "output_type": "stream",
     "text": [
      "Problem with taxon k__Bacteria; p__Fusobacteria; c__Fusobacteriia; o__Fusobacteriales; f__Fusobacteriaceae; g__Fusobacterium\n"
     ]
    },
    {
     "name": "stderr",
     "output_type": "stream",
     "text": [
      "/Users/jenniferhoutz/miniconda3/envs/qiime2-2021.2/lib/python3.6/site-packages/sklearn/metrics/pairwise.py:1761: DataConversionWarning: Data was converted to boolean for metric dice\n",
      "  warnings.warn(msg, DataConversionWarning)\n",
      "/Users/jenniferhoutz/miniconda3/envs/qiime2-2021.2/lib/python3.6/site-packages/sklearn/metrics/pairwise.py:1761: DataConversionWarning: Data was converted to boolean for metric dice\n",
      "  warnings.warn(msg, DataConversionWarning)\n",
      "/Users/jenniferhoutz/miniconda3/envs/qiime2-2021.2/lib/python3.6/site-packages/skbio/stats/distance/_permanova.py:130: RuntimeWarning: divide by zero encountered in double_scalars\n",
      "  return (s_A / (num_groups - 1)) / (s_W / (sample_size - num_groups))\n",
      "/Users/jenniferhoutz/miniconda3/envs/qiime2-2021.2/lib/python3.6/site-packages/sklearn/metrics/pairwise.py:1761: DataConversionWarning: Data was converted to boolean for metric dice\n",
      "  warnings.warn(msg, DataConversionWarning)\n",
      "/Users/jenniferhoutz/miniconda3/envs/qiime2-2021.2/lib/python3.6/site-packages/sklearn/metrics/pairwise.py:1761: DataConversionWarning: Data was converted to boolean for metric dice\n",
      "  warnings.warn(msg, DataConversionWarning)\n",
      "/Users/jenniferhoutz/miniconda3/envs/qiime2-2021.2/lib/python3.6/site-packages/skbio/stats/distance/_permanova.py:130: RuntimeWarning: divide by zero encountered in double_scalars\n",
      "  return (s_A / (num_groups - 1)) / (s_W / (sample_size - num_groups))\n",
      "/Users/jenniferhoutz/miniconda3/envs/qiime2-2021.2/lib/python3.6/site-packages/sklearn/metrics/pairwise.py:1761: DataConversionWarning: Data was converted to boolean for metric dice\n",
      "  warnings.warn(msg, DataConversionWarning)\n",
      "/Users/jenniferhoutz/miniconda3/envs/qiime2-2021.2/lib/python3.6/site-packages/sklearn/metrics/pairwise.py:1761: DataConversionWarning: Data was converted to boolean for metric dice\n",
      "  warnings.warn(msg, DataConversionWarning)\n",
      "/Users/jenniferhoutz/miniconda3/envs/qiime2-2021.2/lib/python3.6/site-packages/skbio/stats/distance/_permanova.py:130: RuntimeWarning: divide by zero encountered in double_scalars\n",
      "  return (s_A / (num_groups - 1)) / (s_W / (sample_size - num_groups))\n",
      "/Users/jenniferhoutz/miniconda3/envs/qiime2-2021.2/lib/python3.6/site-packages/skbio/stats/distance/_permanova.py:130: RuntimeWarning: invalid value encountered in double_scalars\n",
      "  return (s_A / (num_groups - 1)) / (s_W / (sample_size - num_groups))\n",
      "/Users/jenniferhoutz/miniconda3/envs/qiime2-2021.2/lib/python3.6/site-packages/sklearn/metrics/pairwise.py:1761: DataConversionWarning: Data was converted to boolean for metric dice\n",
      "  warnings.warn(msg, DataConversionWarning)\n"
     ]
    },
    {
     "name": "stdout",
     "output_type": "stream",
     "text": [
      "Problem with taxon k__Bacteria; p__Proteobacteria; c__Alphaproteobacteria; o__Sphingomonadales; f__Sphingomonadaceae;  \n"
     ]
    },
    {
     "name": "stderr",
     "output_type": "stream",
     "text": [
      "/Users/jenniferhoutz/miniconda3/envs/qiime2-2021.2/lib/python3.6/site-packages/sklearn/metrics/pairwise.py:1761: DataConversionWarning: Data was converted to boolean for metric dice\n",
      "  warnings.warn(msg, DataConversionWarning)\n",
      "/Users/jenniferhoutz/miniconda3/envs/qiime2-2021.2/lib/python3.6/site-packages/skbio/stats/distance/_permanova.py:130: RuntimeWarning: divide by zero encountered in double_scalars\n",
      "  return (s_A / (num_groups - 1)) / (s_W / (sample_size - num_groups))\n",
      "/Users/jenniferhoutz/miniconda3/envs/qiime2-2021.2/lib/python3.6/site-packages/sklearn/metrics/pairwise.py:1761: DataConversionWarning: Data was converted to boolean for metric dice\n",
      "  warnings.warn(msg, DataConversionWarning)\n",
      "/Users/jenniferhoutz/miniconda3/envs/qiime2-2021.2/lib/python3.6/site-packages/skbio/stats/distance/_permanova.py:130: RuntimeWarning: invalid value encountered in double_scalars\n",
      "  return (s_A / (num_groups - 1)) / (s_W / (sample_size - num_groups))\n",
      "/Users/jenniferhoutz/miniconda3/envs/qiime2-2021.2/lib/python3.6/site-packages/skbio/stats/distance/_permanova.py:130: RuntimeWarning: divide by zero encountered in double_scalars\n",
      "  return (s_A / (num_groups - 1)) / (s_W / (sample_size - num_groups))\n",
      "/Users/jenniferhoutz/miniconda3/envs/qiime2-2021.2/lib/python3.6/site-packages/sklearn/metrics/pairwise.py:1761: DataConversionWarning: Data was converted to boolean for metric dice\n",
      "  warnings.warn(msg, DataConversionWarning)\n",
      "/Users/jenniferhoutz/miniconda3/envs/qiime2-2021.2/lib/python3.6/site-packages/skbio/stats/distance/_permanova.py:130: RuntimeWarning: divide by zero encountered in double_scalars\n",
      "  return (s_A / (num_groups - 1)) / (s_W / (sample_size - num_groups))\n",
      "/Users/jenniferhoutz/miniconda3/envs/qiime2-2021.2/lib/python3.6/site-packages/sklearn/metrics/pairwise.py:1761: DataConversionWarning: Data was converted to boolean for metric dice\n",
      "  warnings.warn(msg, DataConversionWarning)\n",
      "/Users/jenniferhoutz/miniconda3/envs/qiime2-2021.2/lib/python3.6/site-packages/skbio/stats/distance/_permanova.py:130: RuntimeWarning: divide by zero encountered in double_scalars\n",
      "  return (s_A / (num_groups - 1)) / (s_W / (sample_size - num_groups))\n"
     ]
    },
    {
     "name": "stdout",
     "output_type": "stream",
     "text": [
      "Problem with taxon k__Bacteria; p__Firmicutes; c__Clostridia; o__Clostridiales; f__Peptostreptococcaceae;  \n"
     ]
    },
    {
     "name": "stderr",
     "output_type": "stream",
     "text": [
      "/Users/jenniferhoutz/miniconda3/envs/qiime2-2021.2/lib/python3.6/site-packages/sklearn/metrics/pairwise.py:1761: DataConversionWarning: Data was converted to boolean for metric dice\n",
      "  warnings.warn(msg, DataConversionWarning)\n"
     ]
    },
    {
     "name": "stdout",
     "output_type": "stream",
     "text": [
      "Problem with taxon k__Bacteria; p__Proteobacteria; c__Alphaproteobacteria; o__Sphingomonadales; f__Sphingomonadaceae; g__Sphingomonas\n"
     ]
    },
    {
     "name": "stderr",
     "output_type": "stream",
     "text": [
      "/Users/jenniferhoutz/miniconda3/envs/qiime2-2021.2/lib/python3.6/site-packages/sklearn/metrics/pairwise.py:1761: DataConversionWarning: Data was converted to boolean for metric dice\n",
      "  warnings.warn(msg, DataConversionWarning)\n",
      "/Users/jenniferhoutz/miniconda3/envs/qiime2-2021.2/lib/python3.6/site-packages/skbio/stats/distance/_permanova.py:130: RuntimeWarning: divide by zero encountered in double_scalars\n",
      "  return (s_A / (num_groups - 1)) / (s_W / (sample_size - num_groups))\n",
      "/Users/jenniferhoutz/miniconda3/envs/qiime2-2021.2/lib/python3.6/site-packages/sklearn/metrics/pairwise.py:1761: DataConversionWarning: Data was converted to boolean for metric dice\n",
      "  warnings.warn(msg, DataConversionWarning)\n",
      "/Users/jenniferhoutz/miniconda3/envs/qiime2-2021.2/lib/python3.6/site-packages/skbio/stats/distance/_permanova.py:130: RuntimeWarning: divide by zero encountered in double_scalars\n",
      "  return (s_A / (num_groups - 1)) / (s_W / (sample_size - num_groups))\n",
      "/Users/jenniferhoutz/miniconda3/envs/qiime2-2021.2/lib/python3.6/site-packages/sklearn/metrics/pairwise.py:1761: DataConversionWarning: Data was converted to boolean for metric dice\n",
      "  warnings.warn(msg, DataConversionWarning)\n",
      "/Users/jenniferhoutz/miniconda3/envs/qiime2-2021.2/lib/python3.6/site-packages/sklearn/metrics/pairwise.py:1761: DataConversionWarning: Data was converted to boolean for metric dice\n",
      "  warnings.warn(msg, DataConversionWarning)\n",
      "/Users/jenniferhoutz/miniconda3/envs/qiime2-2021.2/lib/python3.6/site-packages/skbio/stats/distance/_permanova.py:130: RuntimeWarning: divide by zero encountered in double_scalars\n",
      "  return (s_A / (num_groups - 1)) / (s_W / (sample_size - num_groups))\n",
      "/Users/jenniferhoutz/miniconda3/envs/qiime2-2021.2/lib/python3.6/site-packages/sklearn/metrics/pairwise.py:1761: DataConversionWarning: Data was converted to boolean for metric dice\n",
      "  warnings.warn(msg, DataConversionWarning)\n",
      "/Users/jenniferhoutz/miniconda3/envs/qiime2-2021.2/lib/python3.6/site-packages/skbio/stats/distance/_permanova.py:130: RuntimeWarning: divide by zero encountered in double_scalars\n",
      "  return (s_A / (num_groups - 1)) / (s_W / (sample_size - num_groups))\n",
      "/Users/jenniferhoutz/miniconda3/envs/qiime2-2021.2/lib/python3.6/site-packages/skbio/stats/distance/_permanova.py:130: RuntimeWarning: invalid value encountered in double_scalars\n",
      "  return (s_A / (num_groups - 1)) / (s_W / (sample_size - num_groups))\n",
      "/Users/jenniferhoutz/miniconda3/envs/qiime2-2021.2/lib/python3.6/site-packages/sklearn/metrics/pairwise.py:1761: DataConversionWarning: Data was converted to boolean for metric dice\n",
      "  warnings.warn(msg, DataConversionWarning)\n",
      "/Users/jenniferhoutz/miniconda3/envs/qiime2-2021.2/lib/python3.6/site-packages/skbio/stats/distance/_permanova.py:130: RuntimeWarning: divide by zero encountered in double_scalars\n",
      "  return (s_A / (num_groups - 1)) / (s_W / (sample_size - num_groups))\n",
      "/Users/jenniferhoutz/miniconda3/envs/qiime2-2021.2/lib/python3.6/site-packages/sklearn/metrics/pairwise.py:1761: DataConversionWarning: Data was converted to boolean for metric dice\n",
      "  warnings.warn(msg, DataConversionWarning)\n",
      "/Users/jenniferhoutz/miniconda3/envs/qiime2-2021.2/lib/python3.6/site-packages/sklearn/metrics/pairwise.py:1761: DataConversionWarning: Data was converted to boolean for metric dice\n",
      "  warnings.warn(msg, DataConversionWarning)\n"
     ]
    },
    {
     "name": "stdout",
     "output_type": "stream",
     "text": [
      "Problem with taxon k__Bacteria; p__Proteobacteria; c__Gammaproteobacteria; o__Xanthomonadales; f__Sinobacteraceae; g__\n"
     ]
    },
    {
     "name": "stderr",
     "output_type": "stream",
     "text": [
      "/Users/jenniferhoutz/miniconda3/envs/qiime2-2021.2/lib/python3.6/site-packages/sklearn/metrics/pairwise.py:1761: DataConversionWarning: Data was converted to boolean for metric dice\n",
      "  warnings.warn(msg, DataConversionWarning)\n",
      "/Users/jenniferhoutz/miniconda3/envs/qiime2-2021.2/lib/python3.6/site-packages/skbio/stats/distance/_permanova.py:130: RuntimeWarning: invalid value encountered in double_scalars\n",
      "  return (s_A / (num_groups - 1)) / (s_W / (sample_size - num_groups))\n",
      "/Users/jenniferhoutz/miniconda3/envs/qiime2-2021.2/lib/python3.6/site-packages/skbio/stats/distance/_permanova.py:130: RuntimeWarning: divide by zero encountered in double_scalars\n",
      "  return (s_A / (num_groups - 1)) / (s_W / (sample_size - num_groups))\n",
      "/Users/jenniferhoutz/miniconda3/envs/qiime2-2021.2/lib/python3.6/site-packages/sklearn/metrics/pairwise.py:1761: DataConversionWarning: Data was converted to boolean for metric dice\n",
      "  warnings.warn(msg, DataConversionWarning)\n",
      "/Users/jenniferhoutz/miniconda3/envs/qiime2-2021.2/lib/python3.6/site-packages/skbio/stats/distance/_permanova.py:130: RuntimeWarning: invalid value encountered in double_scalars\n",
      "  return (s_A / (num_groups - 1)) / (s_W / (sample_size - num_groups))\n",
      "/Users/jenniferhoutz/miniconda3/envs/qiime2-2021.2/lib/python3.6/site-packages/skbio/stats/distance/_permanova.py:130: RuntimeWarning: divide by zero encountered in double_scalars\n",
      "  return (s_A / (num_groups - 1)) / (s_W / (sample_size - num_groups))\n",
      "/Users/jenniferhoutz/miniconda3/envs/qiime2-2021.2/lib/python3.6/site-packages/sklearn/metrics/pairwise.py:1761: DataConversionWarning: Data was converted to boolean for metric dice\n",
      "  warnings.warn(msg, DataConversionWarning)\n",
      "/Users/jenniferhoutz/miniconda3/envs/qiime2-2021.2/lib/python3.6/site-packages/skbio/stats/distance/_permanova.py:130: RuntimeWarning: invalid value encountered in double_scalars\n",
      "  return (s_A / (num_groups - 1)) / (s_W / (sample_size - num_groups))\n",
      "/Users/jenniferhoutz/miniconda3/envs/qiime2-2021.2/lib/python3.6/site-packages/skbio/stats/distance/_permanova.py:130: RuntimeWarning: divide by zero encountered in double_scalars\n",
      "  return (s_A / (num_groups - 1)) / (s_W / (sample_size - num_groups))\n"
     ]
    },
    {
     "name": "stdout",
     "output_type": "stream",
     "text": [
      "Problem with taxon k__Bacteria; p__Firmicutes; c__Clostridia; o__Clostridiales; f__Lachnospiraceae; g__Ruminococcus\n"
     ]
    },
    {
     "name": "stderr",
     "output_type": "stream",
     "text": [
      "/Users/jenniferhoutz/miniconda3/envs/qiime2-2021.2/lib/python3.6/site-packages/sklearn/metrics/pairwise.py:1761: DataConversionWarning: Data was converted to boolean for metric dice\n",
      "  warnings.warn(msg, DataConversionWarning)\n"
     ]
    },
    {
     "name": "stdout",
     "output_type": "stream",
     "text": [
      "Problem with taxon k__Bacteria; p__Bacteroidetes; c__Bacteroidia; o__Bacteroidales; f__[Paraprevotellaceae]; g__Paraprevotella\n"
     ]
    },
    {
     "name": "stderr",
     "output_type": "stream",
     "text": [
      "/Users/jenniferhoutz/miniconda3/envs/qiime2-2021.2/lib/python3.6/site-packages/sklearn/metrics/pairwise.py:1761: DataConversionWarning: Data was converted to boolean for metric dice\n",
      "  warnings.warn(msg, DataConversionWarning)\n",
      "/Users/jenniferhoutz/miniconda3/envs/qiime2-2021.2/lib/python3.6/site-packages/sklearn/metrics/pairwise.py:1761: DataConversionWarning: Data was converted to boolean for metric dice\n",
      "  warnings.warn(msg, DataConversionWarning)\n",
      "/Users/jenniferhoutz/miniconda3/envs/qiime2-2021.2/lib/python3.6/site-packages/skbio/stats/distance/_permanova.py:130: RuntimeWarning: divide by zero encountered in double_scalars\n",
      "  return (s_A / (num_groups - 1)) / (s_W / (sample_size - num_groups))\n"
     ]
    },
    {
     "name": "stdout",
     "output_type": "stream",
     "text": [
      "Problem with taxon k__Bacteria; p__Firmicutes; c__Bacilli;  ;  ;  \n"
     ]
    },
    {
     "name": "stderr",
     "output_type": "stream",
     "text": [
      "/Users/jenniferhoutz/miniconda3/envs/qiime2-2021.2/lib/python3.6/site-packages/sklearn/metrics/pairwise.py:1761: DataConversionWarning: Data was converted to boolean for metric dice\n",
      "  warnings.warn(msg, DataConversionWarning)\n",
      "/Users/jenniferhoutz/miniconda3/envs/qiime2-2021.2/lib/python3.6/site-packages/sklearn/metrics/pairwise.py:1761: DataConversionWarning: Data was converted to boolean for metric dice\n",
      "  warnings.warn(msg, DataConversionWarning)\n",
      "/Users/jenniferhoutz/miniconda3/envs/qiime2-2021.2/lib/python3.6/site-packages/sklearn/metrics/pairwise.py:1761: DataConversionWarning: Data was converted to boolean for metric dice\n",
      "  warnings.warn(msg, DataConversionWarning)\n",
      "/Users/jenniferhoutz/miniconda3/envs/qiime2-2021.2/lib/python3.6/site-packages/skbio/stats/distance/_permanova.py:130: RuntimeWarning: invalid value encountered in double_scalars\n",
      "  return (s_A / (num_groups - 1)) / (s_W / (sample_size - num_groups))\n",
      "/Users/jenniferhoutz/miniconda3/envs/qiime2-2021.2/lib/python3.6/site-packages/skbio/stats/distance/_permanova.py:130: RuntimeWarning: divide by zero encountered in double_scalars\n",
      "  return (s_A / (num_groups - 1)) / (s_W / (sample_size - num_groups))\n"
     ]
    },
    {
     "name": "stdout",
     "output_type": "stream",
     "text": [
      "Problem with taxon k__Bacteria; p__Firmicutes; c__Clostridia; o__Clostridiales; f__Eubacteriaceae; g__Pseudoramibacter_Eubacterium\n"
     ]
    },
    {
     "name": "stderr",
     "output_type": "stream",
     "text": [
      "/Users/jenniferhoutz/miniconda3/envs/qiime2-2021.2/lib/python3.6/site-packages/sklearn/metrics/pairwise.py:1761: DataConversionWarning: Data was converted to boolean for metric dice\n",
      "  warnings.warn(msg, DataConversionWarning)\n",
      "/Users/jenniferhoutz/miniconda3/envs/qiime2-2021.2/lib/python3.6/site-packages/skbio/stats/distance/_permanova.py:130: RuntimeWarning: invalid value encountered in double_scalars\n",
      "  return (s_A / (num_groups - 1)) / (s_W / (sample_size - num_groups))\n",
      "/Users/jenniferhoutz/miniconda3/envs/qiime2-2021.2/lib/python3.6/site-packages/skbio/stats/distance/_permanova.py:130: RuntimeWarning: divide by zero encountered in double_scalars\n",
      "  return (s_A / (num_groups - 1)) / (s_W / (sample_size - num_groups))\n",
      "/Users/jenniferhoutz/miniconda3/envs/qiime2-2021.2/lib/python3.6/site-packages/sklearn/metrics/pairwise.py:1761: DataConversionWarning: Data was converted to boolean for metric dice\n",
      "  warnings.warn(msg, DataConversionWarning)\n",
      "/Users/jenniferhoutz/miniconda3/envs/qiime2-2021.2/lib/python3.6/site-packages/skbio/stats/distance/_permanova.py:130: RuntimeWarning: divide by zero encountered in double_scalars\n",
      "  return (s_A / (num_groups - 1)) / (s_W / (sample_size - num_groups))\n",
      "/Users/jenniferhoutz/miniconda3/envs/qiime2-2021.2/lib/python3.6/site-packages/skbio/stats/distance/_permanova.py:130: RuntimeWarning: invalid value encountered in double_scalars\n",
      "  return (s_A / (num_groups - 1)) / (s_W / (sample_size - num_groups))\n",
      "/Users/jenniferhoutz/miniconda3/envs/qiime2-2021.2/lib/python3.6/site-packages/sklearn/metrics/pairwise.py:1761: DataConversionWarning: Data was converted to boolean for metric dice\n",
      "  warnings.warn(msg, DataConversionWarning)\n",
      "/Users/jenniferhoutz/miniconda3/envs/qiime2-2021.2/lib/python3.6/site-packages/skbio/stats/distance/_permanova.py:130: RuntimeWarning: invalid value encountered in double_scalars\n",
      "  return (s_A / (num_groups - 1)) / (s_W / (sample_size - num_groups))\n",
      "/Users/jenniferhoutz/miniconda3/envs/qiime2-2021.2/lib/python3.6/site-packages/skbio/stats/distance/_permanova.py:130: RuntimeWarning: divide by zero encountered in double_scalars\n",
      "  return (s_A / (num_groups - 1)) / (s_W / (sample_size - num_groups))\n"
     ]
    },
    {
     "name": "stdout",
     "output_type": "stream",
     "text": [
      "Problem with taxon k__Archaea; p__Euryarchaeota; c__Methanobacteria; o__Methanobacteriales; f__Methanobacteriaceae; g__Methanosphaera\n"
     ]
    },
    {
     "name": "stderr",
     "output_type": "stream",
     "text": [
      "/Users/jenniferhoutz/miniconda3/envs/qiime2-2021.2/lib/python3.6/site-packages/sklearn/metrics/pairwise.py:1761: DataConversionWarning: Data was converted to boolean for metric dice\n",
      "  warnings.warn(msg, DataConversionWarning)\n",
      "/Users/jenniferhoutz/miniconda3/envs/qiime2-2021.2/lib/python3.6/site-packages/skbio/stats/distance/_permanova.py:130: RuntimeWarning: divide by zero encountered in double_scalars\n",
      "  return (s_A / (num_groups - 1)) / (s_W / (sample_size - num_groups))\n"
     ]
    },
    {
     "name": "stdout",
     "output_type": "stream",
     "text": [
      "Problem with taxon k__Bacteria; p__Firmicutes; c__Clostridia; o__Clostridiales; f__Veillonellaceae; g__\n"
     ]
    },
    {
     "name": "stderr",
     "output_type": "stream",
     "text": [
      "/Users/jenniferhoutz/miniconda3/envs/qiime2-2021.2/lib/python3.6/site-packages/sklearn/metrics/pairwise.py:1761: DataConversionWarning: Data was converted to boolean for metric dice\n",
      "  warnings.warn(msg, DataConversionWarning)\n",
      "/Users/jenniferhoutz/miniconda3/envs/qiime2-2021.2/lib/python3.6/site-packages/skbio/stats/distance/_permanova.py:130: RuntimeWarning: divide by zero encountered in double_scalars\n",
      "  return (s_A / (num_groups - 1)) / (s_W / (sample_size - num_groups))\n",
      "/Users/jenniferhoutz/miniconda3/envs/qiime2-2021.2/lib/python3.6/site-packages/skbio/stats/distance/_permanova.py:130: RuntimeWarning: invalid value encountered in double_scalars\n",
      "  return (s_A / (num_groups - 1)) / (s_W / (sample_size - num_groups))\n",
      "/Users/jenniferhoutz/miniconda3/envs/qiime2-2021.2/lib/python3.6/site-packages/sklearn/metrics/pairwise.py:1761: DataConversionWarning: Data was converted to boolean for metric dice\n",
      "  warnings.warn(msg, DataConversionWarning)\n",
      "/Users/jenniferhoutz/miniconda3/envs/qiime2-2021.2/lib/python3.6/site-packages/skbio/stats/distance/_permanova.py:130: RuntimeWarning: invalid value encountered in double_scalars\n",
      "  return (s_A / (num_groups - 1)) / (s_W / (sample_size - num_groups))\n",
      "/Users/jenniferhoutz/miniconda3/envs/qiime2-2021.2/lib/python3.6/site-packages/skbio/stats/distance/_permanova.py:130: RuntimeWarning: divide by zero encountered in double_scalars\n",
      "  return (s_A / (num_groups - 1)) / (s_W / (sample_size - num_groups))\n",
      "/Users/jenniferhoutz/miniconda3/envs/qiime2-2021.2/lib/python3.6/site-packages/sklearn/metrics/pairwise.py:1761: DataConversionWarning: Data was converted to boolean for metric dice\n",
      "  warnings.warn(msg, DataConversionWarning)\n",
      "/Users/jenniferhoutz/miniconda3/envs/qiime2-2021.2/lib/python3.6/site-packages/skbio/stats/distance/_permanova.py:130: RuntimeWarning: divide by zero encountered in double_scalars\n",
      "  return (s_A / (num_groups - 1)) / (s_W / (sample_size - num_groups))\n",
      "/Users/jenniferhoutz/miniconda3/envs/qiime2-2021.2/lib/python3.6/site-packages/sklearn/metrics/pairwise.py:1761: DataConversionWarning: Data was converted to boolean for metric dice\n",
      "  warnings.warn(msg, DataConversionWarning)\n",
      "/Users/jenniferhoutz/miniconda3/envs/qiime2-2021.2/lib/python3.6/site-packages/sklearn/metrics/pairwise.py:1761: DataConversionWarning: Data was converted to boolean for metric dice\n",
      "  warnings.warn(msg, DataConversionWarning)\n",
      "/Users/jenniferhoutz/miniconda3/envs/qiime2-2021.2/lib/python3.6/site-packages/skbio/stats/distance/_permanova.py:130: RuntimeWarning: divide by zero encountered in double_scalars\n",
      "  return (s_A / (num_groups - 1)) / (s_W / (sample_size - num_groups))\n",
      "/Users/jenniferhoutz/miniconda3/envs/qiime2-2021.2/lib/python3.6/site-packages/skbio/stats/distance/_permanova.py:130: RuntimeWarning: invalid value encountered in double_scalars\n",
      "  return (s_A / (num_groups - 1)) / (s_W / (sample_size - num_groups))\n"
     ]
    },
    {
     "name": "stdout",
     "output_type": "stream",
     "text": [
      "Problem with taxon k__Bacteria; p__Firmicutes; c__Clostridia; o__Clostridiales; f__Veillonellaceae; g__Anaerovibrio\n"
     ]
    },
    {
     "name": "stderr",
     "output_type": "stream",
     "text": [
      "/Users/jenniferhoutz/miniconda3/envs/qiime2-2021.2/lib/python3.6/site-packages/sklearn/metrics/pairwise.py:1761: DataConversionWarning: Data was converted to boolean for metric dice\n",
      "  warnings.warn(msg, DataConversionWarning)\n",
      "/Users/jenniferhoutz/miniconda3/envs/qiime2-2021.2/lib/python3.6/site-packages/skbio/stats/distance/_permanova.py:130: RuntimeWarning: invalid value encountered in double_scalars\n",
      "  return (s_A / (num_groups - 1)) / (s_W / (sample_size - num_groups))\n",
      "/Users/jenniferhoutz/miniconda3/envs/qiime2-2021.2/lib/python3.6/site-packages/sklearn/metrics/pairwise.py:1761: DataConversionWarning: Data was converted to boolean for metric dice\n",
      "  warnings.warn(msg, DataConversionWarning)\n",
      "/Users/jenniferhoutz/miniconda3/envs/qiime2-2021.2/lib/python3.6/site-packages/skbio/stats/distance/_permanova.py:130: RuntimeWarning: invalid value encountered in double_scalars\n",
      "  return (s_A / (num_groups - 1)) / (s_W / (sample_size - num_groups))\n",
      "/Users/jenniferhoutz/miniconda3/envs/qiime2-2021.2/lib/python3.6/site-packages/skbio/stats/distance/_permanova.py:130: RuntimeWarning: divide by zero encountered in double_scalars\n",
      "  return (s_A / (num_groups - 1)) / (s_W / (sample_size - num_groups))\n"
     ]
    },
    {
     "name": "stdout",
     "output_type": "stream",
     "text": [
      "Problem with taxon k__Bacteria; p__Synergistetes; c__Synergistia; o__Synergistales; f__Dethiosulfovibrionaceae; g__Pyramidobacter\n"
     ]
    },
    {
     "name": "stderr",
     "output_type": "stream",
     "text": [
      "/Users/jenniferhoutz/miniconda3/envs/qiime2-2021.2/lib/python3.6/site-packages/sklearn/metrics/pairwise.py:1761: DataConversionWarning: Data was converted to boolean for metric dice\n",
      "  warnings.warn(msg, DataConversionWarning)\n",
      "/Users/jenniferhoutz/miniconda3/envs/qiime2-2021.2/lib/python3.6/site-packages/skbio/stats/distance/_permanova.py:130: RuntimeWarning: divide by zero encountered in double_scalars\n",
      "  return (s_A / (num_groups - 1)) / (s_W / (sample_size - num_groups))\n",
      "/Users/jenniferhoutz/miniconda3/envs/qiime2-2021.2/lib/python3.6/site-packages/sklearn/metrics/pairwise.py:1761: DataConversionWarning: Data was converted to boolean for metric dice\n",
      "  warnings.warn(msg, DataConversionWarning)\n",
      "/Users/jenniferhoutz/miniconda3/envs/qiime2-2021.2/lib/python3.6/site-packages/skbio/stats/distance/_permanova.py:130: RuntimeWarning: divide by zero encountered in double_scalars\n",
      "  return (s_A / (num_groups - 1)) / (s_W / (sample_size - num_groups))\n",
      "/Users/jenniferhoutz/miniconda3/envs/qiime2-2021.2/lib/python3.6/site-packages/skbio/stats/distance/_permanova.py:130: RuntimeWarning: invalid value encountered in double_scalars\n",
      "  return (s_A / (num_groups - 1)) / (s_W / (sample_size - num_groups))\n"
     ]
    },
    {
     "name": "stdout",
     "output_type": "stream",
     "text": [
      "Problem with taxon k__Bacteria; p__Firmicutes; c__Bacilli; o__Lactobacillales; f__Streptococcaceae; g__Lactococcus\n"
     ]
    },
    {
     "name": "stderr",
     "output_type": "stream",
     "text": [
      "/Users/jenniferhoutz/miniconda3/envs/qiime2-2021.2/lib/python3.6/site-packages/sklearn/metrics/pairwise.py:1761: DataConversionWarning: Data was converted to boolean for metric dice\n",
      "  warnings.warn(msg, DataConversionWarning)\n",
      "/Users/jenniferhoutz/miniconda3/envs/qiime2-2021.2/lib/python3.6/site-packages/skbio/stats/distance/_permanova.py:130: RuntimeWarning: divide by zero encountered in double_scalars\n",
      "  return (s_A / (num_groups - 1)) / (s_W / (sample_size - num_groups))\n"
     ]
    },
    {
     "name": "stdout",
     "output_type": "stream",
     "text": [
      "Problem with taxon k__Bacteria; p__Actinobacteria;  ;  ;  ;  \n"
     ]
    },
    {
     "name": "stderr",
     "output_type": "stream",
     "text": [
      "/Users/jenniferhoutz/miniconda3/envs/qiime2-2021.2/lib/python3.6/site-packages/sklearn/metrics/pairwise.py:1761: DataConversionWarning: Data was converted to boolean for metric dice\n",
      "  warnings.warn(msg, DataConversionWarning)\n",
      "/Users/jenniferhoutz/miniconda3/envs/qiime2-2021.2/lib/python3.6/site-packages/sklearn/metrics/pairwise.py:1761: DataConversionWarning: Data was converted to boolean for metric dice\n",
      "  warnings.warn(msg, DataConversionWarning)\n",
      "/Users/jenniferhoutz/miniconda3/envs/qiime2-2021.2/lib/python3.6/site-packages/sklearn/metrics/pairwise.py:1761: DataConversionWarning: Data was converted to boolean for metric dice\n",
      "  warnings.warn(msg, DataConversionWarning)\n",
      "/Users/jenniferhoutz/miniconda3/envs/qiime2-2021.2/lib/python3.6/site-packages/sklearn/metrics/pairwise.py:1761: DataConversionWarning: Data was converted to boolean for metric dice\n",
      "  warnings.warn(msg, DataConversionWarning)\n"
     ]
    },
    {
     "name": "stdout",
     "output_type": "stream",
     "text": [
      "Problem with taxon k__Bacteria; p__Firmicutes; c__Clostridia; o__Clostridiales; f__[Tissierellaceae]; g__WAL_1855D\n"
     ]
    },
    {
     "name": "stderr",
     "output_type": "stream",
     "text": [
      "/Users/jenniferhoutz/miniconda3/envs/qiime2-2021.2/lib/python3.6/site-packages/sklearn/metrics/pairwise.py:1761: DataConversionWarning: Data was converted to boolean for metric dice\n",
      "  warnings.warn(msg, DataConversionWarning)\n",
      "/Users/jenniferhoutz/miniconda3/envs/qiime2-2021.2/lib/python3.6/site-packages/sklearn/metrics/pairwise.py:1761: DataConversionWarning: Data was converted to boolean for metric dice\n",
      "  warnings.warn(msg, DataConversionWarning)\n",
      "/Users/jenniferhoutz/miniconda3/envs/qiime2-2021.2/lib/python3.6/site-packages/sklearn/metrics/pairwise.py:1761: DataConversionWarning: Data was converted to boolean for metric dice\n",
      "  warnings.warn(msg, DataConversionWarning)\n",
      "/Users/jenniferhoutz/miniconda3/envs/qiime2-2021.2/lib/python3.6/site-packages/skbio/stats/distance/_permanova.py:130: RuntimeWarning: invalid value encountered in double_scalars\n",
      "  return (s_A / (num_groups - 1)) / (s_W / (sample_size - num_groups))\n",
      "/Users/jenniferhoutz/miniconda3/envs/qiime2-2021.2/lib/python3.6/site-packages/skbio/stats/distance/_permanova.py:130: RuntimeWarning: divide by zero encountered in double_scalars\n",
      "  return (s_A / (num_groups - 1)) / (s_W / (sample_size - num_groups))\n"
     ]
    },
    {
     "name": "stdout",
     "output_type": "stream",
     "text": [
      "Problem with taxon k__Bacteria; p__Proteobacteria; c__Epsilonproteobacteria; o__Campylobacterales; f__Helicobacteraceae; g__Flexispira\n"
     ]
    },
    {
     "name": "stderr",
     "output_type": "stream",
     "text": [
      "/Users/jenniferhoutz/miniconda3/envs/qiime2-2021.2/lib/python3.6/site-packages/sklearn/metrics/pairwise.py:1761: DataConversionWarning: Data was converted to boolean for metric dice\n",
      "  warnings.warn(msg, DataConversionWarning)\n",
      "/Users/jenniferhoutz/miniconda3/envs/qiime2-2021.2/lib/python3.6/site-packages/sklearn/metrics/pairwise.py:1761: DataConversionWarning: Data was converted to boolean for metric dice\n",
      "  warnings.warn(msg, DataConversionWarning)\n",
      "/Users/jenniferhoutz/miniconda3/envs/qiime2-2021.2/lib/python3.6/site-packages/skbio/stats/distance/_permanova.py:130: RuntimeWarning: divide by zero encountered in double_scalars\n",
      "  return (s_A / (num_groups - 1)) / (s_W / (sample_size - num_groups))\n",
      "/Users/jenniferhoutz/miniconda3/envs/qiime2-2021.2/lib/python3.6/site-packages/sklearn/metrics/pairwise.py:1761: DataConversionWarning: Data was converted to boolean for metric dice\n",
      "  warnings.warn(msg, DataConversionWarning)\n",
      "/Users/jenniferhoutz/miniconda3/envs/qiime2-2021.2/lib/python3.6/site-packages/sklearn/metrics/pairwise.py:1761: DataConversionWarning: Data was converted to boolean for metric dice\n",
      "  warnings.warn(msg, DataConversionWarning)\n"
     ]
    },
    {
     "name": "stdout",
     "output_type": "stream",
     "text": [
      "Problem with taxon k__Bacteria; p__Firmicutes; c__Erysipelotrichi; o__Erysipelotrichales; f__Erysipelotrichaceae; g__Holdemania\n"
     ]
    },
    {
     "name": "stderr",
     "output_type": "stream",
     "text": [
      "/Users/jenniferhoutz/miniconda3/envs/qiime2-2021.2/lib/python3.6/site-packages/sklearn/metrics/pairwise.py:1761: DataConversionWarning: Data was converted to boolean for metric dice\n",
      "  warnings.warn(msg, DataConversionWarning)\n",
      "/Users/jenniferhoutz/miniconda3/envs/qiime2-2021.2/lib/python3.6/site-packages/sklearn/metrics/pairwise.py:1761: DataConversionWarning: Data was converted to boolean for metric dice\n",
      "  warnings.warn(msg, DataConversionWarning)\n",
      "/Users/jenniferhoutz/miniconda3/envs/qiime2-2021.2/lib/python3.6/site-packages/sklearn/metrics/pairwise.py:1761: DataConversionWarning: Data was converted to boolean for metric dice\n",
      "  warnings.warn(msg, DataConversionWarning)\n",
      "/Users/jenniferhoutz/miniconda3/envs/qiime2-2021.2/lib/python3.6/site-packages/skbio/stats/distance/_permanova.py:130: RuntimeWarning: divide by zero encountered in double_scalars\n",
      "  return (s_A / (num_groups - 1)) / (s_W / (sample_size - num_groups))\n"
     ]
    },
    {
     "name": "stdout",
     "output_type": "stream",
     "text": [
      "Problem with taxon k__Bacteria; p__Proteobacteria; c__Alphaproteobacteria; o__Rhizobiales; f__Hyphomicrobiaceae; g__Devosia\n"
     ]
    },
    {
     "name": "stderr",
     "output_type": "stream",
     "text": [
      "/Users/jenniferhoutz/miniconda3/envs/qiime2-2021.2/lib/python3.6/site-packages/sklearn/metrics/pairwise.py:1761: DataConversionWarning: Data was converted to boolean for metric dice\n",
      "  warnings.warn(msg, DataConversionWarning)\n"
     ]
    },
    {
     "name": "stdout",
     "output_type": "stream",
     "text": [
      "Problem with taxon k__Bacteria; p__Proteobacteria; c__Gammaproteobacteria; o__Xanthomonadales; f__Xanthomonadaceae;  \n"
     ]
    },
    {
     "name": "stderr",
     "output_type": "stream",
     "text": [
      "/Users/jenniferhoutz/miniconda3/envs/qiime2-2021.2/lib/python3.6/site-packages/sklearn/metrics/pairwise.py:1761: DataConversionWarning: Data was converted to boolean for metric dice\n",
      "  warnings.warn(msg, DataConversionWarning)\n",
      "/Users/jenniferhoutz/miniconda3/envs/qiime2-2021.2/lib/python3.6/site-packages/skbio/stats/distance/_permanova.py:130: RuntimeWarning: divide by zero encountered in double_scalars\n",
      "  return (s_A / (num_groups - 1)) / (s_W / (sample_size - num_groups))\n",
      "/Users/jenniferhoutz/miniconda3/envs/qiime2-2021.2/lib/python3.6/site-packages/sklearn/metrics/pairwise.py:1761: DataConversionWarning: Data was converted to boolean for metric dice\n",
      "  warnings.warn(msg, DataConversionWarning)\n",
      "/Users/jenniferhoutz/miniconda3/envs/qiime2-2021.2/lib/python3.6/site-packages/sklearn/metrics/pairwise.py:1761: DataConversionWarning: Data was converted to boolean for metric dice\n",
      "  warnings.warn(msg, DataConversionWarning)\n",
      "/Users/jenniferhoutz/miniconda3/envs/qiime2-2021.2/lib/python3.6/site-packages/skbio/stats/distance/_permanova.py:130: RuntimeWarning: divide by zero encountered in double_scalars\n",
      "  return (s_A / (num_groups - 1)) / (s_W / (sample_size - num_groups))\n",
      "/Users/jenniferhoutz/miniconda3/envs/qiime2-2021.2/lib/python3.6/site-packages/skbio/stats/distance/_permanova.py:130: RuntimeWarning: invalid value encountered in double_scalars\n",
      "  return (s_A / (num_groups - 1)) / (s_W / (sample_size - num_groups))\n"
     ]
    },
    {
     "name": "stdout",
     "output_type": "stream",
     "text": [
      "Problem with taxon k__Bacteria; p__Firmicutes; c__Bacilli; o__Lactobacillales; f__Enterococcaceae;  \n"
     ]
    },
    {
     "name": "stderr",
     "output_type": "stream",
     "text": [
      "/Users/jenniferhoutz/miniconda3/envs/qiime2-2021.2/lib/python3.6/site-packages/sklearn/metrics/pairwise.py:1761: DataConversionWarning: Data was converted to boolean for metric dice\n",
      "  warnings.warn(msg, DataConversionWarning)\n"
     ]
    },
    {
     "name": "stdout",
     "output_type": "stream",
     "text": [
      "Problem with taxon k__Bacteria; p__Bacteroidetes; c__Sphingobacteriia; o__Sphingobacteriales; f__Sphingobacteriaceae; g__Sphingobacterium\n"
     ]
    },
    {
     "name": "stderr",
     "output_type": "stream",
     "text": [
      "/Users/jenniferhoutz/miniconda3/envs/qiime2-2021.2/lib/python3.6/site-packages/sklearn/metrics/pairwise.py:1761: DataConversionWarning: Data was converted to boolean for metric dice\n",
      "  warnings.warn(msg, DataConversionWarning)\n",
      "/Users/jenniferhoutz/miniconda3/envs/qiime2-2021.2/lib/python3.6/site-packages/skbio/stats/distance/_permanova.py:130: RuntimeWarning: divide by zero encountered in double_scalars\n",
      "  return (s_A / (num_groups - 1)) / (s_W / (sample_size - num_groups))\n"
     ]
    },
    {
     "name": "stdout",
     "output_type": "stream",
     "text": [
      "Problem with taxon k__Bacteria; p__Synergistetes; c__Synergistia; o__Synergistales; f__Synergistaceae; g__\n"
     ]
    },
    {
     "name": "stderr",
     "output_type": "stream",
     "text": [
      "/Users/jenniferhoutz/miniconda3/envs/qiime2-2021.2/lib/python3.6/site-packages/sklearn/metrics/pairwise.py:1761: DataConversionWarning: Data was converted to boolean for metric dice\n",
      "  warnings.warn(msg, DataConversionWarning)\n"
     ]
    },
    {
     "name": "stdout",
     "output_type": "stream",
     "text": [
      "Problem with taxon k__Bacteria; p__Actinobacteria; c__Actinobacteria; o__Actinomycetales; f__Micrococcaceae;  \n"
     ]
    },
    {
     "name": "stderr",
     "output_type": "stream",
     "text": [
      "/Users/jenniferhoutz/miniconda3/envs/qiime2-2021.2/lib/python3.6/site-packages/sklearn/metrics/pairwise.py:1761: DataConversionWarning: Data was converted to boolean for metric dice\n",
      "  warnings.warn(msg, DataConversionWarning)\n"
     ]
    },
    {
     "name": "stdout",
     "output_type": "stream",
     "text": [
      "Problem with taxon k__Bacteria; p__Actinobacteria; c__Coriobacteriia; o__Coriobacteriales; f__Coriobacteriaceae; g__Eggerthella\n"
     ]
    },
    {
     "name": "stderr",
     "output_type": "stream",
     "text": [
      "/Users/jenniferhoutz/miniconda3/envs/qiime2-2021.2/lib/python3.6/site-packages/sklearn/metrics/pairwise.py:1761: DataConversionWarning: Data was converted to boolean for metric dice\n",
      "  warnings.warn(msg, DataConversionWarning)\n"
     ]
    },
    {
     "name": "stdout",
     "output_type": "stream",
     "text": [
      "Problem with taxon k__Bacteria; p__Proteobacteria; c__Alphaproteobacteria; o__Rhodospirillales; f__Rhodospirillaceae; g__\n"
     ]
    },
    {
     "name": "stderr",
     "output_type": "stream",
     "text": [
      "/Users/jenniferhoutz/miniconda3/envs/qiime2-2021.2/lib/python3.6/site-packages/sklearn/metrics/pairwise.py:1761: DataConversionWarning: Data was converted to boolean for metric dice\n",
      "  warnings.warn(msg, DataConversionWarning)\n"
     ]
    },
    {
     "name": "stdout",
     "output_type": "stream",
     "text": [
      "Problem with taxon k__Bacteria; p__Actinobacteria; c__Actinobacteria; o__Actinomycetales; f__Microbacteriaceae;  \n"
     ]
    },
    {
     "name": "stderr",
     "output_type": "stream",
     "text": [
      "/Users/jenniferhoutz/miniconda3/envs/qiime2-2021.2/lib/python3.6/site-packages/sklearn/metrics/pairwise.py:1761: DataConversionWarning: Data was converted to boolean for metric dice\n",
      "  warnings.warn(msg, DataConversionWarning)\n",
      "/Users/jenniferhoutz/miniconda3/envs/qiime2-2021.2/lib/python3.6/site-packages/sklearn/metrics/pairwise.py:1761: DataConversionWarning: Data was converted to boolean for metric dice\n",
      "  warnings.warn(msg, DataConversionWarning)\n",
      "/Users/jenniferhoutz/miniconda3/envs/qiime2-2021.2/lib/python3.6/site-packages/skbio/stats/distance/_permanova.py:130: RuntimeWarning: divide by zero encountered in double_scalars\n",
      "  return (s_A / (num_groups - 1)) / (s_W / (sample_size - num_groups))\n",
      "/Users/jenniferhoutz/miniconda3/envs/qiime2-2021.2/lib/python3.6/site-packages/skbio/stats/distance/_permanova.py:130: RuntimeWarning: divide by zero encountered in double_scalars\n",
      "  return (s_A / (num_groups - 1)) / (s_W / (sample_size - num_groups))\n"
     ]
    },
    {
     "name": "stdout",
     "output_type": "stream",
     "text": [
      "Problem with taxon k__Bacteria; p__Actinobacteria; c__MB-A2-108; o__0319-7L14; f__; g__\n"
     ]
    },
    {
     "name": "stderr",
     "output_type": "stream",
     "text": [
      "/Users/jenniferhoutz/miniconda3/envs/qiime2-2021.2/lib/python3.6/site-packages/sklearn/metrics/pairwise.py:1761: DataConversionWarning: Data was converted to boolean for metric dice\n",
      "  warnings.warn(msg, DataConversionWarning)\n",
      "/Users/jenniferhoutz/miniconda3/envs/qiime2-2021.2/lib/python3.6/site-packages/skbio/stats/distance/_permanova.py:130: RuntimeWarning: divide by zero encountered in double_scalars\n",
      "  return (s_A / (num_groups - 1)) / (s_W / (sample_size - num_groups))\n",
      "/Users/jenniferhoutz/miniconda3/envs/qiime2-2021.2/lib/python3.6/site-packages/sklearn/metrics/pairwise.py:1761: DataConversionWarning: Data was converted to boolean for metric dice\n",
      "  warnings.warn(msg, DataConversionWarning)\n",
      "/Users/jenniferhoutz/miniconda3/envs/qiime2-2021.2/lib/python3.6/site-packages/skbio/stats/distance/_permanova.py:130: RuntimeWarning: divide by zero encountered in double_scalars\n",
      "  return (s_A / (num_groups - 1)) / (s_W / (sample_size - num_groups))\n"
     ]
    },
    {
     "name": "stdout",
     "output_type": "stream",
     "text": [
      "Problem with taxon k__Bacteria; p__Firmicutes; c__Clostridia; o__Clostridiales; f__Ruminococcaceae; g__Anaerofilum\n"
     ]
    },
    {
     "name": "stderr",
     "output_type": "stream",
     "text": [
      "/Users/jenniferhoutz/miniconda3/envs/qiime2-2021.2/lib/python3.6/site-packages/sklearn/metrics/pairwise.py:1761: DataConversionWarning: Data was converted to boolean for metric dice\n",
      "  warnings.warn(msg, DataConversionWarning)\n",
      "/Users/jenniferhoutz/miniconda3/envs/qiime2-2021.2/lib/python3.6/site-packages/sklearn/metrics/pairwise.py:1761: DataConversionWarning: Data was converted to boolean for metric dice\n",
      "  warnings.warn(msg, DataConversionWarning)\n",
      "/Users/jenniferhoutz/miniconda3/envs/qiime2-2021.2/lib/python3.6/site-packages/skbio/stats/distance/_permanova.py:130: RuntimeWarning: invalid value encountered in double_scalars\n",
      "  return (s_A / (num_groups - 1)) / (s_W / (sample_size - num_groups))\n"
     ]
    },
    {
     "name": "stdout",
     "output_type": "stream",
     "text": [
      "Problem with taxon k__Bacteria; p__Firmicutes; c__Bacilli; o__Lactobacillales; f__Leuconostocaceae; g__Weissella\n"
     ]
    },
    {
     "name": "stderr",
     "output_type": "stream",
     "text": [
      "/Users/jenniferhoutz/miniconda3/envs/qiime2-2021.2/lib/python3.6/site-packages/sklearn/metrics/pairwise.py:1761: DataConversionWarning: Data was converted to boolean for metric dice\n",
      "  warnings.warn(msg, DataConversionWarning)\n",
      "/Users/jenniferhoutz/miniconda3/envs/qiime2-2021.2/lib/python3.6/site-packages/skbio/stats/distance/_permanova.py:130: RuntimeWarning: divide by zero encountered in double_scalars\n",
      "  return (s_A / (num_groups - 1)) / (s_W / (sample_size - num_groups))\n",
      "/Users/jenniferhoutz/miniconda3/envs/qiime2-2021.2/lib/python3.6/site-packages/sklearn/metrics/pairwise.py:1761: DataConversionWarning: Data was converted to boolean for metric dice\n",
      "  warnings.warn(msg, DataConversionWarning)\n",
      "/Users/jenniferhoutz/miniconda3/envs/qiime2-2021.2/lib/python3.6/site-packages/sklearn/metrics/pairwise.py:1761: DataConversionWarning: Data was converted to boolean for metric dice\n",
      "  warnings.warn(msg, DataConversionWarning)\n"
     ]
    },
    {
     "name": "stdout",
     "output_type": "stream",
     "text": [
      "Problem with taxon k__Bacteria; p__Actinobacteria; c__Actinobacteria; o__Actinomycetales; f__Streptomycetaceae; g__Streptomyces\n"
     ]
    },
    {
     "name": "stderr",
     "output_type": "stream",
     "text": [
      "/Users/jenniferhoutz/miniconda3/envs/qiime2-2021.2/lib/python3.6/site-packages/sklearn/metrics/pairwise.py:1761: DataConversionWarning: Data was converted to boolean for metric dice\n",
      "  warnings.warn(msg, DataConversionWarning)\n",
      "/Users/jenniferhoutz/miniconda3/envs/qiime2-2021.2/lib/python3.6/site-packages/skbio/stats/distance/_permanova.py:130: RuntimeWarning: invalid value encountered in double_scalars\n",
      "  return (s_A / (num_groups - 1)) / (s_W / (sample_size - num_groups))\n",
      "/Users/jenniferhoutz/miniconda3/envs/qiime2-2021.2/lib/python3.6/site-packages/sklearn/metrics/pairwise.py:1761: DataConversionWarning: Data was converted to boolean for metric dice\n",
      "  warnings.warn(msg, DataConversionWarning)\n"
     ]
    },
    {
     "name": "stdout",
     "output_type": "stream",
     "text": [
      "Problem with taxon k__Bacteria; p__Proteobacteria; c__Alphaproteobacteria; o__Rhizobiales; f__Methylocystaceae; g__\n"
     ]
    },
    {
     "name": "stderr",
     "output_type": "stream",
     "text": [
      "/Users/jenniferhoutz/miniconda3/envs/qiime2-2021.2/lib/python3.6/site-packages/sklearn/metrics/pairwise.py:1761: DataConversionWarning: Data was converted to boolean for metric dice\n",
      "  warnings.warn(msg, DataConversionWarning)\n",
      "/Users/jenniferhoutz/miniconda3/envs/qiime2-2021.2/lib/python3.6/site-packages/skbio/stats/distance/_permanova.py:130: RuntimeWarning: divide by zero encountered in double_scalars\n",
      "  return (s_A / (num_groups - 1)) / (s_W / (sample_size - num_groups))\n",
      "/Users/jenniferhoutz/miniconda3/envs/qiime2-2021.2/lib/python3.6/site-packages/sklearn/metrics/pairwise.py:1761: DataConversionWarning: Data was converted to boolean for metric dice\n",
      "  warnings.warn(msg, DataConversionWarning)\n",
      "/Users/jenniferhoutz/miniconda3/envs/qiime2-2021.2/lib/python3.6/site-packages/skbio/stats/distance/_permanova.py:130: RuntimeWarning: invalid value encountered in double_scalars\n",
      "  return (s_A / (num_groups - 1)) / (s_W / (sample_size - num_groups))\n"
     ]
    },
    {
     "name": "stdout",
     "output_type": "stream",
     "text": [
      "Problem with taxon k__Bacteria; p__Firmicutes; c__Clostridia; o__Clostridiales; f__Lachnospiraceae; g__Lachnobacterium\n"
     ]
    },
    {
     "name": "stderr",
     "output_type": "stream",
     "text": [
      "/Users/jenniferhoutz/miniconda3/envs/qiime2-2021.2/lib/python3.6/site-packages/sklearn/metrics/pairwise.py:1761: DataConversionWarning: Data was converted to boolean for metric dice\n",
      "  warnings.warn(msg, DataConversionWarning)\n"
     ]
    },
    {
     "name": "stdout",
     "output_type": "stream",
     "text": [
      "Problem with taxon k__Bacteria; p__Proteobacteria; c__Alphaproteobacteria; o__Rhizobiales; f__Methylobacteriaceae; g__Methylobacterium\n"
     ]
    },
    {
     "name": "stderr",
     "output_type": "stream",
     "text": [
      "/Users/jenniferhoutz/miniconda3/envs/qiime2-2021.2/lib/python3.6/site-packages/sklearn/metrics/pairwise.py:1761: DataConversionWarning: Data was converted to boolean for metric dice\n",
      "  warnings.warn(msg, DataConversionWarning)\n",
      "/Users/jenniferhoutz/miniconda3/envs/qiime2-2021.2/lib/python3.6/site-packages/skbio/stats/distance/_permanova.py:130: RuntimeWarning: invalid value encountered in double_scalars\n",
      "  return (s_A / (num_groups - 1)) / (s_W / (sample_size - num_groups))\n",
      "/Users/jenniferhoutz/miniconda3/envs/qiime2-2021.2/lib/python3.6/site-packages/skbio/stats/distance/_permanova.py:130: RuntimeWarning: divide by zero encountered in double_scalars\n",
      "  return (s_A / (num_groups - 1)) / (s_W / (sample_size - num_groups))\n",
      "/Users/jenniferhoutz/miniconda3/envs/qiime2-2021.2/lib/python3.6/site-packages/sklearn/metrics/pairwise.py:1761: DataConversionWarning: Data was converted to boolean for metric dice\n",
      "  warnings.warn(msg, DataConversionWarning)\n",
      "/Users/jenniferhoutz/miniconda3/envs/qiime2-2021.2/lib/python3.6/site-packages/sklearn/metrics/pairwise.py:1761: DataConversionWarning: Data was converted to boolean for metric dice\n",
      "  warnings.warn(msg, DataConversionWarning)\n",
      "/Users/jenniferhoutz/miniconda3/envs/qiime2-2021.2/lib/python3.6/site-packages/sklearn/metrics/pairwise.py:1761: DataConversionWarning: Data was converted to boolean for metric dice\n",
      "  warnings.warn(msg, DataConversionWarning)\n",
      "/Users/jenniferhoutz/miniconda3/envs/qiime2-2021.2/lib/python3.6/site-packages/skbio/stats/distance/_permanova.py:130: RuntimeWarning: invalid value encountered in double_scalars\n",
      "  return (s_A / (num_groups - 1)) / (s_W / (sample_size - num_groups))\n",
      "/Users/jenniferhoutz/miniconda3/envs/qiime2-2021.2/lib/python3.6/site-packages/skbio/stats/distance/_permanova.py:130: RuntimeWarning: divide by zero encountered in double_scalars\n",
      "  return (s_A / (num_groups - 1)) / (s_W / (sample_size - num_groups))\n",
      "/Users/jenniferhoutz/miniconda3/envs/qiime2-2021.2/lib/python3.6/site-packages/sklearn/metrics/pairwise.py:1761: DataConversionWarning: Data was converted to boolean for metric dice\n",
      "  warnings.warn(msg, DataConversionWarning)\n",
      "/Users/jenniferhoutz/miniconda3/envs/qiime2-2021.2/lib/python3.6/site-packages/sklearn/metrics/pairwise.py:1761: DataConversionWarning: Data was converted to boolean for metric dice\n",
      "  warnings.warn(msg, DataConversionWarning)\n"
     ]
    },
    {
     "name": "stdout",
     "output_type": "stream",
     "text": [
      "Problem with taxon k__Bacteria; p__Planctomycetes; c__Planctomycetia; o__Gemmatales; f__Gemmataceae; g__\n"
     ]
    },
    {
     "name": "stderr",
     "output_type": "stream",
     "text": [
      "/Users/jenniferhoutz/miniconda3/envs/qiime2-2021.2/lib/python3.6/site-packages/sklearn/metrics/pairwise.py:1761: DataConversionWarning: Data was converted to boolean for metric dice\n",
      "  warnings.warn(msg, DataConversionWarning)\n"
     ]
    },
    {
     "name": "stdout",
     "output_type": "stream",
     "text": [
      "Problem with taxon k__Bacteria; p__Actinobacteria; c__Actinobacteria; o__Actinomycetales; f__Micrococcaceae; g__Arthrobacter\n"
     ]
    },
    {
     "name": "stderr",
     "output_type": "stream",
     "text": [
      "/Users/jenniferhoutz/miniconda3/envs/qiime2-2021.2/lib/python3.6/site-packages/sklearn/metrics/pairwise.py:1761: DataConversionWarning: Data was converted to boolean for metric dice\n",
      "  warnings.warn(msg, DataConversionWarning)\n"
     ]
    },
    {
     "name": "stdout",
     "output_type": "stream",
     "text": [
      "Problem with taxon k__Bacteria; p__Actinobacteria; c__Actinobacteria; o__Actinomycetales; f__Micromonosporaceae;  \n"
     ]
    },
    {
     "name": "stderr",
     "output_type": "stream",
     "text": [
      "/Users/jenniferhoutz/miniconda3/envs/qiime2-2021.2/lib/python3.6/site-packages/sklearn/metrics/pairwise.py:1761: DataConversionWarning: Data was converted to boolean for metric dice\n",
      "  warnings.warn(msg, DataConversionWarning)\n"
     ]
    },
    {
     "name": "stdout",
     "output_type": "stream",
     "text": [
      "Problem with taxon k__Bacteria; p__Firmicutes; c__Clostridia; o__Clostridiales; f__Clostridiaceae; g__02d06\n"
     ]
    },
    {
     "name": "stderr",
     "output_type": "stream",
     "text": [
      "/Users/jenniferhoutz/miniconda3/envs/qiime2-2021.2/lib/python3.6/site-packages/sklearn/metrics/pairwise.py:1761: DataConversionWarning: Data was converted to boolean for metric dice\n",
      "  warnings.warn(msg, DataConversionWarning)\n"
     ]
    },
    {
     "name": "stdout",
     "output_type": "stream",
     "text": [
      "Problem with taxon k__Bacteria; p__Bacteroidetes; c__Flavobacteriia; o__Flavobacteriales; f__[Weeksellaceae]; g__Wautersiella\n"
     ]
    },
    {
     "name": "stderr",
     "output_type": "stream",
     "text": [
      "/Users/jenniferhoutz/miniconda3/envs/qiime2-2021.2/lib/python3.6/site-packages/sklearn/metrics/pairwise.py:1761: DataConversionWarning: Data was converted to boolean for metric dice\n",
      "  warnings.warn(msg, DataConversionWarning)\n",
      "/Users/jenniferhoutz/miniconda3/envs/qiime2-2021.2/lib/python3.6/site-packages/sklearn/metrics/pairwise.py:1761: DataConversionWarning: Data was converted to boolean for metric dice\n",
      "  warnings.warn(msg, DataConversionWarning)\n"
     ]
    },
    {
     "name": "stdout",
     "output_type": "stream",
     "text": [
      "Problem with taxon k__Bacteria; p__Planctomycetes; c__Planctomycetia; o__Gemmatales; f__Isosphaeraceae; g__\n"
     ]
    },
    {
     "name": "stderr",
     "output_type": "stream",
     "text": [
      "/Users/jenniferhoutz/miniconda3/envs/qiime2-2021.2/lib/python3.6/site-packages/skbio/stats/distance/_permanova.py:130: RuntimeWarning: divide by zero encountered in double_scalars\n",
      "  return (s_A / (num_groups - 1)) / (s_W / (sample_size - num_groups))\n"
     ]
    },
    {
     "name": "stdout",
     "output_type": "stream",
     "text": [
      "Problem with taxon k__Bacteria; p__Firmicutes; c__Clostridia; o__Clostridiales; f__Ruminococcaceae; g__Sporobacter\n"
     ]
    },
    {
     "name": "stderr",
     "output_type": "stream",
     "text": [
      "/Users/jenniferhoutz/miniconda3/envs/qiime2-2021.2/lib/python3.6/site-packages/sklearn/metrics/pairwise.py:1761: DataConversionWarning: Data was converted to boolean for metric dice\n",
      "  warnings.warn(msg, DataConversionWarning)\n"
     ]
    },
    {
     "name": "stdout",
     "output_type": "stream",
     "text": [
      "Problem with taxon k__Bacteria; p__Actinobacteria; c__Actinobacteria; o__Actinomycetales; f__; g__\n"
     ]
    },
    {
     "name": "stderr",
     "output_type": "stream",
     "text": [
      "/Users/jenniferhoutz/miniconda3/envs/qiime2-2021.2/lib/python3.6/site-packages/sklearn/metrics/pairwise.py:1761: DataConversionWarning: Data was converted to boolean for metric dice\n",
      "  warnings.warn(msg, DataConversionWarning)\n"
     ]
    },
    {
     "name": "stdout",
     "output_type": "stream",
     "text": [
      "Problem with taxon k__Bacteria; p__Proteobacteria; c__Alphaproteobacteria; o__Sphingomonadales; f__Sphingomonadaceae; g__Kaistobacter\n"
     ]
    },
    {
     "name": "stderr",
     "output_type": "stream",
     "text": [
      "/Users/jenniferhoutz/miniconda3/envs/qiime2-2021.2/lib/python3.6/site-packages/sklearn/metrics/pairwise.py:1761: DataConversionWarning: Data was converted to boolean for metric dice\n",
      "  warnings.warn(msg, DataConversionWarning)\n"
     ]
    },
    {
     "name": "stdout",
     "output_type": "stream",
     "text": [
      "Problem with taxon k__Bacteria; p__Firmicutes; c__Erysipelotrichi; o__Erysipelotrichales; f__Erysipelotrichaceae; g__cc_115\n"
     ]
    },
    {
     "name": "stderr",
     "output_type": "stream",
     "text": [
      "/Users/jenniferhoutz/miniconda3/envs/qiime2-2021.2/lib/python3.6/site-packages/sklearn/metrics/pairwise.py:1761: DataConversionWarning: Data was converted to boolean for metric dice\n",
      "  warnings.warn(msg, DataConversionWarning)\n",
      "/Users/jenniferhoutz/miniconda3/envs/qiime2-2021.2/lib/python3.6/site-packages/skbio/stats/distance/_permanova.py:130: RuntimeWarning: divide by zero encountered in double_scalars\n",
      "  return (s_A / (num_groups - 1)) / (s_W / (sample_size - num_groups))\n",
      "/Users/jenniferhoutz/miniconda3/envs/qiime2-2021.2/lib/python3.6/site-packages/sklearn/metrics/pairwise.py:1761: DataConversionWarning: Data was converted to boolean for metric dice\n",
      "  warnings.warn(msg, DataConversionWarning)\n",
      "/Users/jenniferhoutz/miniconda3/envs/qiime2-2021.2/lib/python3.6/site-packages/skbio/stats/distance/_permanova.py:130: RuntimeWarning: divide by zero encountered in double_scalars\n",
      "  return (s_A / (num_groups - 1)) / (s_W / (sample_size - num_groups))\n",
      "/Users/jenniferhoutz/miniconda3/envs/qiime2-2021.2/lib/python3.6/site-packages/skbio/stats/distance/_permanova.py:130: RuntimeWarning: invalid value encountered in double_scalars\n",
      "  return (s_A / (num_groups - 1)) / (s_W / (sample_size - num_groups))\n",
      "/Users/jenniferhoutz/miniconda3/envs/qiime2-2021.2/lib/python3.6/site-packages/sklearn/metrics/pairwise.py:1761: DataConversionWarning: Data was converted to boolean for metric dice\n",
      "  warnings.warn(msg, DataConversionWarning)\n",
      "/Users/jenniferhoutz/miniconda3/envs/qiime2-2021.2/lib/python3.6/site-packages/sklearn/metrics/pairwise.py:1761: DataConversionWarning: Data was converted to boolean for metric dice\n",
      "  warnings.warn(msg, DataConversionWarning)\n",
      "/Users/jenniferhoutz/miniconda3/envs/qiime2-2021.2/lib/python3.6/site-packages/sklearn/metrics/pairwise.py:1761: DataConversionWarning: Data was converted to boolean for metric dice\n",
      "  warnings.warn(msg, DataConversionWarning)\n",
      "/Users/jenniferhoutz/miniconda3/envs/qiime2-2021.2/lib/python3.6/site-packages/skbio/stats/distance/_permanova.py:130: RuntimeWarning: divide by zero encountered in double_scalars\n",
      "  return (s_A / (num_groups - 1)) / (s_W / (sample_size - num_groups))\n",
      "/Users/jenniferhoutz/miniconda3/envs/qiime2-2021.2/lib/python3.6/site-packages/sklearn/metrics/pairwise.py:1761: DataConversionWarning: Data was converted to boolean for metric dice\n",
      "  warnings.warn(msg, DataConversionWarning)\n",
      "/Users/jenniferhoutz/miniconda3/envs/qiime2-2021.2/lib/python3.6/site-packages/skbio/stats/distance/_permanova.py:130: RuntimeWarning: divide by zero encountered in double_scalars\n",
      "  return (s_A / (num_groups - 1)) / (s_W / (sample_size - num_groups))\n",
      "/Users/jenniferhoutz/miniconda3/envs/qiime2-2021.2/lib/python3.6/site-packages/skbio/stats/distance/_permanova.py:130: RuntimeWarning: invalid value encountered in double_scalars\n",
      "  return (s_A / (num_groups - 1)) / (s_W / (sample_size - num_groups))\n",
      "/Users/jenniferhoutz/miniconda3/envs/qiime2-2021.2/lib/python3.6/site-packages/sklearn/metrics/pairwise.py:1761: DataConversionWarning: Data was converted to boolean for metric dice\n",
      "  warnings.warn(msg, DataConversionWarning)\n",
      "/Users/jenniferhoutz/miniconda3/envs/qiime2-2021.2/lib/python3.6/site-packages/skbio/stats/distance/_permanova.py:130: RuntimeWarning: divide by zero encountered in double_scalars\n",
      "  return (s_A / (num_groups - 1)) / (s_W / (sample_size - num_groups))\n",
      "/Users/jenniferhoutz/miniconda3/envs/qiime2-2021.2/lib/python3.6/site-packages/sklearn/metrics/pairwise.py:1761: DataConversionWarning: Data was converted to boolean for metric dice\n",
      "  warnings.warn(msg, DataConversionWarning)\n",
      "/Users/jenniferhoutz/miniconda3/envs/qiime2-2021.2/lib/python3.6/site-packages/skbio/stats/distance/_permanova.py:130: RuntimeWarning: invalid value encountered in double_scalars\n",
      "  return (s_A / (num_groups - 1)) / (s_W / (sample_size - num_groups))\n",
      "/Users/jenniferhoutz/miniconda3/envs/qiime2-2021.2/lib/python3.6/site-packages/sklearn/metrics/pairwise.py:1761: DataConversionWarning: Data was converted to boolean for metric dice\n",
      "  warnings.warn(msg, DataConversionWarning)\n",
      "/Users/jenniferhoutz/miniconda3/envs/qiime2-2021.2/lib/python3.6/site-packages/sklearn/metrics/pairwise.py:1761: DataConversionWarning: Data was converted to boolean for metric dice\n",
      "  warnings.warn(msg, DataConversionWarning)\n"
     ]
    },
    {
     "name": "stdout",
     "output_type": "stream",
     "text": [
      "Problem with taxon k__Bacteria; p__Actinobacteria; c__Actinobacteria; o__Actinomycetales; f__Frankiaceae; g__\n"
     ]
    },
    {
     "name": "stderr",
     "output_type": "stream",
     "text": [
      "/Users/jenniferhoutz/miniconda3/envs/qiime2-2021.2/lib/python3.6/site-packages/sklearn/metrics/pairwise.py:1761: DataConversionWarning: Data was converted to boolean for metric dice\n",
      "  warnings.warn(msg, DataConversionWarning)\n",
      "/Users/jenniferhoutz/miniconda3/envs/qiime2-2021.2/lib/python3.6/site-packages/skbio/stats/distance/_permanova.py:130: RuntimeWarning: invalid value encountered in double_scalars\n",
      "  return (s_A / (num_groups - 1)) / (s_W / (sample_size - num_groups))\n",
      "/Users/jenniferhoutz/miniconda3/envs/qiime2-2021.2/lib/python3.6/site-packages/sklearn/metrics/pairwise.py:1761: DataConversionWarning: Data was converted to boolean for metric dice\n",
      "  warnings.warn(msg, DataConversionWarning)\n",
      "/Users/jenniferhoutz/miniconda3/envs/qiime2-2021.2/lib/python3.6/site-packages/skbio/stats/distance/_permanova.py:130: RuntimeWarning: invalid value encountered in double_scalars\n",
      "  return (s_A / (num_groups - 1)) / (s_W / (sample_size - num_groups))\n",
      "/Users/jenniferhoutz/miniconda3/envs/qiime2-2021.2/lib/python3.6/site-packages/skbio/stats/distance/_permanova.py:130: RuntimeWarning: divide by zero encountered in double_scalars\n",
      "  return (s_A / (num_groups - 1)) / (s_W / (sample_size - num_groups))\n"
     ]
    },
    {
     "name": "stdout",
     "output_type": "stream",
     "text": [
      "Problem with taxon k__Bacteria; p__Actinobacteria; c__Actinobacteria; o__Actinomycetales; f__Nocardioidaceae; g__Nocardioides\n"
     ]
    },
    {
     "name": "stderr",
     "output_type": "stream",
     "text": [
      "/Users/jenniferhoutz/miniconda3/envs/qiime2-2021.2/lib/python3.6/site-packages/sklearn/metrics/pairwise.py:1761: DataConversionWarning: Data was converted to boolean for metric dice\n",
      "  warnings.warn(msg, DataConversionWarning)\n"
     ]
    },
    {
     "name": "stdout",
     "output_type": "stream",
     "text": [
      "Problem with taxon k__Bacteria; p__Acidobacteria; c__Acidobacteria-6; o__iii1-15; f__mb2424; g__\n"
     ]
    },
    {
     "name": "stderr",
     "output_type": "stream",
     "text": [
      "/Users/jenniferhoutz/miniconda3/envs/qiime2-2021.2/lib/python3.6/site-packages/sklearn/metrics/pairwise.py:1761: DataConversionWarning: Data was converted to boolean for metric dice\n",
      "  warnings.warn(msg, DataConversionWarning)\n",
      "/Users/jenniferhoutz/miniconda3/envs/qiime2-2021.2/lib/python3.6/site-packages/sklearn/metrics/pairwise.py:1761: DataConversionWarning: Data was converted to boolean for metric dice\n",
      "  warnings.warn(msg, DataConversionWarning)\n",
      "/Users/jenniferhoutz/miniconda3/envs/qiime2-2021.2/lib/python3.6/site-packages/sklearn/metrics/pairwise.py:1761: DataConversionWarning: Data was converted to boolean for metric dice\n",
      "  warnings.warn(msg, DataConversionWarning)\n"
     ]
    },
    {
     "name": "stdout",
     "output_type": "stream",
     "text": [
      "Problem with taxon k__Bacteria; p__Verrucomicrobia; c__[Spartobacteria]; o__[Chthoniobacterales]; f__[Chthoniobacteraceae]; g__DA101\n"
     ]
    },
    {
     "name": "stderr",
     "output_type": "stream",
     "text": [
      "/Users/jenniferhoutz/miniconda3/envs/qiime2-2021.2/lib/python3.6/site-packages/sklearn/metrics/pairwise.py:1761: DataConversionWarning: Data was converted to boolean for metric dice\n",
      "  warnings.warn(msg, DataConversionWarning)\n",
      "/Users/jenniferhoutz/miniconda3/envs/qiime2-2021.2/lib/python3.6/site-packages/skbio/stats/distance/_permanova.py:130: RuntimeWarning: divide by zero encountered in double_scalars\n",
      "  return (s_A / (num_groups - 1)) / (s_W / (sample_size - num_groups))\n",
      "/Users/jenniferhoutz/miniconda3/envs/qiime2-2021.2/lib/python3.6/site-packages/sklearn/metrics/pairwise.py:1761: DataConversionWarning: Data was converted to boolean for metric dice\n",
      "  warnings.warn(msg, DataConversionWarning)\n",
      "/Users/jenniferhoutz/miniconda3/envs/qiime2-2021.2/lib/python3.6/site-packages/sklearn/metrics/pairwise.py:1761: DataConversionWarning: Data was converted to boolean for metric dice\n",
      "  warnings.warn(msg, DataConversionWarning)\n",
      "/Users/jenniferhoutz/miniconda3/envs/qiime2-2021.2/lib/python3.6/site-packages/sklearn/metrics/pairwise.py:1761: DataConversionWarning: Data was converted to boolean for metric dice\n",
      "  warnings.warn(msg, DataConversionWarning)\n",
      "/Users/jenniferhoutz/miniconda3/envs/qiime2-2021.2/lib/python3.6/site-packages/sklearn/metrics/pairwise.py:1761: DataConversionWarning: Data was converted to boolean for metric dice\n",
      "  warnings.warn(msg, DataConversionWarning)\n"
     ]
    },
    {
     "name": "stdout",
     "output_type": "stream",
     "text": [
      "Problem with taxon k__Bacteria; p__Proteobacteria; c__Alphaproteobacteria; o__Sphingomonadales; f__Sphingomonadaceae; g__Novosphingobium\n"
     ]
    },
    {
     "name": "stderr",
     "output_type": "stream",
     "text": [
      "/Users/jenniferhoutz/miniconda3/envs/qiime2-2021.2/lib/python3.6/site-packages/sklearn/metrics/pairwise.py:1761: DataConversionWarning: Data was converted to boolean for metric dice\n",
      "  warnings.warn(msg, DataConversionWarning)\n"
     ]
    },
    {
     "name": "stdout",
     "output_type": "stream",
     "text": [
      "Problem with taxon k__Bacteria; p__Firmicutes; c__Clostridia; o__Clostridiales; f__[Tissierellaceae]; g__1-68\n"
     ]
    },
    {
     "name": "stderr",
     "output_type": "stream",
     "text": [
      "/Users/jenniferhoutz/miniconda3/envs/qiime2-2021.2/lib/python3.6/site-packages/sklearn/metrics/pairwise.py:1761: DataConversionWarning: Data was converted to boolean for metric dice\n",
      "  warnings.warn(msg, DataConversionWarning)\n"
     ]
    },
    {
     "name": "stdout",
     "output_type": "stream",
     "text": [
      "Problem with taxon k__Bacteria; p__Proteobacteria; c__Alphaproteobacteria; o__Caulobacterales; f__Caulobacteraceae; g__\n"
     ]
    },
    {
     "name": "stderr",
     "output_type": "stream",
     "text": [
      "/Users/jenniferhoutz/miniconda3/envs/qiime2-2021.2/lib/python3.6/site-packages/sklearn/metrics/pairwise.py:1761: DataConversionWarning: Data was converted to boolean for metric dice\n",
      "  warnings.warn(msg, DataConversionWarning)\n"
     ]
    },
    {
     "name": "stdout",
     "output_type": "stream",
     "text": [
      "Problem with taxon k__Bacteria; p__Firmicutes; c__Clostridia; o__Clostridiales; f__[Tissierellaceae]; g__Finegoldia\n"
     ]
    },
    {
     "name": "stderr",
     "output_type": "stream",
     "text": [
      "/Users/jenniferhoutz/miniconda3/envs/qiime2-2021.2/lib/python3.6/site-packages/sklearn/metrics/pairwise.py:1761: DataConversionWarning: Data was converted to boolean for metric dice\n",
      "  warnings.warn(msg, DataConversionWarning)\n",
      "/Users/jenniferhoutz/miniconda3/envs/qiime2-2021.2/lib/python3.6/site-packages/skbio/stats/distance/_permanova.py:130: RuntimeWarning: invalid value encountered in double_scalars\n",
      "  return (s_A / (num_groups - 1)) / (s_W / (sample_size - num_groups))\n",
      "/Users/jenniferhoutz/miniconda3/envs/qiime2-2021.2/lib/python3.6/site-packages/sklearn/metrics/pairwise.py:1761: DataConversionWarning: Data was converted to boolean for metric dice\n",
      "  warnings.warn(msg, DataConversionWarning)\n"
     ]
    },
    {
     "name": "stdout",
     "output_type": "stream",
     "text": [
      "Problem with taxon k__Bacteria; p__Proteobacteria; c__Gammaproteobacteria; o__Pseudomonadales; f__Pseudomonadaceae;  \n"
     ]
    }
   ],
   "source": [
    "metric = 'dice'\n",
    "distance_dir = 'output/distance'\n",
    "metadata_col = 'species_geo_captivity'\n",
    "makedirs(distance_dir, exist_ok=True)\n",
    "\n",
    "for genus in genus_tables:\n",
    "    tax_dir = join(distance_dir,\n",
    "                   genus.replace(';','_').replace(' ',''))\n",
    "    makedirs(tax_dir, exist_ok=True)\n",
    "    \n",
    "    # filter empty samples\n",
    "    genus_filtered = filter_samples(genus_tables[genus],\n",
    "                                    min_frequency=1)\n",
    "    \n",
    "    # get distance matrix\n",
    "    dm = diversity.actions.beta(genus_filtered.filtered_table,\n",
    "                            metric)\n",
    "    \n",
    "    # write distance matrix to file \n",
    "    dm.distance_matrix.view(DistanceMatrix).to_series().to_csv(join(tax_dir,\n",
    "                                                                    'distance_list.dice.tsv'),\n",
    "                                                               sep='\\t')\n",
    "    try:\n",
    "        # calculate beta group significance\n",
    "        bgs = diversity.actions.beta_group_significance(dm.distance_matrix,\n",
    "                                                        metadata.get_column(metadata_col),\n",
    "                                                        pairwise=True,\n",
    "                                                        method='permanova')\n",
    "    except ValueError:\n",
    "        print(\"Problem with taxon %s\" % genus)\n",
    "    \n",
    "    # write results to directory\n",
    "    bgs.visualization.export_data(join(tax_dir,'permanova'))\n",
    "    "
   ]
  },
  {
   "cell_type": "code",
   "execution_count": 10,
   "id": "matched-swift",
   "metadata": {},
   "outputs": [],
   "source": [
    "\n",
    "foo = genus_filtered.filtered_table.view(Table)"
   ]
  },
  {
   "cell_type": "code",
   "execution_count": 11,
   "id": "involved-voltage",
   "metadata": {},
   "outputs": [
    {
     "data": {
      "text/plain": [
       "#SampleID\n",
       "65716.12173.2                  chimp_TZA_wild_moeller\n",
       "67596.10317.000098752                       human_USA\n",
       "67596.10317.000098897                       human_USA\n",
       "67596.10317.000107269                       human_USA\n",
       "67596.10317.000052320                       human_USA\n",
       "67596.10317.000107243                       human_USA\n",
       "67596.10317.000107970                       human_USA\n",
       "67596.10317.000102692                       human_USA\n",
       "67596.10317.000101152                       human_USA\n",
       "67596.10317.000103709                       human_USA\n",
       "67596.10317.000107299                       human_USA\n",
       "67596.10317.000092924                       human_USA\n",
       "67596.10317.000103024                       human_USA\n",
       "67596.10317.000027863                       human_USA\n",
       "67596.10317.000106817                       human_USA\n",
       "67596.10317.000090519                       human_USA\n",
       "80072.12821.EPRCMB16     douc_VNM_semicaptive_clayton\n",
       "Name: species_geo_captivity, dtype: object"
      ]
     },
     "execution_count": 11,
     "metadata": {},
     "output_type": "execute_result"
    }
   ],
   "source": [
    "metadata.get_column(metadata_col).to_series()[foo.ids(axis='sample')]"
   ]
  },
  {
   "cell_type": "code",
   "execution_count": 12,
   "id": "measured-conducting",
   "metadata": {},
   "outputs": [
    {
     "data": {
      "text/plain": [
       "array(['65716.12173.2', '67596.10317.000098752', '67596.10317.000098897',\n",
       "       '67596.10317.000107269', '67596.10317.000052320',\n",
       "       '67596.10317.000107243', '67596.10317.000107970',\n",
       "       '67596.10317.000102692', '67596.10317.000101152',\n",
       "       '67596.10317.000103709', '67596.10317.000107299',\n",
       "       '67596.10317.000092924', '67596.10317.000103024',\n",
       "       '67596.10317.000027863', '67596.10317.000106817',\n",
       "       '67596.10317.000090519', '80072.12821.EPRCMB16'], dtype=object)"
      ]
     },
     "execution_count": 12,
     "metadata": {},
     "output_type": "execute_result"
    }
   ],
   "source": [
    "foo.ids(axis='sample')"
   ]
  },
  {
   "cell_type": "code",
   "execution_count": null,
   "id": "smooth-empty",
   "metadata": {},
   "outputs": [],
   "source": []
  }
 ],
 "metadata": {
  "kernelspec": {
   "display_name": "Python 3",
   "language": "python",
   "name": "python3"
  },
  "language_info": {
   "codemirror_mode": {
    "name": "ipython",
    "version": 3
   },
   "file_extension": ".py",
   "mimetype": "text/x-python",
   "name": "python",
   "nbconvert_exporter": "python",
   "pygments_lexer": "ipython3",
   "version": "3.6.13"
  }
 },
 "nbformat": 4,
 "nbformat_minor": 5
}
