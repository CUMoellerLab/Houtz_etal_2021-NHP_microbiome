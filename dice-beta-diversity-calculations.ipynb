{
 "cells": [
  {
   "cell_type": "code",
   "execution_count": null,
   "id": "graphic-abuse",
   "metadata": {},
   "outputs": [],
   "source": [
    "#This code is used to calculate Sorensen-Dice beta diversity and Host-specificity scores\n",
    "\n",
    "import qiime2 as q2"
   ]
  },
  {
   "cell_type": "code",
   "execution_count": null,
   "id": "effective-enemy",
   "metadata": {},
   "outputs": [],
   "source": [
    "#filter out those genera with NAs\n",
    "\n",
    "!qiime feature-table filter-samples \\\n",
    "--i-table $line \\\n",
    "--m-metadata-file primate_micro_filtered_metadata.txt \\\n",
    "--p-min-frequency 1 \\\n",
    "--o-filtered-table"
   ]
  },
  {
   "cell_type": "code",
   "execution_count": null,
   "id": "stretch-attachment",
   "metadata": {},
   "outputs": [],
   "source": [
    "#dice calculations\n",
    "\n",
    "!qiime diversity beta \\\n",
    "--i-table $line \\\n",
    "--p-metric dice \\\n",
    "--o-distance-matrix "
   ]
  },
  {
   "cell_type": "code",
   "execution_count": null,
   "id": "ranging-crystal",
   "metadata": {},
   "outputs": [],
   "source": [
    "#beta group significance according to host species identity, geographical location, and captivity state\n",
    "\n",
    "!qiime diversity beta-group-significance \\\n",
    "--i-distance-matrix $line \\\n",
    "--m-metadata-file primate_micro_filtered_metadata.txt \\\n",
    "--m-metadata-column species_geo_captivity \\\n",
    "--o-visualization $output/${line} \\\n",
    "--p-pairwise"
   ]
  },
  {
   "cell_type": "code",
   "execution_count": null,
   "id": "concerned-mauritius",
   "metadata": {},
   "outputs": [],
   "source": [
    "#Unzip the qzvs to get the raw data files\n",
    "\n",
    "!qiime tools export \\\n",
    "--input-path $line \\\n",
    "--output-path $output/${line}"
   ]
  }
 ],
 "metadata": {
  "kernelspec": {
   "display_name": "Python 3",
   "language": "python",
   "name": "python3"
  },
  "language_info": {
   "codemirror_mode": {
    "name": "ipython",
    "version": 3
   },
   "file_extension": ".py",
   "mimetype": "text/x-python",
   "name": "python",
   "nbconvert_exporter": "python",
   "pygments_lexer": "ipython3",
   "version": "3.6.13"
  }
 },
 "nbformat": 4,
 "nbformat_minor": 5
}
