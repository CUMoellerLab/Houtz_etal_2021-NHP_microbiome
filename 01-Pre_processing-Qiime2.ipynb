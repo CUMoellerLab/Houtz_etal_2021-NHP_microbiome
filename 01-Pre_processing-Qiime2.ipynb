{
 "cells": [
  {
   "cell_type": "markdown",
   "id": "naughty-sewing",
   "metadata": {},
   "source": [
    "# 01: Pre-processing data with Qiime2\n",
    "\n",
    "This notebook takes the combined data outputs from Qiita (metadata, taxonomy, and ASV biome files) and splits them into genus-level biome tables for downstream analysis."
   ]
  },
  {
   "cell_type": "code",
   "execution_count": 89,
   "id": "spiritual-episode",
   "metadata": {},
   "outputs": [],
   "source": [
    "from biom import Table\n",
    "from biom.util import biom_open\n",
    "from skbio import DistanceMatrix\n",
    "from os.path import abspath, join\n",
    "from qiime2 import Artifact\n",
    "from os import makedirs\n",
    "from qiime2.plugins import diversity\n",
    "from qiime2.plugins.feature_table.methods import filter_samples\n",
    "from qiime2 import Metadata\n",
    "import pandas as pd"
   ]
  },
  {
   "cell_type": "markdown",
   "id": "turned-amateur",
   "metadata": {},
   "source": [
    "### Data filepaths"
   ]
  },
  {
   "cell_type": "code",
   "execution_count": 10,
   "id": "primary-variety",
   "metadata": {},
   "outputs": [],
   "source": [
    "# get biom qza\n",
    "\n",
    "biom_fp = './data/primate_micro_filtered_rarefied_table.qza' \n",
    "\n",
    "\n",
    "# get taxonomy qza\n",
    "\n",
    "tax_fp = './data/taxonomy_assignment_primate_micro_rarefied.qza'\n",
    "\n",
    "\n",
    "# get metadata\n",
    "\n",
    "md_fp = './data/primate_micro_filtered_metadata.txt'"
   ]
  },
  {
   "cell_type": "markdown",
   "id": "roman-consortium",
   "metadata": {},
   "source": [
    "### Read in data"
   ]
  },
  {
   "cell_type": "markdown",
   "id": "latest-running",
   "metadata": {},
   "source": [
    "#### Biom table"
   ]
  },
  {
   "cell_type": "code",
   "execution_count": 11,
   "id": "incoming-currency",
   "metadata": {},
   "outputs": [],
   "source": [
    "# read biom qza into qiime2 Artifact class\n",
    "\n",
    "biom_art = Artifact.load(abspath(biom_fp))\n",
    "\n",
    "# load the qiime2 artifact into biom Table class\n",
    "\n",
    "biom = biom_art.view(Table)"
   ]
  },
  {
   "cell_type": "markdown",
   "id": "alert-defensive",
   "metadata": {},
   "source": [
    "#### Taxonomy table"
   ]
  },
  {
   "cell_type": "code",
   "execution_count": 12,
   "id": "floral-integration",
   "metadata": {},
   "outputs": [],
   "source": [
    "# read biom tax into qiime2 Artifact class\n",
    "\n",
    "tax_art = Artifact.load(abspath(tax_fp))\n",
    "\n",
    "# read taxonomy artifact as Pandas DF\n",
    "\n",
    "tax_df = tax_art.view(pd.DataFrame)"
   ]
  },
  {
   "cell_type": "markdown",
   "id": "inappropriate-visitor",
   "metadata": {},
   "source": [
    "#### Metadata file"
   ]
  },
  {
   "cell_type": "code",
   "execution_count": 13,
   "id": "subjective-latest",
   "metadata": {},
   "outputs": [],
   "source": [
    "# read in metadata\n",
    "\n",
    "metadata = Metadata.load(md_fp)"
   ]
  },
  {
   "cell_type": "markdown",
   "id": "infrared-shooting",
   "metadata": {},
   "source": [
    "### Write separate Biom tables per genus"
   ]
  },
  {
   "cell_type": "code",
   "execution_count": 50,
   "id": "international-medication",
   "metadata": {},
   "outputs": [],
   "source": [
    "# group all the code into a single method to facilitate rerunning\n",
    "\n",
    "def split_otu_tables_by_tax(biom_t, tax_df, output_dir,\n",
    "                            metadata,\n",
    "                            threshold=5,\n",
    "                            level=5,\n",
    "                            tax_names=['Kingdom',\n",
    "                                       'Phylum',\n",
    "                                       'Class',\n",
    "                                       'Order',\n",
    "                                       'Family', \n",
    "                                       'Genus',\n",
    "                                       'Species'],\n",
    "                            sampling_depth=5,\n",
    "                            export_viz=False):\n",
    "    # fix the taxonomy\n",
    "    tax_cols = tax_df['Taxon'].str.split('; ', expand=True)\n",
    "\n",
    "    tax_cols.columns = tax_names\n",
    "    \n",
    "    # make concatenated tax string at appropriate level\n",
    "    cat_cols = tax_names[:level+1]\n",
    "    print(cat_cols)\n",
    "    tax_str = tax_cols[cat_cols].fillna(' ').apply(lambda x: '; '.join(x), axis=1)\n",
    "    \n",
    "    # find taxa above threshold number of OTUs\n",
    "    tax_thr = pd.Series(tax_str.value_counts()).where(lambda x : x >= threshold).dropna().index\n",
    "    \n",
    "    # make output dir\n",
    "    makedirs(output_dir, exist_ok=True)\n",
    "    \n",
    "    # for each tax_thr value, filter the OTU table and write to file\n",
    "    \n",
    "    # also, make a dict of all filtered tables and keep in memory for downstream analysis\n",
    "    tax_arts = {}\n",
    "    \n",
    "    for t in tax_thr:\n",
    "        t_ids =  pd.Series(tax_str).where(lambda x : x == t).dropna().index\n",
    "        tax_otu = biom_t.filter(t_ids, axis='observation', inplace=False)\n",
    "        tax_otu.remove_empty(inplace=True)\n",
    "        \n",
    "        \n",
    "        output_f = t.replace(';','_').replace(' ','')\n",
    "        output_fn = '{0}.{1}.qza'.format(tax_names[level], output_f)\n",
    "        output_fp = join(output_dir, output_fn)\n",
    "\n",
    "        # export as q2 artifact\n",
    "        tax_art = Artifact.import_data(\"FeatureTable[Frequency]\", tax_otu)\n",
    "        tax_art.save(output_fp)\n",
    "        \n",
    "        tax_arts[t] = tax_art\n",
    "        \n",
    "        if export_viz:\n",
    "            # export the bc and jaccard emperor viz\n",
    "            (rarefied_table,\n",
    "             observed_otus_vector,\n",
    "             shannon_vector,\n",
    "             evenness_vector,\n",
    "             jaccard_distance_matrix,\n",
    "             bray_curtis_distance_matrix,\n",
    "             jaccard_pcoa_results,\n",
    "             bray_curtis_pcoa_results,\n",
    "             jaccard_emperor,\n",
    "             bray_curtis_emperor) = diversity.pipelines.core_metrics(table=tax_art, \n",
    "                                                                    sampling_depth=sampling_depth,\n",
    "                                                                    metadata=metadata)\n",
    "\n",
    "            jaccard_fp = join(output_dir, '{0}.{1}.emperor.jaccard.qzv'.format(tax_names[level], output_f))\n",
    "            bc_fp = join(output_dir, '{0}.{1}.emperor.braycurtis.qzv'.format(tax_names[level], output_f))\n",
    "            jaccard_emperor.save(jaccard_fp)\n",
    "            bray_curtis_emperor.save(bc_fp)\n",
    "\n",
    "    return(tax_arts)"
   ]
  },
  {
   "cell_type": "code",
   "execution_count": 51,
   "id": "electric-extent",
   "metadata": {},
   "outputs": [],
   "source": [
    "output_dir = './output/genus_asv_tables'\n",
    "\n",
    "makedirs(output_dir, exist_ok=True)"
   ]
  },
  {
   "cell_type": "code",
   "execution_count": 52,
   "id": "prime-harrison",
   "metadata": {},
   "outputs": [
    {
     "name": "stdout",
     "output_type": "stream",
     "text": [
      "['Kingdom', 'Phylum', 'Class', 'Order', 'Family', 'Genus']\n"
     ]
    }
   ],
   "source": [
    "genus_tables = split_otu_tables_by_tax(biom,\n",
    "                                       tax_df,\n",
    "                                       output_dir,\n",
    "                                       metadata,\n",
    "                                       level=5,\n",
    "                                       threshold=5)"
   ]
  },
  {
   "cell_type": "markdown",
   "id": "dangerous-amino",
   "metadata": {},
   "source": [
    "## Calculate Sorensen-Dice beta diversity and Host Specificity metrics"
   ]
  },
  {
   "cell_type": "code",
   "execution_count": 147,
   "id": "invalid-temperature",
   "metadata": {},
   "outputs": [
    {
     "name": "stderr",
     "output_type": "stream",
     "text": [
      "/Users/jgs286/miniconda3/envs/houtz2021/lib/python3.6/site-packages/sklearn/metrics/pairwise.py:1761: DataConversionWarning: Data was converted to boolean for metric dice\n",
      "  warnings.warn(msg, DataConversionWarning)\n",
      "/Users/jgs286/miniconda3/envs/houtz2021/lib/python3.6/site-packages/sklearn/metrics/pairwise.py:1761: DataConversionWarning: Data was converted to boolean for metric dice\n",
      "  warnings.warn(msg, DataConversionWarning)\n",
      "/Users/jgs286/miniconda3/envs/houtz2021/lib/python3.6/site-packages/sklearn/metrics/pairwise.py:1761: DataConversionWarning: Data was converted to boolean for metric dice\n",
      "  warnings.warn(msg, DataConversionWarning)\n",
      "/Users/jgs286/miniconda3/envs/houtz2021/lib/python3.6/site-packages/sklearn/metrics/pairwise.py:1761: DataConversionWarning: Data was converted to boolean for metric dice\n",
      "  warnings.warn(msg, DataConversionWarning)\n",
      "/Users/jgs286/miniconda3/envs/houtz2021/lib/python3.6/site-packages/sklearn/metrics/pairwise.py:1761: DataConversionWarning: Data was converted to boolean for metric dice\n",
      "  warnings.warn(msg, DataConversionWarning)\n",
      "/Users/jgs286/miniconda3/envs/houtz2021/lib/python3.6/site-packages/sklearn/metrics/pairwise.py:1761: DataConversionWarning: Data was converted to boolean for metric dice\n",
      "  warnings.warn(msg, DataConversionWarning)\n",
      "/Users/jgs286/miniconda3/envs/houtz2021/lib/python3.6/site-packages/sklearn/metrics/pairwise.py:1761: DataConversionWarning: Data was converted to boolean for metric dice\n",
      "  warnings.warn(msg, DataConversionWarning)\n",
      "/Users/jgs286/miniconda3/envs/houtz2021/lib/python3.6/site-packages/sklearn/metrics/pairwise.py:1761: DataConversionWarning: Data was converted to boolean for metric dice\n",
      "  warnings.warn(msg, DataConversionWarning)\n",
      "/Users/jgs286/miniconda3/envs/houtz2021/lib/python3.6/site-packages/sklearn/metrics/pairwise.py:1761: DataConversionWarning: Data was converted to boolean for metric dice\n",
      "  warnings.warn(msg, DataConversionWarning)\n",
      "/Users/jgs286/miniconda3/envs/houtz2021/lib/python3.6/site-packages/sklearn/metrics/pairwise.py:1761: DataConversionWarning: Data was converted to boolean for metric dice\n",
      "  warnings.warn(msg, DataConversionWarning)\n",
      "/Users/jgs286/miniconda3/envs/houtz2021/lib/python3.6/site-packages/sklearn/metrics/pairwise.py:1761: DataConversionWarning: Data was converted to boolean for metric dice\n",
      "  warnings.warn(msg, DataConversionWarning)\n",
      "/Users/jgs286/miniconda3/envs/houtz2021/lib/python3.6/site-packages/sklearn/metrics/pairwise.py:1761: DataConversionWarning: Data was converted to boolean for metric dice\n",
      "  warnings.warn(msg, DataConversionWarning)\n",
      "/Users/jgs286/miniconda3/envs/houtz2021/lib/python3.6/site-packages/sklearn/metrics/pairwise.py:1761: DataConversionWarning: Data was converted to boolean for metric dice\n",
      "  warnings.warn(msg, DataConversionWarning)\n",
      "/Users/jgs286/miniconda3/envs/houtz2021/lib/python3.6/site-packages/sklearn/metrics/pairwise.py:1761: DataConversionWarning: Data was converted to boolean for metric dice\n",
      "  warnings.warn(msg, DataConversionWarning)\n",
      "/Users/jgs286/miniconda3/envs/houtz2021/lib/python3.6/site-packages/sklearn/metrics/pairwise.py:1761: DataConversionWarning: Data was converted to boolean for metric dice\n",
      "  warnings.warn(msg, DataConversionWarning)\n",
      "/Users/jgs286/miniconda3/envs/houtz2021/lib/python3.6/site-packages/sklearn/metrics/pairwise.py:1761: DataConversionWarning: Data was converted to boolean for metric dice\n",
      "  warnings.warn(msg, DataConversionWarning)\n",
      "/Users/jgs286/miniconda3/envs/houtz2021/lib/python3.6/site-packages/sklearn/metrics/pairwise.py:1761: DataConversionWarning: Data was converted to boolean for metric dice\n",
      "  warnings.warn(msg, DataConversionWarning)\n",
      "/Users/jgs286/miniconda3/envs/houtz2021/lib/python3.6/site-packages/sklearn/metrics/pairwise.py:1761: DataConversionWarning: Data was converted to boolean for metric dice\n",
      "  warnings.warn(msg, DataConversionWarning)\n",
      "/Users/jgs286/miniconda3/envs/houtz2021/lib/python3.6/site-packages/sklearn/metrics/pairwise.py:1761: DataConversionWarning: Data was converted to boolean for metric dice\n",
      "  warnings.warn(msg, DataConversionWarning)\n",
      "/Users/jgs286/miniconda3/envs/houtz2021/lib/python3.6/site-packages/sklearn/metrics/pairwise.py:1761: DataConversionWarning: Data was converted to boolean for metric dice\n",
      "  warnings.warn(msg, DataConversionWarning)\n",
      "/Users/jgs286/miniconda3/envs/houtz2021/lib/python3.6/site-packages/sklearn/metrics/pairwise.py:1761: DataConversionWarning: Data was converted to boolean for metric dice\n",
      "  warnings.warn(msg, DataConversionWarning)\n",
      "/Users/jgs286/miniconda3/envs/houtz2021/lib/python3.6/site-packages/sklearn/metrics/pairwise.py:1761: DataConversionWarning: Data was converted to boolean for metric dice\n",
      "  warnings.warn(msg, DataConversionWarning)\n",
      "/Users/jgs286/miniconda3/envs/houtz2021/lib/python3.6/site-packages/sklearn/metrics/pairwise.py:1761: DataConversionWarning: Data was converted to boolean for metric dice\n",
      "  warnings.warn(msg, DataConversionWarning)\n",
      "/Users/jgs286/miniconda3/envs/houtz2021/lib/python3.6/site-packages/sklearn/metrics/pairwise.py:1761: DataConversionWarning: Data was converted to boolean for metric dice\n",
      "  warnings.warn(msg, DataConversionWarning)\n",
      "/Users/jgs286/miniconda3/envs/houtz2021/lib/python3.6/site-packages/sklearn/metrics/pairwise.py:1761: DataConversionWarning: Data was converted to boolean for metric dice\n",
      "  warnings.warn(msg, DataConversionWarning)\n",
      "/Users/jgs286/miniconda3/envs/houtz2021/lib/python3.6/site-packages/skbio/stats/distance/_permanova.py:130: RuntimeWarning: invalid value encountered in double_scalars\n",
      "  return (s_A / (num_groups - 1)) / (s_W / (sample_size - num_groups))\n",
      "/Users/jgs286/miniconda3/envs/houtz2021/lib/python3.6/site-packages/sklearn/metrics/pairwise.py:1761: DataConversionWarning: Data was converted to boolean for metric dice\n",
      "  warnings.warn(msg, DataConversionWarning)\n",
      "/Users/jgs286/miniconda3/envs/houtz2021/lib/python3.6/site-packages/sklearn/metrics/pairwise.py:1761: DataConversionWarning: Data was converted to boolean for metric dice\n",
      "  warnings.warn(msg, DataConversionWarning)\n",
      "/Users/jgs286/miniconda3/envs/houtz2021/lib/python3.6/site-packages/sklearn/metrics/pairwise.py:1761: DataConversionWarning: Data was converted to boolean for metric dice\n",
      "  warnings.warn(msg, DataConversionWarning)\n",
      "/Users/jgs286/miniconda3/envs/houtz2021/lib/python3.6/site-packages/sklearn/metrics/pairwise.py:1761: DataConversionWarning: Data was converted to boolean for metric dice\n",
      "  warnings.warn(msg, DataConversionWarning)\n",
      "/Users/jgs286/miniconda3/envs/houtz2021/lib/python3.6/site-packages/sklearn/metrics/pairwise.py:1761: DataConversionWarning: Data was converted to boolean for metric dice\n",
      "  warnings.warn(msg, DataConversionWarning)\n",
      "/Users/jgs286/miniconda3/envs/houtz2021/lib/python3.6/site-packages/skbio/stats/distance/_permanova.py:130: RuntimeWarning: divide by zero encountered in double_scalars\n",
      "  return (s_A / (num_groups - 1)) / (s_W / (sample_size - num_groups))\n"
     ]
    },
    {
     "name": "stdout",
     "output_type": "stream",
     "text": [
      "Problem with taxon k__Bacteria; p__Firmicutes; c__Erysipelotrichi; o__Erysipelotrichales; f__Erysipelotrichaceae; g__RFN20\n"
     ]
    },
    {
     "name": "stderr",
     "output_type": "stream",
     "text": [
      "/Users/jgs286/miniconda3/envs/houtz2021/lib/python3.6/site-packages/sklearn/metrics/pairwise.py:1761: DataConversionWarning: Data was converted to boolean for metric dice\n",
      "  warnings.warn(msg, DataConversionWarning)\n",
      "/Users/jgs286/miniconda3/envs/houtz2021/lib/python3.6/site-packages/sklearn/metrics/pairwise.py:1761: DataConversionWarning: Data was converted to boolean for metric dice\n",
      "  warnings.warn(msg, DataConversionWarning)\n",
      "/Users/jgs286/miniconda3/envs/houtz2021/lib/python3.6/site-packages/sklearn/metrics/pairwise.py:1761: DataConversionWarning: Data was converted to boolean for metric dice\n",
      "  warnings.warn(msg, DataConversionWarning)\n",
      "/Users/jgs286/miniconda3/envs/houtz2021/lib/python3.6/site-packages/sklearn/metrics/pairwise.py:1761: DataConversionWarning: Data was converted to boolean for metric dice\n",
      "  warnings.warn(msg, DataConversionWarning)\n",
      "/Users/jgs286/miniconda3/envs/houtz2021/lib/python3.6/site-packages/skbio/stats/distance/_permanova.py:130: RuntimeWarning: divide by zero encountered in double_scalars\n",
      "  return (s_A / (num_groups - 1)) / (s_W / (sample_size - num_groups))\n",
      "/Users/jgs286/miniconda3/envs/houtz2021/lib/python3.6/site-packages/sklearn/metrics/pairwise.py:1761: DataConversionWarning: Data was converted to boolean for metric dice\n",
      "  warnings.warn(msg, DataConversionWarning)\n",
      "/Users/jgs286/miniconda3/envs/houtz2021/lib/python3.6/site-packages/sklearn/metrics/pairwise.py:1761: DataConversionWarning: Data was converted to boolean for metric dice\n",
      "  warnings.warn(msg, DataConversionWarning)\n",
      "/Users/jgs286/miniconda3/envs/houtz2021/lib/python3.6/site-packages/skbio/stats/distance/_permanova.py:130: RuntimeWarning: invalid value encountered in double_scalars\n",
      "  return (s_A / (num_groups - 1)) / (s_W / (sample_size - num_groups))\n",
      "/Users/jgs286/miniconda3/envs/houtz2021/lib/python3.6/site-packages/sklearn/metrics/pairwise.py:1761: DataConversionWarning: Data was converted to boolean for metric dice\n",
      "  warnings.warn(msg, DataConversionWarning)\n",
      "/Users/jgs286/miniconda3/envs/houtz2021/lib/python3.6/site-packages/skbio/stats/distance/_permanova.py:130: RuntimeWarning: divide by zero encountered in double_scalars\n",
      "  return (s_A / (num_groups - 1)) / (s_W / (sample_size - num_groups))\n",
      "/Users/jgs286/miniconda3/envs/houtz2021/lib/python3.6/site-packages/skbio/stats/distance/_permanova.py:130: RuntimeWarning: invalid value encountered in double_scalars\n",
      "  return (s_A / (num_groups - 1)) / (s_W / (sample_size - num_groups))\n",
      "/Users/jgs286/miniconda3/envs/houtz2021/lib/python3.6/site-packages/sklearn/metrics/pairwise.py:1761: DataConversionWarning: Data was converted to boolean for metric dice\n",
      "  warnings.warn(msg, DataConversionWarning)\n",
      "/Users/jgs286/miniconda3/envs/houtz2021/lib/python3.6/site-packages/sklearn/metrics/pairwise.py:1761: DataConversionWarning: Data was converted to boolean for metric dice\n",
      "  warnings.warn(msg, DataConversionWarning)\n",
      "/Users/jgs286/miniconda3/envs/houtz2021/lib/python3.6/site-packages/skbio/stats/distance/_permanova.py:130: RuntimeWarning: invalid value encountered in double_scalars\n",
      "  return (s_A / (num_groups - 1)) / (s_W / (sample_size - num_groups))\n",
      "/Users/jgs286/miniconda3/envs/houtz2021/lib/python3.6/site-packages/sklearn/metrics/pairwise.py:1761: DataConversionWarning: Data was converted to boolean for metric dice\n",
      "  warnings.warn(msg, DataConversionWarning)\n",
      "/Users/jgs286/miniconda3/envs/houtz2021/lib/python3.6/site-packages/sklearn/metrics/pairwise.py:1761: DataConversionWarning: Data was converted to boolean for metric dice\n",
      "  warnings.warn(msg, DataConversionWarning)\n",
      "/Users/jgs286/miniconda3/envs/houtz2021/lib/python3.6/site-packages/sklearn/metrics/pairwise.py:1761: DataConversionWarning: Data was converted to boolean for metric dice\n",
      "  warnings.warn(msg, DataConversionWarning)\n",
      "/Users/jgs286/miniconda3/envs/houtz2021/lib/python3.6/site-packages/sklearn/metrics/pairwise.py:1761: DataConversionWarning: Data was converted to boolean for metric dice\n",
      "  warnings.warn(msg, DataConversionWarning)\n",
      "/Users/jgs286/miniconda3/envs/houtz2021/lib/python3.6/site-packages/skbio/stats/distance/_permanova.py:130: RuntimeWarning: divide by zero encountered in double_scalars\n",
      "  return (s_A / (num_groups - 1)) / (s_W / (sample_size - num_groups))\n"
     ]
    },
    {
     "name": "stdout",
     "output_type": "stream",
     "text": [
      "Problem with taxon k__Bacteria; p__Bacteroidetes; c__Bacteroidia; o__Bacteroidales; f__Rikenellaceae; g__\n"
     ]
    },
    {
     "name": "stderr",
     "output_type": "stream",
     "text": [
      "/Users/jgs286/miniconda3/envs/houtz2021/lib/python3.6/site-packages/sklearn/metrics/pairwise.py:1761: DataConversionWarning: Data was converted to boolean for metric dice\n",
      "  warnings.warn(msg, DataConversionWarning)\n",
      "/Users/jgs286/miniconda3/envs/houtz2021/lib/python3.6/site-packages/skbio/stats/distance/_permanova.py:130: RuntimeWarning: divide by zero encountered in double_scalars\n",
      "  return (s_A / (num_groups - 1)) / (s_W / (sample_size - num_groups))\n",
      "/Users/jgs286/miniconda3/envs/houtz2021/lib/python3.6/site-packages/sklearn/metrics/pairwise.py:1761: DataConversionWarning: Data was converted to boolean for metric dice\n",
      "  warnings.warn(msg, DataConversionWarning)\n",
      "/Users/jgs286/miniconda3/envs/houtz2021/lib/python3.6/site-packages/sklearn/metrics/pairwise.py:1761: DataConversionWarning: Data was converted to boolean for metric dice\n",
      "  warnings.warn(msg, DataConversionWarning)\n",
      "/Users/jgs286/miniconda3/envs/houtz2021/lib/python3.6/site-packages/sklearn/metrics/pairwise.py:1761: DataConversionWarning: Data was converted to boolean for metric dice\n",
      "  warnings.warn(msg, DataConversionWarning)\n",
      "/Users/jgs286/miniconda3/envs/houtz2021/lib/python3.6/site-packages/skbio/stats/distance/_permanova.py:130: RuntimeWarning: invalid value encountered in double_scalars\n",
      "  return (s_A / (num_groups - 1)) / (s_W / (sample_size - num_groups))\n"
     ]
    },
    {
     "name": "stdout",
     "output_type": "stream",
     "text": [
      "Problem with taxon k__Bacteria; p__Verrucomicrobia; c__Verrucomicrobiae; o__Verrucomicrobiales; f__Verrucomicrobiaceae; g__Akkermansia\n"
     ]
    },
    {
     "name": "stderr",
     "output_type": "stream",
     "text": [
      "/Users/jgs286/miniconda3/envs/houtz2021/lib/python3.6/site-packages/sklearn/metrics/pairwise.py:1761: DataConversionWarning: Data was converted to boolean for metric dice\n",
      "  warnings.warn(msg, DataConversionWarning)\n",
      "/Users/jgs286/miniconda3/envs/houtz2021/lib/python3.6/site-packages/sklearn/metrics/pairwise.py:1761: DataConversionWarning: Data was converted to boolean for metric dice\n",
      "  warnings.warn(msg, DataConversionWarning)\n"
     ]
    },
    {
     "name": "stdout",
     "output_type": "stream",
     "text": [
      "Problem with taxon k__Bacteria; p__Firmicutes; c__Erysipelotrichi; o__Erysipelotrichales; f__Erysipelotrichaceae; g__\n"
     ]
    },
    {
     "name": "stderr",
     "output_type": "stream",
     "text": [
      "/Users/jgs286/miniconda3/envs/houtz2021/lib/python3.6/site-packages/sklearn/metrics/pairwise.py:1761: DataConversionWarning: Data was converted to boolean for metric dice\n",
      "  warnings.warn(msg, DataConversionWarning)\n",
      "/Users/jgs286/miniconda3/envs/houtz2021/lib/python3.6/site-packages/skbio/stats/distance/_permanova.py:130: RuntimeWarning: divide by zero encountered in double_scalars\n",
      "  return (s_A / (num_groups - 1)) / (s_W / (sample_size - num_groups))\n",
      "/Users/jgs286/miniconda3/envs/houtz2021/lib/python3.6/site-packages/sklearn/metrics/pairwise.py:1761: DataConversionWarning: Data was converted to boolean for metric dice\n",
      "  warnings.warn(msg, DataConversionWarning)\n",
      "/Users/jgs286/miniconda3/envs/houtz2021/lib/python3.6/site-packages/sklearn/metrics/pairwise.py:1761: DataConversionWarning: Data was converted to boolean for metric dice\n",
      "  warnings.warn(msg, DataConversionWarning)\n",
      "/Users/jgs286/miniconda3/envs/houtz2021/lib/python3.6/site-packages/skbio/stats/distance/_permanova.py:130: RuntimeWarning: divide by zero encountered in double_scalars\n",
      "  return (s_A / (num_groups - 1)) / (s_W / (sample_size - num_groups))\n",
      "/Users/jgs286/miniconda3/envs/houtz2021/lib/python3.6/site-packages/sklearn/metrics/pairwise.py:1761: DataConversionWarning: Data was converted to boolean for metric dice\n",
      "  warnings.warn(msg, DataConversionWarning)\n"
     ]
    },
    {
     "name": "stdout",
     "output_type": "stream",
     "text": [
      "Problem with taxon k__Bacteria; p__Spirochaetes; c__Spirochaetes; o__Sphaerochaetales; f__Sphaerochaetaceae; g__Sphaerochaeta\n"
     ]
    },
    {
     "name": "stderr",
     "output_type": "stream",
     "text": [
      "/Users/jgs286/miniconda3/envs/houtz2021/lib/python3.6/site-packages/sklearn/metrics/pairwise.py:1761: DataConversionWarning: Data was converted to boolean for metric dice\n",
      "  warnings.warn(msg, DataConversionWarning)\n",
      "/Users/jgs286/miniconda3/envs/houtz2021/lib/python3.6/site-packages/sklearn/metrics/pairwise.py:1761: DataConversionWarning: Data was converted to boolean for metric dice\n",
      "  warnings.warn(msg, DataConversionWarning)\n",
      "/Users/jgs286/miniconda3/envs/houtz2021/lib/python3.6/site-packages/skbio/stats/distance/_permanova.py:130: RuntimeWarning: divide by zero encountered in double_scalars\n",
      "  return (s_A / (num_groups - 1)) / (s_W / (sample_size - num_groups))\n",
      "/Users/jgs286/miniconda3/envs/houtz2021/lib/python3.6/site-packages/sklearn/metrics/pairwise.py:1761: DataConversionWarning: Data was converted to boolean for metric dice\n",
      "  warnings.warn(msg, DataConversionWarning)\n",
      "/Users/jgs286/miniconda3/envs/houtz2021/lib/python3.6/site-packages/skbio/stats/distance/_permanova.py:130: RuntimeWarning: divide by zero encountered in double_scalars\n",
      "  return (s_A / (num_groups - 1)) / (s_W / (sample_size - num_groups))\n",
      "/Users/jgs286/miniconda3/envs/houtz2021/lib/python3.6/site-packages/sklearn/metrics/pairwise.py:1761: DataConversionWarning: Data was converted to boolean for metric dice\n",
      "  warnings.warn(msg, DataConversionWarning)\n"
     ]
    },
    {
     "name": "stdout",
     "output_type": "stream",
     "text": [
      "Problem with taxon k__Bacteria; p__Proteobacteria; c__Betaproteobacteria; o__Burkholderiales;  ;  \n"
     ]
    },
    {
     "name": "stderr",
     "output_type": "stream",
     "text": [
      "/Users/jgs286/miniconda3/envs/houtz2021/lib/python3.6/site-packages/sklearn/metrics/pairwise.py:1761: DataConversionWarning: Data was converted to boolean for metric dice\n",
      "  warnings.warn(msg, DataConversionWarning)\n",
      "/Users/jgs286/miniconda3/envs/houtz2021/lib/python3.6/site-packages/skbio/stats/distance/_permanova.py:130: RuntimeWarning: divide by zero encountered in double_scalars\n",
      "  return (s_A / (num_groups - 1)) / (s_W / (sample_size - num_groups))\n",
      "/Users/jgs286/miniconda3/envs/houtz2021/lib/python3.6/site-packages/sklearn/metrics/pairwise.py:1761: DataConversionWarning: Data was converted to boolean for metric dice\n",
      "  warnings.warn(msg, DataConversionWarning)\n",
      "/Users/jgs286/miniconda3/envs/houtz2021/lib/python3.6/site-packages/sklearn/metrics/pairwise.py:1761: DataConversionWarning: Data was converted to boolean for metric dice\n",
      "  warnings.warn(msg, DataConversionWarning)\n",
      "/Users/jgs286/miniconda3/envs/houtz2021/lib/python3.6/site-packages/skbio/stats/distance/_permanova.py:130: RuntimeWarning: divide by zero encountered in double_scalars\n",
      "  return (s_A / (num_groups - 1)) / (s_W / (sample_size - num_groups))\n",
      "/Users/jgs286/miniconda3/envs/houtz2021/lib/python3.6/site-packages/sklearn/metrics/pairwise.py:1761: DataConversionWarning: Data was converted to boolean for metric dice\n",
      "  warnings.warn(msg, DataConversionWarning)\n",
      "/Users/jgs286/miniconda3/envs/houtz2021/lib/python3.6/site-packages/skbio/stats/distance/_permanova.py:130: RuntimeWarning: divide by zero encountered in double_scalars\n",
      "  return (s_A / (num_groups - 1)) / (s_W / (sample_size - num_groups))\n",
      "/Users/jgs286/miniconda3/envs/houtz2021/lib/python3.6/site-packages/sklearn/metrics/pairwise.py:1761: DataConversionWarning: Data was converted to boolean for metric dice\n",
      "  warnings.warn(msg, DataConversionWarning)\n",
      "/Users/jgs286/miniconda3/envs/houtz2021/lib/python3.6/site-packages/sklearn/metrics/pairwise.py:1761: DataConversionWarning: Data was converted to boolean for metric dice\n",
      "  warnings.warn(msg, DataConversionWarning)\n",
      "/Users/jgs286/miniconda3/envs/houtz2021/lib/python3.6/site-packages/skbio/stats/distance/_permanova.py:130: RuntimeWarning: divide by zero encountered in double_scalars\n",
      "  return (s_A / (num_groups - 1)) / (s_W / (sample_size - num_groups))\n",
      "/Users/jgs286/miniconda3/envs/houtz2021/lib/python3.6/site-packages/sklearn/metrics/pairwise.py:1761: DataConversionWarning: Data was converted to boolean for metric dice\n",
      "  warnings.warn(msg, DataConversionWarning)\n",
      "/Users/jgs286/miniconda3/envs/houtz2021/lib/python3.6/site-packages/skbio/stats/distance/_permanova.py:130: RuntimeWarning: divide by zero encountered in double_scalars\n",
      "  return (s_A / (num_groups - 1)) / (s_W / (sample_size - num_groups))\n",
      "/Users/jgs286/miniconda3/envs/houtz2021/lib/python3.6/site-packages/skbio/stats/distance/_permanova.py:130: RuntimeWarning: invalid value encountered in double_scalars\n",
      "  return (s_A / (num_groups - 1)) / (s_W / (sample_size - num_groups))\n",
      "/Users/jgs286/miniconda3/envs/houtz2021/lib/python3.6/site-packages/sklearn/metrics/pairwise.py:1761: DataConversionWarning: Data was converted to boolean for metric dice\n",
      "  warnings.warn(msg, DataConversionWarning)\n",
      "/Users/jgs286/miniconda3/envs/houtz2021/lib/python3.6/site-packages/sklearn/metrics/pairwise.py:1761: DataConversionWarning: Data was converted to boolean for metric dice\n",
      "  warnings.warn(msg, DataConversionWarning)\n"
     ]
    },
    {
     "name": "stdout",
     "output_type": "stream",
     "text": [
      "Problem with taxon k__Bacteria; p__Proteobacteria; c__Gammaproteobacteria; o__Pseudomonadales; f__Moraxellaceae; g__Acinetobacter\n"
     ]
    },
    {
     "name": "stderr",
     "output_type": "stream",
     "text": [
      "/Users/jgs286/miniconda3/envs/houtz2021/lib/python3.6/site-packages/sklearn/metrics/pairwise.py:1761: DataConversionWarning: Data was converted to boolean for metric dice\n",
      "  warnings.warn(msg, DataConversionWarning)\n",
      "/Users/jgs286/miniconda3/envs/houtz2021/lib/python3.6/site-packages/skbio/stats/distance/_permanova.py:130: RuntimeWarning: divide by zero encountered in double_scalars\n",
      "  return (s_A / (num_groups - 1)) / (s_W / (sample_size - num_groups))\n",
      "/Users/jgs286/miniconda3/envs/houtz2021/lib/python3.6/site-packages/sklearn/metrics/pairwise.py:1761: DataConversionWarning: Data was converted to boolean for metric dice\n",
      "  warnings.warn(msg, DataConversionWarning)\n",
      "/Users/jgs286/miniconda3/envs/houtz2021/lib/python3.6/site-packages/skbio/stats/distance/_permanova.py:130: RuntimeWarning: divide by zero encountered in double_scalars\n",
      "  return (s_A / (num_groups - 1)) / (s_W / (sample_size - num_groups))\n",
      "/Users/jgs286/miniconda3/envs/houtz2021/lib/python3.6/site-packages/skbio/stats/distance/_permanova.py:130: RuntimeWarning: invalid value encountered in double_scalars\n",
      "  return (s_A / (num_groups - 1)) / (s_W / (sample_size - num_groups))\n"
     ]
    },
    {
     "name": "stdout",
     "output_type": "stream",
     "text": [
      "Problem with taxon k__Bacteria; p__Proteobacteria; c__Deltaproteobacteria; o__Desulfovibrionales; f__Desulfovibrionaceae; g__Desulfovibrio\n"
     ]
    },
    {
     "name": "stderr",
     "output_type": "stream",
     "text": [
      "/Users/jgs286/miniconda3/envs/houtz2021/lib/python3.6/site-packages/sklearn/metrics/pairwise.py:1761: DataConversionWarning: Data was converted to boolean for metric dice\n",
      "  warnings.warn(msg, DataConversionWarning)\n",
      "/Users/jgs286/miniconda3/envs/houtz2021/lib/python3.6/site-packages/skbio/stats/distance/_permanova.py:130: RuntimeWarning: invalid value encountered in double_scalars\n",
      "  return (s_A / (num_groups - 1)) / (s_W / (sample_size - num_groups))\n",
      "/Users/jgs286/miniconda3/envs/houtz2021/lib/python3.6/site-packages/skbio/stats/distance/_permanova.py:130: RuntimeWarning: divide by zero encountered in double_scalars\n",
      "  return (s_A / (num_groups - 1)) / (s_W / (sample_size - num_groups))\n",
      "/Users/jgs286/miniconda3/envs/houtz2021/lib/python3.6/site-packages/sklearn/metrics/pairwise.py:1761: DataConversionWarning: Data was converted to boolean for metric dice\n",
      "  warnings.warn(msg, DataConversionWarning)\n"
     ]
    },
    {
     "name": "stdout",
     "output_type": "stream",
     "text": [
      "Problem with taxon k__Bacteria; p__Firmicutes; c__Erysipelotrichi; o__Erysipelotrichales; f__Erysipelotrichaceae; g__p-75-a5\n"
     ]
    },
    {
     "name": "stderr",
     "output_type": "stream",
     "text": [
      "/Users/jgs286/miniconda3/envs/houtz2021/lib/python3.6/site-packages/sklearn/metrics/pairwise.py:1761: DataConversionWarning: Data was converted to boolean for metric dice\n",
      "  warnings.warn(msg, DataConversionWarning)\n",
      "/Users/jgs286/miniconda3/envs/houtz2021/lib/python3.6/site-packages/skbio/stats/distance/_permanova.py:130: RuntimeWarning: divide by zero encountered in double_scalars\n",
      "  return (s_A / (num_groups - 1)) / (s_W / (sample_size - num_groups))\n"
     ]
    },
    {
     "name": "stdout",
     "output_type": "stream",
     "text": [
      "Problem with taxon k__Bacteria; p__Verrucomicrobia; c__Opitutae; o__[Cerasicoccales]; f__[Cerasicoccaceae]; g__\n"
     ]
    },
    {
     "name": "stderr",
     "output_type": "stream",
     "text": [
      "/Users/jgs286/miniconda3/envs/houtz2021/lib/python3.6/site-packages/sklearn/metrics/pairwise.py:1761: DataConversionWarning: Data was converted to boolean for metric dice\n",
      "  warnings.warn(msg, DataConversionWarning)\n",
      "/Users/jgs286/miniconda3/envs/houtz2021/lib/python3.6/site-packages/sklearn/metrics/pairwise.py:1761: DataConversionWarning: Data was converted to boolean for metric dice\n",
      "  warnings.warn(msg, DataConversionWarning)\n",
      "/Users/jgs286/miniconda3/envs/houtz2021/lib/python3.6/site-packages/skbio/stats/distance/_permanova.py:130: RuntimeWarning: divide by zero encountered in double_scalars\n",
      "  return (s_A / (num_groups - 1)) / (s_W / (sample_size - num_groups))\n"
     ]
    },
    {
     "name": "stdout",
     "output_type": "stream",
     "text": [
      "Problem with taxon k__Bacteria; p__Proteobacteria; c__Betaproteobacteria;  ;  ;  \n"
     ]
    },
    {
     "name": "stderr",
     "output_type": "stream",
     "text": [
      "/Users/jgs286/miniconda3/envs/houtz2021/lib/python3.6/site-packages/sklearn/metrics/pairwise.py:1761: DataConversionWarning: Data was converted to boolean for metric dice\n",
      "  warnings.warn(msg, DataConversionWarning)\n",
      "/Users/jgs286/miniconda3/envs/houtz2021/lib/python3.6/site-packages/sklearn/metrics/pairwise.py:1761: DataConversionWarning: Data was converted to boolean for metric dice\n",
      "  warnings.warn(msg, DataConversionWarning)\n",
      "/Users/jgs286/miniconda3/envs/houtz2021/lib/python3.6/site-packages/sklearn/metrics/pairwise.py:1761: DataConversionWarning: Data was converted to boolean for metric dice\n",
      "  warnings.warn(msg, DataConversionWarning)\n",
      "/Users/jgs286/miniconda3/envs/houtz2021/lib/python3.6/site-packages/sklearn/metrics/pairwise.py:1761: DataConversionWarning: Data was converted to boolean for metric dice\n",
      "  warnings.warn(msg, DataConversionWarning)\n"
     ]
    },
    {
     "name": "stdout",
     "output_type": "stream",
     "text": [
      "Problem with taxon k__Bacteria; p__Firmicutes; c__Clostridia; o__Clostridiales; f__[Tissierellaceae]; g__Anaerococcus\n"
     ]
    },
    {
     "name": "stderr",
     "output_type": "stream",
     "text": [
      "/Users/jgs286/miniconda3/envs/houtz2021/lib/python3.6/site-packages/sklearn/metrics/pairwise.py:1761: DataConversionWarning: Data was converted to boolean for metric dice\n",
      "  warnings.warn(msg, DataConversionWarning)\n",
      "/Users/jgs286/miniconda3/envs/houtz2021/lib/python3.6/site-packages/sklearn/metrics/pairwise.py:1761: DataConversionWarning: Data was converted to boolean for metric dice\n",
      "  warnings.warn(msg, DataConversionWarning)\n",
      "/Users/jgs286/miniconda3/envs/houtz2021/lib/python3.6/site-packages/sklearn/metrics/pairwise.py:1761: DataConversionWarning: Data was converted to boolean for metric dice\n",
      "  warnings.warn(msg, DataConversionWarning)\n"
     ]
    },
    {
     "name": "stdout",
     "output_type": "stream",
     "text": [
      "Problem with taxon k__Bacteria; p__Actinobacteria; c__Actinobacteria; o__Actinomycetales; f__Corynebacteriaceae; g__Corynebacterium\n"
     ]
    },
    {
     "name": "stderr",
     "output_type": "stream",
     "text": [
      "/Users/jgs286/miniconda3/envs/houtz2021/lib/python3.6/site-packages/sklearn/metrics/pairwise.py:1761: DataConversionWarning: Data was converted to boolean for metric dice\n",
      "  warnings.warn(msg, DataConversionWarning)\n",
      "/Users/jgs286/miniconda3/envs/houtz2021/lib/python3.6/site-packages/sklearn/metrics/pairwise.py:1761: DataConversionWarning: Data was converted to boolean for metric dice\n",
      "  warnings.warn(msg, DataConversionWarning)\n",
      "/Users/jgs286/miniconda3/envs/houtz2021/lib/python3.6/site-packages/sklearn/metrics/pairwise.py:1761: DataConversionWarning: Data was converted to boolean for metric dice\n",
      "  warnings.warn(msg, DataConversionWarning)\n",
      "/Users/jgs286/miniconda3/envs/houtz2021/lib/python3.6/site-packages/skbio/stats/distance/_permanova.py:130: RuntimeWarning: divide by zero encountered in double_scalars\n",
      "  return (s_A / (num_groups - 1)) / (s_W / (sample_size - num_groups))\n"
     ]
    },
    {
     "name": "stdout",
     "output_type": "stream",
     "text": [
      "Problem with taxon k__Archaea; p__Euryarchaeota; c__Methanobacteria; o__Methanobacteriales; f__Methanobacteriaceae; g__Methanobrevibacter\n"
     ]
    },
    {
     "name": "stderr",
     "output_type": "stream",
     "text": [
      "/Users/jgs286/miniconda3/envs/houtz2021/lib/python3.6/site-packages/sklearn/metrics/pairwise.py:1761: DataConversionWarning: Data was converted to boolean for metric dice\n",
      "  warnings.warn(msg, DataConversionWarning)\n",
      "/Users/jgs286/miniconda3/envs/houtz2021/lib/python3.6/site-packages/sklearn/metrics/pairwise.py:1761: DataConversionWarning: Data was converted to boolean for metric dice\n",
      "  warnings.warn(msg, DataConversionWarning)\n"
     ]
    },
    {
     "name": "stdout",
     "output_type": "stream",
     "text": [
      "Problem with taxon k__Bacteria; p__Actinobacteria; c__Thermoleophilia; o__Solirubrobacterales; f__; g__\n"
     ]
    },
    {
     "name": "stderr",
     "output_type": "stream",
     "text": [
      "/Users/jgs286/miniconda3/envs/houtz2021/lib/python3.6/site-packages/sklearn/metrics/pairwise.py:1761: DataConversionWarning: Data was converted to boolean for metric dice\n",
      "  warnings.warn(msg, DataConversionWarning)\n",
      "/Users/jgs286/miniconda3/envs/houtz2021/lib/python3.6/site-packages/skbio/stats/distance/_permanova.py:130: RuntimeWarning: invalid value encountered in double_scalars\n",
      "  return (s_A / (num_groups - 1)) / (s_W / (sample_size - num_groups))\n",
      "/Users/jgs286/miniconda3/envs/houtz2021/lib/python3.6/site-packages/skbio/stats/distance/_permanova.py:130: RuntimeWarning: divide by zero encountered in double_scalars\n",
      "  return (s_A / (num_groups - 1)) / (s_W / (sample_size - num_groups))\n",
      "/Users/jgs286/miniconda3/envs/houtz2021/lib/python3.6/site-packages/sklearn/metrics/pairwise.py:1761: DataConversionWarning: Data was converted to boolean for metric dice\n",
      "  warnings.warn(msg, DataConversionWarning)\n"
     ]
    },
    {
     "name": "stdout",
     "output_type": "stream",
     "text": [
      "Problem with taxon k__Bacteria; p__Actinobacteria; c__Thermoleophilia; o__Gaiellales; f__Gaiellaceae; g__\n"
     ]
    },
    {
     "name": "stderr",
     "output_type": "stream",
     "text": [
      "/Users/jgs286/miniconda3/envs/houtz2021/lib/python3.6/site-packages/sklearn/metrics/pairwise.py:1761: DataConversionWarning: Data was converted to boolean for metric dice\n",
      "  warnings.warn(msg, DataConversionWarning)\n",
      "/Users/jgs286/miniconda3/envs/houtz2021/lib/python3.6/site-packages/skbio/stats/distance/_permanova.py:130: RuntimeWarning: divide by zero encountered in double_scalars\n",
      "  return (s_A / (num_groups - 1)) / (s_W / (sample_size - num_groups))\n",
      "/Users/jgs286/miniconda3/envs/houtz2021/lib/python3.6/site-packages/skbio/stats/distance/_permanova.py:130: RuntimeWarning: invalid value encountered in double_scalars\n",
      "  return (s_A / (num_groups - 1)) / (s_W / (sample_size - num_groups))\n",
      "/Users/jgs286/miniconda3/envs/houtz2021/lib/python3.6/site-packages/sklearn/metrics/pairwise.py:1761: DataConversionWarning: Data was converted to boolean for metric dice\n",
      "  warnings.warn(msg, DataConversionWarning)\n",
      "/Users/jgs286/miniconda3/envs/houtz2021/lib/python3.6/site-packages/skbio/stats/distance/_permanova.py:130: RuntimeWarning: divide by zero encountered in double_scalars\n",
      "  return (s_A / (num_groups - 1)) / (s_W / (sample_size - num_groups))\n"
     ]
    },
    {
     "name": "stdout",
     "output_type": "stream",
     "text": [
      "Problem with taxon k__Bacteria; p__Actinobacteria; c__Actinobacteria; o__Actinomycetales; f__Actinomycetaceae; g__Actinomyces\n"
     ]
    },
    {
     "name": "stderr",
     "output_type": "stream",
     "text": [
      "/Users/jgs286/miniconda3/envs/houtz2021/lib/python3.6/site-packages/sklearn/metrics/pairwise.py:1761: DataConversionWarning: Data was converted to boolean for metric dice\n",
      "  warnings.warn(msg, DataConversionWarning)\n",
      "/Users/jgs286/miniconda3/envs/houtz2021/lib/python3.6/site-packages/sklearn/metrics/pairwise.py:1761: DataConversionWarning: Data was converted to boolean for metric dice\n",
      "  warnings.warn(msg, DataConversionWarning)\n",
      "/Users/jgs286/miniconda3/envs/houtz2021/lib/python3.6/site-packages/sklearn/metrics/pairwise.py:1761: DataConversionWarning: Data was converted to boolean for metric dice\n",
      "  warnings.warn(msg, DataConversionWarning)\n",
      "/Users/jgs286/miniconda3/envs/houtz2021/lib/python3.6/site-packages/skbio/stats/distance/_permanova.py:130: RuntimeWarning: divide by zero encountered in double_scalars\n",
      "  return (s_A / (num_groups - 1)) / (s_W / (sample_size - num_groups))\n"
     ]
    },
    {
     "name": "stdout",
     "output_type": "stream",
     "text": [
      "Problem with taxon k__Bacteria; p__Firmicutes; c__Clostridia; o__Clostridiales; f__Ruminococcaceae; g__Subdoligranulum\n"
     ]
    },
    {
     "name": "stderr",
     "output_type": "stream",
     "text": [
      "/Users/jgs286/miniconda3/envs/houtz2021/lib/python3.6/site-packages/sklearn/metrics/pairwise.py:1761: DataConversionWarning: Data was converted to boolean for metric dice\n",
      "  warnings.warn(msg, DataConversionWarning)\n",
      "/Users/jgs286/miniconda3/envs/houtz2021/lib/python3.6/site-packages/sklearn/metrics/pairwise.py:1761: DataConversionWarning: Data was converted to boolean for metric dice\n",
      "  warnings.warn(msg, DataConversionWarning)\n"
     ]
    },
    {
     "name": "stdout",
     "output_type": "stream",
     "text": [
      "Problem with taxon k__Bacteria; p__Proteobacteria; c__Betaproteobacteria; o__Burkholderiales; f__Comamonadaceae;  \n"
     ]
    },
    {
     "name": "stderr",
     "output_type": "stream",
     "text": [
      "/Users/jgs286/miniconda3/envs/houtz2021/lib/python3.6/site-packages/sklearn/metrics/pairwise.py:1761: DataConversionWarning: Data was converted to boolean for metric dice\n",
      "  warnings.warn(msg, DataConversionWarning)\n"
     ]
    },
    {
     "name": "stdout",
     "output_type": "stream",
     "text": [
      "Problem with taxon k__Bacteria; p__Firmicutes; c__Clostridia; o__Clostridiales; f__Ruminococcaceae; g__Butyricicoccus\n"
     ]
    },
    {
     "name": "stderr",
     "output_type": "stream",
     "text": [
      "/Users/jgs286/miniconda3/envs/houtz2021/lib/python3.6/site-packages/sklearn/metrics/pairwise.py:1761: DataConversionWarning: Data was converted to boolean for metric dice\n",
      "  warnings.warn(msg, DataConversionWarning)\n",
      "/Users/jgs286/miniconda3/envs/houtz2021/lib/python3.6/site-packages/skbio/stats/distance/_permanova.py:130: RuntimeWarning: divide by zero encountered in double_scalars\n",
      "  return (s_A / (num_groups - 1)) / (s_W / (sample_size - num_groups))\n",
      "/Users/jgs286/miniconda3/envs/houtz2021/lib/python3.6/site-packages/sklearn/metrics/pairwise.py:1761: DataConversionWarning: Data was converted to boolean for metric dice\n",
      "  warnings.warn(msg, DataConversionWarning)\n",
      "/Users/jgs286/miniconda3/envs/houtz2021/lib/python3.6/site-packages/skbio/stats/distance/_permanova.py:130: RuntimeWarning: divide by zero encountered in double_scalars\n",
      "  return (s_A / (num_groups - 1)) / (s_W / (sample_size - num_groups))\n"
     ]
    },
    {
     "name": "stdout",
     "output_type": "stream",
     "text": [
      "Problem with taxon k__Bacteria; p__Bacteroidetes; c__Bacteroidia; o__Bacteroidales; f__[Barnesiellaceae]; g__\n"
     ]
    },
    {
     "name": "stderr",
     "output_type": "stream",
     "text": [
      "/Users/jgs286/miniconda3/envs/houtz2021/lib/python3.6/site-packages/sklearn/metrics/pairwise.py:1761: DataConversionWarning: Data was converted to boolean for metric dice\n",
      "  warnings.warn(msg, DataConversionWarning)\n",
      "/Users/jgs286/miniconda3/envs/houtz2021/lib/python3.6/site-packages/skbio/stats/distance/_permanova.py:130: RuntimeWarning: divide by zero encountered in double_scalars\n",
      "  return (s_A / (num_groups - 1)) / (s_W / (sample_size - num_groups))\n",
      "/Users/jgs286/miniconda3/envs/houtz2021/lib/python3.6/site-packages/sklearn/metrics/pairwise.py:1761: DataConversionWarning: Data was converted to boolean for metric dice\n",
      "  warnings.warn(msg, DataConversionWarning)\n",
      "/Users/jgs286/miniconda3/envs/houtz2021/lib/python3.6/site-packages/sklearn/metrics/pairwise.py:1761: DataConversionWarning: Data was converted to boolean for metric dice\n",
      "  warnings.warn(msg, DataConversionWarning)\n"
     ]
    },
    {
     "name": "stdout",
     "output_type": "stream",
     "text": [
      "Problem with taxon k__Bacteria; p__Firmicutes; c__Clostridia; o__Clostridiales; f__[Tissierellaceae]; g__Peptoniphilus\n"
     ]
    },
    {
     "name": "stderr",
     "output_type": "stream",
     "text": [
      "/Users/jgs286/miniconda3/envs/houtz2021/lib/python3.6/site-packages/sklearn/metrics/pairwise.py:1761: DataConversionWarning: Data was converted to boolean for metric dice\n",
      "  warnings.warn(msg, DataConversionWarning)\n",
      "/Users/jgs286/miniconda3/envs/houtz2021/lib/python3.6/site-packages/sklearn/metrics/pairwise.py:1761: DataConversionWarning: Data was converted to boolean for metric dice\n",
      "  warnings.warn(msg, DataConversionWarning)\n",
      "/Users/jgs286/miniconda3/envs/houtz2021/lib/python3.6/site-packages/skbio/stats/distance/_permanova.py:130: RuntimeWarning: divide by zero encountered in double_scalars\n",
      "  return (s_A / (num_groups - 1)) / (s_W / (sample_size - num_groups))\n",
      "/Users/jgs286/miniconda3/envs/houtz2021/lib/python3.6/site-packages/skbio/stats/distance/_permanova.py:130: RuntimeWarning: invalid value encountered in double_scalars\n",
      "  return (s_A / (num_groups - 1)) / (s_W / (sample_size - num_groups))\n",
      "/Users/jgs286/miniconda3/envs/houtz2021/lib/python3.6/site-packages/sklearn/metrics/pairwise.py:1761: DataConversionWarning: Data was converted to boolean for metric dice\n",
      "  warnings.warn(msg, DataConversionWarning)\n"
     ]
    },
    {
     "name": "stdout",
     "output_type": "stream",
     "text": [
      "Problem with taxon k__Bacteria; p__Actinobacteria; c__Coriobacteriia; o__Coriobacteriales; f__Coriobacteriaceae; g__Olsenella\n"
     ]
    },
    {
     "name": "stderr",
     "output_type": "stream",
     "text": [
      "/Users/jgs286/miniconda3/envs/houtz2021/lib/python3.6/site-packages/sklearn/metrics/pairwise.py:1761: DataConversionWarning: Data was converted to boolean for metric dice\n",
      "  warnings.warn(msg, DataConversionWarning)\n",
      "/Users/jgs286/miniconda3/envs/houtz2021/lib/python3.6/site-packages/skbio/stats/distance/_permanova.py:130: RuntimeWarning: divide by zero encountered in double_scalars\n",
      "  return (s_A / (num_groups - 1)) / (s_W / (sample_size - num_groups))\n",
      "/Users/jgs286/miniconda3/envs/houtz2021/lib/python3.6/site-packages/sklearn/metrics/pairwise.py:1761: DataConversionWarning: Data was converted to boolean for metric dice\n",
      "  warnings.warn(msg, DataConversionWarning)\n",
      "/Users/jgs286/miniconda3/envs/houtz2021/lib/python3.6/site-packages/skbio/stats/distance/_permanova.py:130: RuntimeWarning: divide by zero encountered in double_scalars\n",
      "  return (s_A / (num_groups - 1)) / (s_W / (sample_size - num_groups))\n",
      "/Users/jgs286/miniconda3/envs/houtz2021/lib/python3.6/site-packages/sklearn/metrics/pairwise.py:1761: DataConversionWarning: Data was converted to boolean for metric dice\n",
      "  warnings.warn(msg, DataConversionWarning)\n",
      "/Users/jgs286/miniconda3/envs/houtz2021/lib/python3.6/site-packages/skbio/stats/distance/_permanova.py:130: RuntimeWarning: invalid value encountered in double_scalars\n",
      "  return (s_A / (num_groups - 1)) / (s_W / (sample_size - num_groups))\n",
      "/Users/jgs286/miniconda3/envs/houtz2021/lib/python3.6/site-packages/skbio/stats/distance/_permanova.py:130: RuntimeWarning: divide by zero encountered in double_scalars\n",
      "  return (s_A / (num_groups - 1)) / (s_W / (sample_size - num_groups))\n",
      "/Users/jgs286/miniconda3/envs/houtz2021/lib/python3.6/site-packages/sklearn/metrics/pairwise.py:1761: DataConversionWarning: Data was converted to boolean for metric dice\n",
      "  warnings.warn(msg, DataConversionWarning)\n",
      "/Users/jgs286/miniconda3/envs/houtz2021/lib/python3.6/site-packages/skbio/stats/distance/_permanova.py:130: RuntimeWarning: divide by zero encountered in double_scalars\n",
      "  return (s_A / (num_groups - 1)) / (s_W / (sample_size - num_groups))\n",
      "/Users/jgs286/miniconda3/envs/houtz2021/lib/python3.6/site-packages/sklearn/metrics/pairwise.py:1761: DataConversionWarning: Data was converted to boolean for metric dice\n",
      "  warnings.warn(msg, DataConversionWarning)\n",
      "/Users/jgs286/miniconda3/envs/houtz2021/lib/python3.6/site-packages/sklearn/metrics/pairwise.py:1761: DataConversionWarning: Data was converted to boolean for metric dice\n",
      "  warnings.warn(msg, DataConversionWarning)\n"
     ]
    },
    {
     "name": "stdout",
     "output_type": "stream",
     "text": [
      "Problem with taxon k__Bacteria; p__Proteobacteria; c__Alphaproteobacteria; o__Sphingomonadales; f__Sphingomonadaceae; g__Sphingomonas\n"
     ]
    },
    {
     "name": "stderr",
     "output_type": "stream",
     "text": [
      "/Users/jgs286/miniconda3/envs/houtz2021/lib/python3.6/site-packages/sklearn/metrics/pairwise.py:1761: DataConversionWarning: Data was converted to boolean for metric dice\n",
      "  warnings.warn(msg, DataConversionWarning)\n"
     ]
    },
    {
     "name": "stdout",
     "output_type": "stream",
     "text": [
      "Problem with taxon k__Bacteria; p__Bacteroidetes; c__Bacteroidia; o__Bacteroidales; f__Rikenellaceae;  \n"
     ]
    },
    {
     "name": "stderr",
     "output_type": "stream",
     "text": [
      "/Users/jgs286/miniconda3/envs/houtz2021/lib/python3.6/site-packages/sklearn/metrics/pairwise.py:1761: DataConversionWarning: Data was converted to boolean for metric dice\n",
      "  warnings.warn(msg, DataConversionWarning)\n",
      "/Users/jgs286/miniconda3/envs/houtz2021/lib/python3.6/site-packages/skbio/stats/distance/_permanova.py:130: RuntimeWarning: divide by zero encountered in double_scalars\n",
      "  return (s_A / (num_groups - 1)) / (s_W / (sample_size - num_groups))\n",
      "/Users/jgs286/miniconda3/envs/houtz2021/lib/python3.6/site-packages/sklearn/metrics/pairwise.py:1761: DataConversionWarning: Data was converted to boolean for metric dice\n",
      "  warnings.warn(msg, DataConversionWarning)\n"
     ]
    },
    {
     "name": "stdout",
     "output_type": "stream",
     "text": [
      "Problem with taxon k__Bacteria; p__Firmicutes; c__Bacilli; o__Bacillales;  ;  \n"
     ]
    },
    {
     "name": "stderr",
     "output_type": "stream",
     "text": [
      "/Users/jgs286/miniconda3/envs/houtz2021/lib/python3.6/site-packages/sklearn/metrics/pairwise.py:1761: DataConversionWarning: Data was converted to boolean for metric dice\n",
      "  warnings.warn(msg, DataConversionWarning)\n",
      "/Users/jgs286/miniconda3/envs/houtz2021/lib/python3.6/site-packages/skbio/stats/distance/_permanova.py:130: RuntimeWarning: invalid value encountered in double_scalars\n",
      "  return (s_A / (num_groups - 1)) / (s_W / (sample_size - num_groups))\n",
      "/Users/jgs286/miniconda3/envs/houtz2021/lib/python3.6/site-packages/skbio/stats/distance/_permanova.py:130: RuntimeWarning: divide by zero encountered in double_scalars\n",
      "  return (s_A / (num_groups - 1)) / (s_W / (sample_size - num_groups))\n",
      "/Users/jgs286/miniconda3/envs/houtz2021/lib/python3.6/site-packages/sklearn/metrics/pairwise.py:1761: DataConversionWarning: Data was converted to boolean for metric dice\n",
      "  warnings.warn(msg, DataConversionWarning)\n",
      "/Users/jgs286/miniconda3/envs/houtz2021/lib/python3.6/site-packages/sklearn/metrics/pairwise.py:1761: DataConversionWarning: Data was converted to boolean for metric dice\n",
      "  warnings.warn(msg, DataConversionWarning)\n",
      "/Users/jgs286/miniconda3/envs/houtz2021/lib/python3.6/site-packages/skbio/stats/distance/_permanova.py:130: RuntimeWarning: divide by zero encountered in double_scalars\n",
      "  return (s_A / (num_groups - 1)) / (s_W / (sample_size - num_groups))\n"
     ]
    },
    {
     "name": "stdout",
     "output_type": "stream",
     "text": [
      "Problem with taxon k__Bacteria; p__Planctomycetes; c__Planctomycetia; o__Pirellulales; f__Pirellulaceae; g__\n"
     ]
    },
    {
     "name": "stderr",
     "output_type": "stream",
     "text": [
      "/Users/jgs286/miniconda3/envs/houtz2021/lib/python3.6/site-packages/sklearn/metrics/pairwise.py:1761: DataConversionWarning: Data was converted to boolean for metric dice\n",
      "  warnings.warn(msg, DataConversionWarning)\n",
      "/Users/jgs286/miniconda3/envs/houtz2021/lib/python3.6/site-packages/skbio/stats/distance/_permanova.py:130: RuntimeWarning: divide by zero encountered in double_scalars\n",
      "  return (s_A / (num_groups - 1)) / (s_W / (sample_size - num_groups))\n",
      "/Users/jgs286/miniconda3/envs/houtz2021/lib/python3.6/site-packages/sklearn/metrics/pairwise.py:1761: DataConversionWarning: Data was converted to boolean for metric dice\n",
      "  warnings.warn(msg, DataConversionWarning)\n",
      "/Users/jgs286/miniconda3/envs/houtz2021/lib/python3.6/site-packages/sklearn/metrics/pairwise.py:1761: DataConversionWarning: Data was converted to boolean for metric dice\n",
      "  warnings.warn(msg, DataConversionWarning)\n",
      "/Users/jgs286/miniconda3/envs/houtz2021/lib/python3.6/site-packages/skbio/stats/distance/_permanova.py:130: RuntimeWarning: invalid value encountered in double_scalars\n",
      "  return (s_A / (num_groups - 1)) / (s_W / (sample_size - num_groups))\n",
      "/Users/jgs286/miniconda3/envs/houtz2021/lib/python3.6/site-packages/skbio/stats/distance/_permanova.py:130: RuntimeWarning: divide by zero encountered in double_scalars\n",
      "  return (s_A / (num_groups - 1)) / (s_W / (sample_size - num_groups))\n"
     ]
    },
    {
     "name": "stdout",
     "output_type": "stream",
     "text": [
      "Problem with taxon k__Bacteria; p__Firmicutes; c__Clostridia; o__Clostridiales; f__Ruminococcaceae; g__Anaerofilum\n"
     ]
    },
    {
     "name": "stderr",
     "output_type": "stream",
     "text": [
      "/Users/jgs286/miniconda3/envs/houtz2021/lib/python3.6/site-packages/sklearn/metrics/pairwise.py:1761: DataConversionWarning: Data was converted to boolean for metric dice\n",
      "  warnings.warn(msg, DataConversionWarning)\n",
      "/Users/jgs286/miniconda3/envs/houtz2021/lib/python3.6/site-packages/skbio/stats/distance/_permanova.py:130: RuntimeWarning: divide by zero encountered in double_scalars\n",
      "  return (s_A / (num_groups - 1)) / (s_W / (sample_size - num_groups))\n",
      "/Users/jgs286/miniconda3/envs/houtz2021/lib/python3.6/site-packages/sklearn/metrics/pairwise.py:1761: DataConversionWarning: Data was converted to boolean for metric dice\n",
      "  warnings.warn(msg, DataConversionWarning)\n"
     ]
    },
    {
     "name": "stdout",
     "output_type": "stream",
     "text": [
      "Problem with taxon k__Bacteria; p__Firmicutes; c__Clostridia; o__Clostridiales; f__Peptostreptococcaceae;  \n"
     ]
    },
    {
     "name": "stderr",
     "output_type": "stream",
     "text": [
      "/Users/jgs286/miniconda3/envs/houtz2021/lib/python3.6/site-packages/sklearn/metrics/pairwise.py:1761: DataConversionWarning: Data was converted to boolean for metric dice\n",
      "  warnings.warn(msg, DataConversionWarning)\n"
     ]
    },
    {
     "name": "stdout",
     "output_type": "stream",
     "text": [
      "Problem with taxon k__Bacteria; p__Proteobacteria; c__Gammaproteobacteria;  ;  ;  \n"
     ]
    },
    {
     "name": "stderr",
     "output_type": "stream",
     "text": [
      "/Users/jgs286/miniconda3/envs/houtz2021/lib/python3.6/site-packages/sklearn/metrics/pairwise.py:1761: DataConversionWarning: Data was converted to boolean for metric dice\n",
      "  warnings.warn(msg, DataConversionWarning)\n",
      "/Users/jgs286/miniconda3/envs/houtz2021/lib/python3.6/site-packages/skbio/stats/distance/_permanova.py:130: RuntimeWarning: divide by zero encountered in double_scalars\n",
      "  return (s_A / (num_groups - 1)) / (s_W / (sample_size - num_groups))\n"
     ]
    },
    {
     "name": "stdout",
     "output_type": "stream",
     "text": [
      "Problem with taxon k__Bacteria; p__Bacteroidetes; c__Bacteroidia; o__Bacteroidales; f__[Odoribacteraceae]; g__Odoribacter\n"
     ]
    },
    {
     "name": "stderr",
     "output_type": "stream",
     "text": [
      "/Users/jgs286/miniconda3/envs/houtz2021/lib/python3.6/site-packages/sklearn/metrics/pairwise.py:1761: DataConversionWarning: Data was converted to boolean for metric dice\n",
      "  warnings.warn(msg, DataConversionWarning)\n",
      "/Users/jgs286/miniconda3/envs/houtz2021/lib/python3.6/site-packages/skbio/stats/distance/_permanova.py:130: RuntimeWarning: divide by zero encountered in double_scalars\n",
      "  return (s_A / (num_groups - 1)) / (s_W / (sample_size - num_groups))\n",
      "/Users/jgs286/miniconda3/envs/houtz2021/lib/python3.6/site-packages/skbio/stats/distance/_permanova.py:130: RuntimeWarning: invalid value encountered in double_scalars\n",
      "  return (s_A / (num_groups - 1)) / (s_W / (sample_size - num_groups))\n",
      "/Users/jgs286/miniconda3/envs/houtz2021/lib/python3.6/site-packages/sklearn/metrics/pairwise.py:1761: DataConversionWarning: Data was converted to boolean for metric dice\n",
      "  warnings.warn(msg, DataConversionWarning)\n",
      "/Users/jgs286/miniconda3/envs/houtz2021/lib/python3.6/site-packages/skbio/stats/distance/_permanova.py:130: RuntimeWarning: invalid value encountered in double_scalars\n",
      "  return (s_A / (num_groups - 1)) / (s_W / (sample_size - num_groups))\n"
     ]
    },
    {
     "name": "stdout",
     "output_type": "stream",
     "text": [
      "Problem with taxon k__Bacteria; p__Firmicutes; c__Clostridia; o__Clostridiales; f__Eubacteriaceae; g__Pseudoramibacter_Eubacterium\n"
     ]
    },
    {
     "name": "stderr",
     "output_type": "stream",
     "text": [
      "/Users/jgs286/miniconda3/envs/houtz2021/lib/python3.6/site-packages/sklearn/metrics/pairwise.py:1761: DataConversionWarning: Data was converted to boolean for metric dice\n",
      "  warnings.warn(msg, DataConversionWarning)\n",
      "/Users/jgs286/miniconda3/envs/houtz2021/lib/python3.6/site-packages/skbio/stats/distance/_permanova.py:130: RuntimeWarning: divide by zero encountered in double_scalars\n",
      "  return (s_A / (num_groups - 1)) / (s_W / (sample_size - num_groups))\n",
      "/Users/jgs286/miniconda3/envs/houtz2021/lib/python3.6/site-packages/skbio/stats/distance/_permanova.py:130: RuntimeWarning: invalid value encountered in double_scalars\n",
      "  return (s_A / (num_groups - 1)) / (s_W / (sample_size - num_groups))\n",
      "/Users/jgs286/miniconda3/envs/houtz2021/lib/python3.6/site-packages/sklearn/metrics/pairwise.py:1761: DataConversionWarning: Data was converted to boolean for metric dice\n",
      "  warnings.warn(msg, DataConversionWarning)\n",
      "/Users/jgs286/miniconda3/envs/houtz2021/lib/python3.6/site-packages/skbio/stats/distance/_permanova.py:130: RuntimeWarning: divide by zero encountered in double_scalars\n",
      "  return (s_A / (num_groups - 1)) / (s_W / (sample_size - num_groups))\n",
      "/Users/jgs286/miniconda3/envs/houtz2021/lib/python3.6/site-packages/sklearn/metrics/pairwise.py:1761: DataConversionWarning: Data was converted to boolean for metric dice\n",
      "  warnings.warn(msg, DataConversionWarning)\n"
     ]
    },
    {
     "name": "stdout",
     "output_type": "stream",
     "text": [
      "Problem with taxon k__Bacteria; p__Actinobacteria; c__Actinobacteria; o__Actinomycetales; f__Mycobacteriaceae; g__Mycobacterium\n"
     ]
    },
    {
     "name": "stderr",
     "output_type": "stream",
     "text": [
      "/Users/jgs286/miniconda3/envs/houtz2021/lib/python3.6/site-packages/sklearn/metrics/pairwise.py:1761: DataConversionWarning: Data was converted to boolean for metric dice\n",
      "  warnings.warn(msg, DataConversionWarning)\n"
     ]
    },
    {
     "name": "stdout",
     "output_type": "stream",
     "text": [
      "Problem with taxon k__Bacteria; p__Firmicutes; c__Bacilli; o__Lactobacillales;  ;  \n"
     ]
    },
    {
     "name": "stderr",
     "output_type": "stream",
     "text": [
      "/Users/jgs286/miniconda3/envs/houtz2021/lib/python3.6/site-packages/sklearn/metrics/pairwise.py:1761: DataConversionWarning: Data was converted to boolean for metric dice\n",
      "  warnings.warn(msg, DataConversionWarning)\n",
      "/Users/jgs286/miniconda3/envs/houtz2021/lib/python3.6/site-packages/skbio/stats/distance/_permanova.py:130: RuntimeWarning: divide by zero encountered in double_scalars\n",
      "  return (s_A / (num_groups - 1)) / (s_W / (sample_size - num_groups))\n"
     ]
    },
    {
     "name": "stdout",
     "output_type": "stream",
     "text": [
      "Problem with taxon k__Bacteria; p__Elusimicrobia; c__Elusimicrobia; o__Elusimicrobiales; f__Elusimicrobiaceae; g__\n"
     ]
    },
    {
     "name": "stderr",
     "output_type": "stream",
     "text": [
      "/Users/jgs286/miniconda3/envs/houtz2021/lib/python3.6/site-packages/sklearn/metrics/pairwise.py:1761: DataConversionWarning: Data was converted to boolean for metric dice\n",
      "  warnings.warn(msg, DataConversionWarning)\n",
      "/Users/jgs286/miniconda3/envs/houtz2021/lib/python3.6/site-packages/sklearn/metrics/pairwise.py:1761: DataConversionWarning: Data was converted to boolean for metric dice\n",
      "  warnings.warn(msg, DataConversionWarning)\n",
      "/Users/jgs286/miniconda3/envs/houtz2021/lib/python3.6/site-packages/skbio/stats/distance/_permanova.py:130: RuntimeWarning: divide by zero encountered in double_scalars\n",
      "  return (s_A / (num_groups - 1)) / (s_W / (sample_size - num_groups))\n"
     ]
    },
    {
     "name": "stdout",
     "output_type": "stream",
     "text": [
      "Problem with taxon k__Bacteria; p__Proteobacteria; c__Deltaproteobacteria; o__Myxococcales; f__; g__\n"
     ]
    },
    {
     "name": "stderr",
     "output_type": "stream",
     "text": [
      "/Users/jgs286/miniconda3/envs/houtz2021/lib/python3.6/site-packages/sklearn/metrics/pairwise.py:1761: DataConversionWarning: Data was converted to boolean for metric dice\n",
      "  warnings.warn(msg, DataConversionWarning)\n",
      "/Users/jgs286/miniconda3/envs/houtz2021/lib/python3.6/site-packages/skbio/stats/distance/_permanova.py:130: RuntimeWarning: divide by zero encountered in double_scalars\n",
      "  return (s_A / (num_groups - 1)) / (s_W / (sample_size - num_groups))\n",
      "/Users/jgs286/miniconda3/envs/houtz2021/lib/python3.6/site-packages/sklearn/metrics/pairwise.py:1761: DataConversionWarning: Data was converted to boolean for metric dice\n",
      "  warnings.warn(msg, DataConversionWarning)\n"
     ]
    },
    {
     "name": "stdout",
     "output_type": "stream",
     "text": [
      "Problem with taxon k__Bacteria; p__Proteobacteria; c__Alphaproteobacteria; o__Rhizobiales; f__Hyphomicrobiaceae; g__Rhodoplanes\n"
     ]
    },
    {
     "name": "stderr",
     "output_type": "stream",
     "text": [
      "/Users/jgs286/miniconda3/envs/houtz2021/lib/python3.6/site-packages/sklearn/metrics/pairwise.py:1761: DataConversionWarning: Data was converted to boolean for metric dice\n",
      "  warnings.warn(msg, DataConversionWarning)\n",
      "/Users/jgs286/miniconda3/envs/houtz2021/lib/python3.6/site-packages/sklearn/metrics/pairwise.py:1761: DataConversionWarning: Data was converted to boolean for metric dice\n",
      "  warnings.warn(msg, DataConversionWarning)\n",
      "/Users/jgs286/miniconda3/envs/houtz2021/lib/python3.6/site-packages/skbio/stats/distance/_permanova.py:130: RuntimeWarning: divide by zero encountered in double_scalars\n",
      "  return (s_A / (num_groups - 1)) / (s_W / (sample_size - num_groups))\n",
      "/Users/jgs286/miniconda3/envs/houtz2021/lib/python3.6/site-packages/sklearn/metrics/pairwise.py:1761: DataConversionWarning: Data was converted to boolean for metric dice\n",
      "  warnings.warn(msg, DataConversionWarning)\n",
      "/Users/jgs286/miniconda3/envs/houtz2021/lib/python3.6/site-packages/skbio/stats/distance/_permanova.py:130: RuntimeWarning: divide by zero encountered in double_scalars\n",
      "  return (s_A / (num_groups - 1)) / (s_W / (sample_size - num_groups))\n",
      "/Users/jgs286/miniconda3/envs/houtz2021/lib/python3.6/site-packages/sklearn/metrics/pairwise.py:1761: DataConversionWarning: Data was converted to boolean for metric dice\n",
      "  warnings.warn(msg, DataConversionWarning)\n",
      "/Users/jgs286/miniconda3/envs/houtz2021/lib/python3.6/site-packages/skbio/stats/distance/_permanova.py:130: RuntimeWarning: invalid value encountered in double_scalars\n",
      "  return (s_A / (num_groups - 1)) / (s_W / (sample_size - num_groups))\n",
      "/Users/jgs286/miniconda3/envs/houtz2021/lib/python3.6/site-packages/skbio/stats/distance/_permanova.py:130: RuntimeWarning: divide by zero encountered in double_scalars\n",
      "  return (s_A / (num_groups - 1)) / (s_W / (sample_size - num_groups))\n",
      "/Users/jgs286/miniconda3/envs/houtz2021/lib/python3.6/site-packages/sklearn/metrics/pairwise.py:1761: DataConversionWarning: Data was converted to boolean for metric dice\n",
      "  warnings.warn(msg, DataConversionWarning)\n"
     ]
    },
    {
     "name": "stdout",
     "output_type": "stream",
     "text": [
      "Problem with taxon k__Bacteria; p__Actinobacteria;  ;  ;  ;  \n"
     ]
    },
    {
     "name": "stderr",
     "output_type": "stream",
     "text": [
      "/Users/jgs286/miniconda3/envs/houtz2021/lib/python3.6/site-packages/sklearn/metrics/pairwise.py:1761: DataConversionWarning: Data was converted to boolean for metric dice\n",
      "  warnings.warn(msg, DataConversionWarning)\n",
      "/Users/jgs286/miniconda3/envs/houtz2021/lib/python3.6/site-packages/sklearn/metrics/pairwise.py:1761: DataConversionWarning: Data was converted to boolean for metric dice\n",
      "  warnings.warn(msg, DataConversionWarning)\n",
      "/Users/jgs286/miniconda3/envs/houtz2021/lib/python3.6/site-packages/skbio/stats/distance/_permanova.py:130: RuntimeWarning: divide by zero encountered in double_scalars\n",
      "  return (s_A / (num_groups - 1)) / (s_W / (sample_size - num_groups))\n",
      "/Users/jgs286/miniconda3/envs/houtz2021/lib/python3.6/site-packages/sklearn/metrics/pairwise.py:1761: DataConversionWarning: Data was converted to boolean for metric dice\n",
      "  warnings.warn(msg, DataConversionWarning)\n",
      "/Users/jgs286/miniconda3/envs/houtz2021/lib/python3.6/site-packages/skbio/stats/distance/_permanova.py:130: RuntimeWarning: invalid value encountered in double_scalars\n",
      "  return (s_A / (num_groups - 1)) / (s_W / (sample_size - num_groups))\n",
      "/Users/jgs286/miniconda3/envs/houtz2021/lib/python3.6/site-packages/sklearn/metrics/pairwise.py:1761: DataConversionWarning: Data was converted to boolean for metric dice\n",
      "  warnings.warn(msg, DataConversionWarning)\n",
      "/Users/jgs286/miniconda3/envs/houtz2021/lib/python3.6/site-packages/skbio/stats/distance/_permanova.py:130: RuntimeWarning: divide by zero encountered in double_scalars\n",
      "  return (s_A / (num_groups - 1)) / (s_W / (sample_size - num_groups))\n",
      "/Users/jgs286/miniconda3/envs/houtz2021/lib/python3.6/site-packages/sklearn/metrics/pairwise.py:1761: DataConversionWarning: Data was converted to boolean for metric dice\n",
      "  warnings.warn(msg, DataConversionWarning)\n",
      "/Users/jgs286/miniconda3/envs/houtz2021/lib/python3.6/site-packages/sklearn/metrics/pairwise.py:1761: DataConversionWarning: Data was converted to boolean for metric dice\n",
      "  warnings.warn(msg, DataConversionWarning)\n"
     ]
    },
    {
     "name": "stdout",
     "output_type": "stream",
     "text": [
      "Problem with taxon k__Bacteria; p__Bacteroidetes; c__Sphingobacteriia; o__Sphingobacteriales; f__Sphingobacteriaceae; g__Sphingobacterium\n"
     ]
    },
    {
     "name": "stderr",
     "output_type": "stream",
     "text": [
      "/Users/jgs286/miniconda3/envs/houtz2021/lib/python3.6/site-packages/sklearn/metrics/pairwise.py:1761: DataConversionWarning: Data was converted to boolean for metric dice\n",
      "  warnings.warn(msg, DataConversionWarning)\n",
      "/Users/jgs286/miniconda3/envs/houtz2021/lib/python3.6/site-packages/skbio/stats/distance/_permanova.py:130: RuntimeWarning: invalid value encountered in double_scalars\n",
      "  return (s_A / (num_groups - 1)) / (s_W / (sample_size - num_groups))\n",
      "/Users/jgs286/miniconda3/envs/houtz2021/lib/python3.6/site-packages/skbio/stats/distance/_permanova.py:130: RuntimeWarning: divide by zero encountered in double_scalars\n",
      "  return (s_A / (num_groups - 1)) / (s_W / (sample_size - num_groups))\n",
      "/Users/jgs286/miniconda3/envs/houtz2021/lib/python3.6/site-packages/sklearn/metrics/pairwise.py:1761: DataConversionWarning: Data was converted to boolean for metric dice\n",
      "  warnings.warn(msg, DataConversionWarning)\n",
      "/Users/jgs286/miniconda3/envs/houtz2021/lib/python3.6/site-packages/sklearn/metrics/pairwise.py:1761: DataConversionWarning: Data was converted to boolean for metric dice\n",
      "  warnings.warn(msg, DataConversionWarning)\n",
      "/Users/jgs286/miniconda3/envs/houtz2021/lib/python3.6/site-packages/skbio/stats/distance/_permanova.py:130: RuntimeWarning: divide by zero encountered in double_scalars\n",
      "  return (s_A / (num_groups - 1)) / (s_W / (sample_size - num_groups))\n",
      "/Users/jgs286/miniconda3/envs/houtz2021/lib/python3.6/site-packages/sklearn/metrics/pairwise.py:1761: DataConversionWarning: Data was converted to boolean for metric dice\n",
      "  warnings.warn(msg, DataConversionWarning)\n",
      "/Users/jgs286/miniconda3/envs/houtz2021/lib/python3.6/site-packages/skbio/stats/distance/_permanova.py:130: RuntimeWarning: divide by zero encountered in double_scalars\n",
      "  return (s_A / (num_groups - 1)) / (s_W / (sample_size - num_groups))\n",
      "/Users/jgs286/miniconda3/envs/houtz2021/lib/python3.6/site-packages/sklearn/metrics/pairwise.py:1761: DataConversionWarning: Data was converted to boolean for metric dice\n",
      "  warnings.warn(msg, DataConversionWarning)\n",
      "/Users/jgs286/miniconda3/envs/houtz2021/lib/python3.6/site-packages/sklearn/metrics/pairwise.py:1761: DataConversionWarning: Data was converted to boolean for metric dice\n",
      "  warnings.warn(msg, DataConversionWarning)\n",
      "/Users/jgs286/miniconda3/envs/houtz2021/lib/python3.6/site-packages/skbio/stats/distance/_permanova.py:130: RuntimeWarning: divide by zero encountered in double_scalars\n",
      "  return (s_A / (num_groups - 1)) / (s_W / (sample_size - num_groups))\n"
     ]
    },
    {
     "name": "stdout",
     "output_type": "stream",
     "text": [
      "Problem with taxon k__Bacteria; p__; c__; o__; f__; g__\n"
     ]
    },
    {
     "name": "stderr",
     "output_type": "stream",
     "text": [
      "/Users/jgs286/miniconda3/envs/houtz2021/lib/python3.6/site-packages/sklearn/metrics/pairwise.py:1761: DataConversionWarning: Data was converted to boolean for metric dice\n",
      "  warnings.warn(msg, DataConversionWarning)\n",
      "/Users/jgs286/miniconda3/envs/houtz2021/lib/python3.6/site-packages/sklearn/metrics/pairwise.py:1761: DataConversionWarning: Data was converted to boolean for metric dice\n",
      "  warnings.warn(msg, DataConversionWarning)\n",
      "/Users/jgs286/miniconda3/envs/houtz2021/lib/python3.6/site-packages/skbio/stats/distance/_permanova.py:130: RuntimeWarning: divide by zero encountered in double_scalars\n",
      "  return (s_A / (num_groups - 1)) / (s_W / (sample_size - num_groups))\n",
      "/Users/jgs286/miniconda3/envs/houtz2021/lib/python3.6/site-packages/skbio/stats/distance/_permanova.py:130: RuntimeWarning: invalid value encountered in double_scalars\n",
      "  return (s_A / (num_groups - 1)) / (s_W / (sample_size - num_groups))\n"
     ]
    },
    {
     "name": "stdout",
     "output_type": "stream",
     "text": [
      "Problem with taxon k__Archaea; p__Euryarchaeota; c__Methanobacteria; o__Methanobacteriales; f__Methanobacteriaceae; g__Methanosphaera\n"
     ]
    },
    {
     "name": "stderr",
     "output_type": "stream",
     "text": [
      "/Users/jgs286/miniconda3/envs/houtz2021/lib/python3.6/site-packages/sklearn/metrics/pairwise.py:1761: DataConversionWarning: Data was converted to boolean for metric dice\n",
      "  warnings.warn(msg, DataConversionWarning)\n",
      "/Users/jgs286/miniconda3/envs/houtz2021/lib/python3.6/site-packages/skbio/stats/distance/_permanova.py:130: RuntimeWarning: invalid value encountered in double_scalars\n",
      "  return (s_A / (num_groups - 1)) / (s_W / (sample_size - num_groups))\n",
      "/Users/jgs286/miniconda3/envs/houtz2021/lib/python3.6/site-packages/skbio/stats/distance/_permanova.py:130: RuntimeWarning: divide by zero encountered in double_scalars\n",
      "  return (s_A / (num_groups - 1)) / (s_W / (sample_size - num_groups))\n"
     ]
    },
    {
     "name": "stdout",
     "output_type": "stream",
     "text": [
      "Problem with taxon k__Bacteria; p__Firmicutes; c__Bacilli; o__Lactobacillales; f__Streptococcaceae; g__Lactococcus\n"
     ]
    },
    {
     "name": "stderr",
     "output_type": "stream",
     "text": [
      "/Users/jgs286/miniconda3/envs/houtz2021/lib/python3.6/site-packages/sklearn/metrics/pairwise.py:1761: DataConversionWarning: Data was converted to boolean for metric dice\n",
      "  warnings.warn(msg, DataConversionWarning)\n"
     ]
    },
    {
     "name": "stdout",
     "output_type": "stream",
     "text": [
      "Problem with taxon k__Bacteria; p__Bacteroidetes; c__Bacteroidia; o__Bacteroidales; f__[Paraprevotellaceae]; g__Paraprevotella\n"
     ]
    },
    {
     "name": "stderr",
     "output_type": "stream",
     "text": [
      "/Users/jgs286/miniconda3/envs/houtz2021/lib/python3.6/site-packages/sklearn/metrics/pairwise.py:1761: DataConversionWarning: Data was converted to boolean for metric dice\n",
      "  warnings.warn(msg, DataConversionWarning)\n",
      "/Users/jgs286/miniconda3/envs/houtz2021/lib/python3.6/site-packages/skbio/stats/distance/_permanova.py:130: RuntimeWarning: invalid value encountered in double_scalars\n",
      "  return (s_A / (num_groups - 1)) / (s_W / (sample_size - num_groups))\n",
      "/Users/jgs286/miniconda3/envs/houtz2021/lib/python3.6/site-packages/skbio/stats/distance/_permanova.py:130: RuntimeWarning: divide by zero encountered in double_scalars\n",
      "  return (s_A / (num_groups - 1)) / (s_W / (sample_size - num_groups))\n"
     ]
    },
    {
     "name": "stdout",
     "output_type": "stream",
     "text": [
      "Problem with taxon k__Bacteria; p__Firmicutes; c__Clostridia; o__Clostridiales; f__Lachnospiraceae; g__Lachnobacterium\n"
     ]
    },
    {
     "name": "stderr",
     "output_type": "stream",
     "text": [
      "/Users/jgs286/miniconda3/envs/houtz2021/lib/python3.6/site-packages/sklearn/metrics/pairwise.py:1761: DataConversionWarning: Data was converted to boolean for metric dice\n",
      "  warnings.warn(msg, DataConversionWarning)\n",
      "/Users/jgs286/miniconda3/envs/houtz2021/lib/python3.6/site-packages/skbio/stats/distance/_permanova.py:130: RuntimeWarning: invalid value encountered in double_scalars\n",
      "  return (s_A / (num_groups - 1)) / (s_W / (sample_size - num_groups))\n",
      "/Users/jgs286/miniconda3/envs/houtz2021/lib/python3.6/site-packages/sklearn/metrics/pairwise.py:1761: DataConversionWarning: Data was converted to boolean for metric dice\n",
      "  warnings.warn(msg, DataConversionWarning)\n"
     ]
    },
    {
     "name": "stdout",
     "output_type": "stream",
     "text": [
      "Problem with taxon k__Bacteria; p__Firmicutes; c__Clostridia; o__Clostridiales; f__Veillonellaceae; g__Anaerovibrio\n"
     ]
    },
    {
     "name": "stderr",
     "output_type": "stream",
     "text": [
      "/Users/jgs286/miniconda3/envs/houtz2021/lib/python3.6/site-packages/sklearn/metrics/pairwise.py:1761: DataConversionWarning: Data was converted to boolean for metric dice\n",
      "  warnings.warn(msg, DataConversionWarning)\n",
      "/Users/jgs286/miniconda3/envs/houtz2021/lib/python3.6/site-packages/sklearn/metrics/pairwise.py:1761: DataConversionWarning: Data was converted to boolean for metric dice\n",
      "  warnings.warn(msg, DataConversionWarning)\n",
      "/Users/jgs286/miniconda3/envs/houtz2021/lib/python3.6/site-packages/skbio/stats/distance/_permanova.py:130: RuntimeWarning: divide by zero encountered in double_scalars\n",
      "  return (s_A / (num_groups - 1)) / (s_W / (sample_size - num_groups))\n",
      "/Users/jgs286/miniconda3/envs/houtz2021/lib/python3.6/site-packages/sklearn/metrics/pairwise.py:1761: DataConversionWarning: Data was converted to boolean for metric dice\n",
      "  warnings.warn(msg, DataConversionWarning)\n",
      "/Users/jgs286/miniconda3/envs/houtz2021/lib/python3.6/site-packages/sklearn/metrics/pairwise.py:1761: DataConversionWarning: Data was converted to boolean for metric dice\n",
      "  warnings.warn(msg, DataConversionWarning)\n"
     ]
    },
    {
     "name": "stdout",
     "output_type": "stream",
     "text": [
      "Problem with taxon k__Bacteria; p__Acidobacteria; c__[Chloracidobacteria]; o__RB41; f__Ellin6075; g__\n"
     ]
    },
    {
     "name": "stderr",
     "output_type": "stream",
     "text": [
      "/Users/jgs286/miniconda3/envs/houtz2021/lib/python3.6/site-packages/sklearn/metrics/pairwise.py:1761: DataConversionWarning: Data was converted to boolean for metric dice\n",
      "  warnings.warn(msg, DataConversionWarning)\n",
      "/Users/jgs286/miniconda3/envs/houtz2021/lib/python3.6/site-packages/skbio/stats/distance/_permanova.py:130: RuntimeWarning: divide by zero encountered in double_scalars\n",
      "  return (s_A / (num_groups - 1)) / (s_W / (sample_size - num_groups))\n",
      "/Users/jgs286/miniconda3/envs/houtz2021/lib/python3.6/site-packages/sklearn/metrics/pairwise.py:1761: DataConversionWarning: Data was converted to boolean for metric dice\n",
      "  warnings.warn(msg, DataConversionWarning)\n"
     ]
    },
    {
     "name": "stdout",
     "output_type": "stream",
     "text": [
      "Problem with taxon k__Bacteria; p__Proteobacteria; c__Alphaproteobacteria; o__Rhodospirillales; f__Rhodospirillaceae; g__\n"
     ]
    },
    {
     "name": "stderr",
     "output_type": "stream",
     "text": [
      "/Users/jgs286/miniconda3/envs/houtz2021/lib/python3.6/site-packages/sklearn/metrics/pairwise.py:1761: DataConversionWarning: Data was converted to boolean for metric dice\n",
      "  warnings.warn(msg, DataConversionWarning)\n"
     ]
    },
    {
     "name": "stdout",
     "output_type": "stream",
     "text": [
      "Problem with taxon k__Bacteria; p__Proteobacteria; c__Gammaproteobacteria; o__Xanthomonadales; f__Xanthomonadaceae;  \n"
     ]
    },
    {
     "name": "stderr",
     "output_type": "stream",
     "text": [
      "/Users/jgs286/miniconda3/envs/houtz2021/lib/python3.6/site-packages/sklearn/metrics/pairwise.py:1761: DataConversionWarning: Data was converted to boolean for metric dice\n",
      "  warnings.warn(msg, DataConversionWarning)\n",
      "/Users/jgs286/miniconda3/envs/houtz2021/lib/python3.6/site-packages/skbio/stats/distance/_permanova.py:130: RuntimeWarning: invalid value encountered in double_scalars\n",
      "  return (s_A / (num_groups - 1)) / (s_W / (sample_size - num_groups))\n"
     ]
    },
    {
     "name": "stdout",
     "output_type": "stream",
     "text": [
      "Problem with taxon k__Bacteria; p__Proteobacteria; c__Epsilonproteobacteria; o__Campylobacterales; f__Helicobacteraceae; g__Flexispira\n"
     ]
    },
    {
     "name": "stderr",
     "output_type": "stream",
     "text": [
      "/Users/jgs286/miniconda3/envs/houtz2021/lib/python3.6/site-packages/sklearn/metrics/pairwise.py:1761: DataConversionWarning: Data was converted to boolean for metric dice\n",
      "  warnings.warn(msg, DataConversionWarning)\n"
     ]
    },
    {
     "name": "stdout",
     "output_type": "stream",
     "text": [
      "Problem with taxon k__Archaea; p__Crenarchaeota; c__Thaumarchaeota; o__Nitrososphaerales; f__Nitrososphaeraceae; g__Candidatus Nitrososphaera\n"
     ]
    },
    {
     "name": "stderr",
     "output_type": "stream",
     "text": [
      "/Users/jgs286/miniconda3/envs/houtz2021/lib/python3.6/site-packages/sklearn/metrics/pairwise.py:1761: DataConversionWarning: Data was converted to boolean for metric dice\n",
      "  warnings.warn(msg, DataConversionWarning)\n",
      "/Users/jgs286/miniconda3/envs/houtz2021/lib/python3.6/site-packages/skbio/stats/distance/_permanova.py:130: RuntimeWarning: invalid value encountered in double_scalars\n",
      "  return (s_A / (num_groups - 1)) / (s_W / (sample_size - num_groups))\n",
      "/Users/jgs286/miniconda3/envs/houtz2021/lib/python3.6/site-packages/skbio/stats/distance/_permanova.py:130: RuntimeWarning: divide by zero encountered in double_scalars\n",
      "  return (s_A / (num_groups - 1)) / (s_W / (sample_size - num_groups))\n"
     ]
    },
    {
     "name": "stdout",
     "output_type": "stream",
     "text": [
      "Problem with taxon k__Bacteria; p__TM7; c__TM7-3; o__CW040; f__F16; g__\n"
     ]
    },
    {
     "name": "stderr",
     "output_type": "stream",
     "text": [
      "/Users/jgs286/miniconda3/envs/houtz2021/lib/python3.6/site-packages/sklearn/metrics/pairwise.py:1761: DataConversionWarning: Data was converted to boolean for metric dice\n",
      "  warnings.warn(msg, DataConversionWarning)\n",
      "/Users/jgs286/miniconda3/envs/houtz2021/lib/python3.6/site-packages/skbio/stats/distance/_permanova.py:130: RuntimeWarning: invalid value encountered in double_scalars\n",
      "  return (s_A / (num_groups - 1)) / (s_W / (sample_size - num_groups))\n",
      "/Users/jgs286/miniconda3/envs/houtz2021/lib/python3.6/site-packages/skbio/stats/distance/_permanova.py:130: RuntimeWarning: divide by zero encountered in double_scalars\n",
      "  return (s_A / (num_groups - 1)) / (s_W / (sample_size - num_groups))\n",
      "/Users/jgs286/miniconda3/envs/houtz2021/lib/python3.6/site-packages/sklearn/metrics/pairwise.py:1761: DataConversionWarning: Data was converted to boolean for metric dice\n",
      "  warnings.warn(msg, DataConversionWarning)\n",
      "/Users/jgs286/miniconda3/envs/houtz2021/lib/python3.6/site-packages/skbio/stats/distance/_permanova.py:130: RuntimeWarning: divide by zero encountered in double_scalars\n",
      "  return (s_A / (num_groups - 1)) / (s_W / (sample_size - num_groups))\n",
      "/Users/jgs286/miniconda3/envs/houtz2021/lib/python3.6/site-packages/skbio/stats/distance/_permanova.py:130: RuntimeWarning: invalid value encountered in double_scalars\n",
      "  return (s_A / (num_groups - 1)) / (s_W / (sample_size - num_groups))\n"
     ]
    },
    {
     "name": "stdout",
     "output_type": "stream",
     "text": [
      "Problem with taxon k__Bacteria; p__Firmicutes; c__Clostridia; o__Clostridiales; f__Lachnospiraceae; g__Ruminococcus\n"
     ]
    },
    {
     "name": "stderr",
     "output_type": "stream",
     "text": [
      "/Users/jgs286/miniconda3/envs/houtz2021/lib/python3.6/site-packages/sklearn/metrics/pairwise.py:1761: DataConversionWarning: Data was converted to boolean for metric dice\n",
      "  warnings.warn(msg, DataConversionWarning)\n"
     ]
    },
    {
     "name": "stdout",
     "output_type": "stream",
     "text": [
      "Problem with taxon k__Bacteria; p__Firmicutes; c__Bacilli; o__Lactobacillales; f__Enterococcaceae; g__Enterococcus\n"
     ]
    },
    {
     "name": "stderr",
     "output_type": "stream",
     "text": [
      "/Users/jgs286/miniconda3/envs/houtz2021/lib/python3.6/site-packages/sklearn/metrics/pairwise.py:1761: DataConversionWarning: Data was converted to boolean for metric dice\n",
      "  warnings.warn(msg, DataConversionWarning)\n",
      "/Users/jgs286/miniconda3/envs/houtz2021/lib/python3.6/site-packages/sklearn/metrics/pairwise.py:1761: DataConversionWarning: Data was converted to boolean for metric dice\n",
      "  warnings.warn(msg, DataConversionWarning)\n"
     ]
    },
    {
     "name": "stdout",
     "output_type": "stream",
     "text": [
      "Problem with taxon k__Bacteria; p__Firmicutes; c__Clostridia; o__Clostridiales; f__Clostridiaceae; g__02d06\n"
     ]
    },
    {
     "name": "stderr",
     "output_type": "stream",
     "text": [
      "/Users/jgs286/miniconda3/envs/houtz2021/lib/python3.6/site-packages/sklearn/metrics/pairwise.py:1761: DataConversionWarning: Data was converted to boolean for metric dice\n",
      "  warnings.warn(msg, DataConversionWarning)\n",
      "/Users/jgs286/miniconda3/envs/houtz2021/lib/python3.6/site-packages/skbio/stats/distance/_permanova.py:130: RuntimeWarning: divide by zero encountered in double_scalars\n",
      "  return (s_A / (num_groups - 1)) / (s_W / (sample_size - num_groups))\n",
      "/Users/jgs286/miniconda3/envs/houtz2021/lib/python3.6/site-packages/skbio/stats/distance/_permanova.py:130: RuntimeWarning: invalid value encountered in double_scalars\n",
      "  return (s_A / (num_groups - 1)) / (s_W / (sample_size - num_groups))\n"
     ]
    },
    {
     "name": "stdout",
     "output_type": "stream",
     "text": [
      "Problem with taxon k__Bacteria; p__Bacteroidetes; c__Bacteroidia; o__Bacteroidales; f__BS11; g__\n"
     ]
    },
    {
     "name": "stderr",
     "output_type": "stream",
     "text": [
      "/Users/jgs286/miniconda3/envs/houtz2021/lib/python3.6/site-packages/sklearn/metrics/pairwise.py:1761: DataConversionWarning: Data was converted to boolean for metric dice\n",
      "  warnings.warn(msg, DataConversionWarning)\n",
      "/Users/jgs286/miniconda3/envs/houtz2021/lib/python3.6/site-packages/sklearn/metrics/pairwise.py:1761: DataConversionWarning: Data was converted to boolean for metric dice\n",
      "  warnings.warn(msg, DataConversionWarning)\n"
     ]
    },
    {
     "name": "stdout",
     "output_type": "stream",
     "text": [
      "Problem with taxon k__Bacteria; p__Proteobacteria; c__Alphaproteobacteria; o__Rhizobiales; f__Hyphomicrobiaceae; g__Devosia\n"
     ]
    },
    {
     "name": "stderr",
     "output_type": "stream",
     "text": [
      "/Users/jgs286/miniconda3/envs/houtz2021/lib/python3.6/site-packages/sklearn/metrics/pairwise.py:1761: DataConversionWarning: Data was converted to boolean for metric dice\n",
      "  warnings.warn(msg, DataConversionWarning)\n",
      "/Users/jgs286/miniconda3/envs/houtz2021/lib/python3.6/site-packages/skbio/stats/distance/_permanova.py:130: RuntimeWarning: divide by zero encountered in double_scalars\n",
      "  return (s_A / (num_groups - 1)) / (s_W / (sample_size - num_groups))\n",
      "/Users/jgs286/miniconda3/envs/houtz2021/lib/python3.6/site-packages/sklearn/metrics/pairwise.py:1761: DataConversionWarning: Data was converted to boolean for metric dice\n",
      "  warnings.warn(msg, DataConversionWarning)\n"
     ]
    },
    {
     "name": "stdout",
     "output_type": "stream",
     "text": [
      "Problem with taxon k__Bacteria; p__Actinobacteria; c__Thermoleophilia; o__Solirubrobacterales;  ;  \n"
     ]
    },
    {
     "name": "stderr",
     "output_type": "stream",
     "text": [
      "/Users/jgs286/miniconda3/envs/houtz2021/lib/python3.6/site-packages/sklearn/metrics/pairwise.py:1761: DataConversionWarning: Data was converted to boolean for metric dice\n",
      "  warnings.warn(msg, DataConversionWarning)\n"
     ]
    },
    {
     "name": "stdout",
     "output_type": "stream",
     "text": [
      "Problem with taxon k__Bacteria; p__Firmicutes; c__Clostridia; o__Clostridiales; f__Syntrophomonadaceae; g__Syntrophomonas\n"
     ]
    },
    {
     "name": "stderr",
     "output_type": "stream",
     "text": [
      "/Users/jgs286/miniconda3/envs/houtz2021/lib/python3.6/site-packages/sklearn/metrics/pairwise.py:1761: DataConversionWarning: Data was converted to boolean for metric dice\n",
      "  warnings.warn(msg, DataConversionWarning)\n",
      "/Users/jgs286/miniconda3/envs/houtz2021/lib/python3.6/site-packages/sklearn/metrics/pairwise.py:1761: DataConversionWarning: Data was converted to boolean for metric dice\n",
      "  warnings.warn(msg, DataConversionWarning)\n",
      "/Users/jgs286/miniconda3/envs/houtz2021/lib/python3.6/site-packages/skbio/stats/distance/_permanova.py:130: RuntimeWarning: invalid value encountered in double_scalars\n",
      "  return (s_A / (num_groups - 1)) / (s_W / (sample_size - num_groups))\n",
      "/Users/jgs286/miniconda3/envs/houtz2021/lib/python3.6/site-packages/skbio/stats/distance/_permanova.py:130: RuntimeWarning: divide by zero encountered in double_scalars\n",
      "  return (s_A / (num_groups - 1)) / (s_W / (sample_size - num_groups))\n",
      "/Users/jgs286/miniconda3/envs/houtz2021/lib/python3.6/site-packages/sklearn/metrics/pairwise.py:1761: DataConversionWarning: Data was converted to boolean for metric dice\n",
      "  warnings.warn(msg, DataConversionWarning)\n",
      "/Users/jgs286/miniconda3/envs/houtz2021/lib/python3.6/site-packages/sklearn/metrics/pairwise.py:1761: DataConversionWarning: Data was converted to boolean for metric dice\n",
      "  warnings.warn(msg, DataConversionWarning)\n",
      "/Users/jgs286/miniconda3/envs/houtz2021/lib/python3.6/site-packages/sklearn/metrics/pairwise.py:1761: DataConversionWarning: Data was converted to boolean for metric dice\n",
      "  warnings.warn(msg, DataConversionWarning)\n",
      "/Users/jgs286/miniconda3/envs/houtz2021/lib/python3.6/site-packages/skbio/stats/distance/_permanova.py:130: RuntimeWarning: invalid value encountered in double_scalars\n",
      "  return (s_A / (num_groups - 1)) / (s_W / (sample_size - num_groups))\n",
      "/Users/jgs286/miniconda3/envs/houtz2021/lib/python3.6/site-packages/skbio/stats/distance/_permanova.py:130: RuntimeWarning: divide by zero encountered in double_scalars\n",
      "  return (s_A / (num_groups - 1)) / (s_W / (sample_size - num_groups))\n",
      "/Users/jgs286/miniconda3/envs/houtz2021/lib/python3.6/site-packages/sklearn/metrics/pairwise.py:1761: DataConversionWarning: Data was converted to boolean for metric dice\n",
      "  warnings.warn(msg, DataConversionWarning)\n"
     ]
    },
    {
     "name": "stdout",
     "output_type": "stream",
     "text": [
      "Problem with taxon k__Bacteria; p__Proteobacteria; c__Gammaproteobacteria; o__Xanthomonadales; f__Sinobacteraceae; g__\n"
     ]
    },
    {
     "name": "stderr",
     "output_type": "stream",
     "text": [
      "/Users/jgs286/miniconda3/envs/houtz2021/lib/python3.6/site-packages/sklearn/metrics/pairwise.py:1761: DataConversionWarning: Data was converted to boolean for metric dice\n",
      "  warnings.warn(msg, DataConversionWarning)\n",
      "/Users/jgs286/miniconda3/envs/houtz2021/lib/python3.6/site-packages/skbio/stats/distance/_permanova.py:130: RuntimeWarning: divide by zero encountered in double_scalars\n",
      "  return (s_A / (num_groups - 1)) / (s_W / (sample_size - num_groups))\n",
      "/Users/jgs286/miniconda3/envs/houtz2021/lib/python3.6/site-packages/skbio/stats/distance/_permanova.py:130: RuntimeWarning: invalid value encountered in double_scalars\n",
      "  return (s_A / (num_groups - 1)) / (s_W / (sample_size - num_groups))\n",
      "/Users/jgs286/miniconda3/envs/houtz2021/lib/python3.6/site-packages/sklearn/metrics/pairwise.py:1761: DataConversionWarning: Data was converted to boolean for metric dice\n",
      "  warnings.warn(msg, DataConversionWarning)\n"
     ]
    },
    {
     "name": "stdout",
     "output_type": "stream",
     "text": [
      "Problem with taxon k__Bacteria; p__Proteobacteria; c__Alphaproteobacteria; o__Rhodobacterales; f__Rhodobacteraceae; g__Paracoccus\n"
     ]
    },
    {
     "name": "stderr",
     "output_type": "stream",
     "text": [
      "/Users/jgs286/miniconda3/envs/houtz2021/lib/python3.6/site-packages/sklearn/metrics/pairwise.py:1761: DataConversionWarning: Data was converted to boolean for metric dice\n",
      "  warnings.warn(msg, DataConversionWarning)\n",
      "/Users/jgs286/miniconda3/envs/houtz2021/lib/python3.6/site-packages/skbio/stats/distance/_permanova.py:130: RuntimeWarning: invalid value encountered in double_scalars\n",
      "  return (s_A / (num_groups - 1)) / (s_W / (sample_size - num_groups))\n",
      "/Users/jgs286/miniconda3/envs/houtz2021/lib/python3.6/site-packages/sklearn/metrics/pairwise.py:1761: DataConversionWarning: Data was converted to boolean for metric dice\n",
      "  warnings.warn(msg, DataConversionWarning)\n"
     ]
    },
    {
     "name": "stdout",
     "output_type": "stream",
     "text": [
      "Problem with taxon k__Bacteria; p__Firmicutes; c__Clostridia; o__Clostridiales; f__[Tissierellaceae]; g__ph2\n"
     ]
    },
    {
     "name": "stderr",
     "output_type": "stream",
     "text": [
      "/Users/jgs286/miniconda3/envs/houtz2021/lib/python3.6/site-packages/sklearn/metrics/pairwise.py:1761: DataConversionWarning: Data was converted to boolean for metric dice\n",
      "  warnings.warn(msg, DataConversionWarning)\n",
      "/Users/jgs286/miniconda3/envs/houtz2021/lib/python3.6/site-packages/skbio/stats/distance/_permanova.py:130: RuntimeWarning: divide by zero encountered in double_scalars\n",
      "  return (s_A / (num_groups - 1)) / (s_W / (sample_size - num_groups))\n",
      "/Users/jgs286/miniconda3/envs/houtz2021/lib/python3.6/site-packages/skbio/stats/distance/_permanova.py:130: RuntimeWarning: invalid value encountered in double_scalars\n",
      "  return (s_A / (num_groups - 1)) / (s_W / (sample_size - num_groups))\n"
     ]
    },
    {
     "name": "stdout",
     "output_type": "stream",
     "text": [
      "Problem with taxon k__Bacteria; p__Firmicutes; c__Bacilli; o__Lactobacillales; f__Enterococcaceae;  \n"
     ]
    },
    {
     "name": "stderr",
     "output_type": "stream",
     "text": [
      "/Users/jgs286/miniconda3/envs/houtz2021/lib/python3.6/site-packages/sklearn/metrics/pairwise.py:1761: DataConversionWarning: Data was converted to boolean for metric dice\n",
      "  warnings.warn(msg, DataConversionWarning)\n"
     ]
    },
    {
     "name": "stdout",
     "output_type": "stream",
     "text": [
      "Problem with taxon k__Bacteria; p__Proteobacteria; c__Alphaproteobacteria; o__Rhizobiales; f__Methylobacteriaceae; g__Methylobacterium\n"
     ]
    },
    {
     "name": "stderr",
     "output_type": "stream",
     "text": [
      "/Users/jgs286/miniconda3/envs/houtz2021/lib/python3.6/site-packages/sklearn/metrics/pairwise.py:1761: DataConversionWarning: Data was converted to boolean for metric dice\n",
      "  warnings.warn(msg, DataConversionWarning)\n"
     ]
    },
    {
     "name": "stdout",
     "output_type": "stream",
     "text": [
      "Problem with taxon k__Bacteria; p__Bacteroidetes; c__Sphingobacteriia; o__Sphingobacteriales; f__Sphingobacteriaceae;  \n"
     ]
    },
    {
     "name": "stderr",
     "output_type": "stream",
     "text": [
      "/Users/jgs286/miniconda3/envs/houtz2021/lib/python3.6/site-packages/sklearn/metrics/pairwise.py:1761: DataConversionWarning: Data was converted to boolean for metric dice\n",
      "  warnings.warn(msg, DataConversionWarning)\n",
      "/Users/jgs286/miniconda3/envs/houtz2021/lib/python3.6/site-packages/sklearn/metrics/pairwise.py:1761: DataConversionWarning: Data was converted to boolean for metric dice\n",
      "  warnings.warn(msg, DataConversionWarning)\n"
     ]
    },
    {
     "name": "stdout",
     "output_type": "stream",
     "text": [
      "Problem with taxon k__Bacteria; p__Actinobacteria; c__Actinobacteria; o__Actinomycetales; f__Frankiaceae; g__\n"
     ]
    },
    {
     "name": "stderr",
     "output_type": "stream",
     "text": [
      "/Users/jgs286/miniconda3/envs/houtz2021/lib/python3.6/site-packages/sklearn/metrics/pairwise.py:1761: DataConversionWarning: Data was converted to boolean for metric dice\n",
      "  warnings.warn(msg, DataConversionWarning)\n",
      "/Users/jgs286/miniconda3/envs/houtz2021/lib/python3.6/site-packages/skbio/stats/distance/_permanova.py:130: RuntimeWarning: divide by zero encountered in double_scalars\n",
      "  return (s_A / (num_groups - 1)) / (s_W / (sample_size - num_groups))\n"
     ]
    },
    {
     "name": "stdout",
     "output_type": "stream",
     "text": [
      "Problem with taxon k__Bacteria; p__Actinobacteria; c__Actinobacteria; o__Actinomycetales; f__Streptomycetaceae; g__Streptomyces\n"
     ]
    },
    {
     "name": "stderr",
     "output_type": "stream",
     "text": [
      "/Users/jgs286/miniconda3/envs/houtz2021/lib/python3.6/site-packages/sklearn/metrics/pairwise.py:1761: DataConversionWarning: Data was converted to boolean for metric dice\n",
      "  warnings.warn(msg, DataConversionWarning)\n",
      "/Users/jgs286/miniconda3/envs/houtz2021/lib/python3.6/site-packages/skbio/stats/distance/_permanova.py:130: RuntimeWarning: divide by zero encountered in double_scalars\n",
      "  return (s_A / (num_groups - 1)) / (s_W / (sample_size - num_groups))\n",
      "/Users/jgs286/miniconda3/envs/houtz2021/lib/python3.6/site-packages/sklearn/metrics/pairwise.py:1761: DataConversionWarning: Data was converted to boolean for metric dice\n",
      "  warnings.warn(msg, DataConversionWarning)\n"
     ]
    },
    {
     "name": "stdout",
     "output_type": "stream",
     "text": [
      "Problem with taxon k__Bacteria; p__Proteobacteria; c__Deltaproteobacteria; o__GMD14H09; f__; g__\n"
     ]
    },
    {
     "name": "stderr",
     "output_type": "stream",
     "text": [
      "/Users/jgs286/miniconda3/envs/houtz2021/lib/python3.6/site-packages/sklearn/metrics/pairwise.py:1761: DataConversionWarning: Data was converted to boolean for metric dice\n",
      "  warnings.warn(msg, DataConversionWarning)\n"
     ]
    },
    {
     "name": "stdout",
     "output_type": "stream",
     "text": [
      "Problem with taxon k__Bacteria; p__Proteobacteria; c__Gammaproteobacteria; o__Xanthomonadales; f__Sinobacteraceae; g__Steroidobacter\n"
     ]
    },
    {
     "name": "stderr",
     "output_type": "stream",
     "text": [
      "/Users/jgs286/miniconda3/envs/houtz2021/lib/python3.6/site-packages/sklearn/metrics/pairwise.py:1761: DataConversionWarning: Data was converted to boolean for metric dice\n",
      "  warnings.warn(msg, DataConversionWarning)\n"
     ]
    },
    {
     "name": "stdout",
     "output_type": "stream",
     "text": [
      "Problem with taxon k__Bacteria; p__Bacteroidetes; c__Bacteroidia; o__Bacteroidales; f__Porphyromonadaceae; g__Dysgonomonas\n"
     ]
    },
    {
     "name": "stderr",
     "output_type": "stream",
     "text": [
      "/Users/jgs286/miniconda3/envs/houtz2021/lib/python3.6/site-packages/sklearn/metrics/pairwise.py:1761: DataConversionWarning: Data was converted to boolean for metric dice\n",
      "  warnings.warn(msg, DataConversionWarning)\n",
      "/Users/jgs286/miniconda3/envs/houtz2021/lib/python3.6/site-packages/sklearn/metrics/pairwise.py:1761: DataConversionWarning: Data was converted to boolean for metric dice\n",
      "  warnings.warn(msg, DataConversionWarning)\n",
      "/Users/jgs286/miniconda3/envs/houtz2021/lib/python3.6/site-packages/skbio/stats/distance/_permanova.py:130: RuntimeWarning: divide by zero encountered in double_scalars\n",
      "  return (s_A / (num_groups - 1)) / (s_W / (sample_size - num_groups))\n",
      "/Users/jgs286/miniconda3/envs/houtz2021/lib/python3.6/site-packages/skbio/stats/distance/_permanova.py:130: RuntimeWarning: divide by zero encountered in double_scalars\n",
      "  return (s_A / (num_groups - 1)) / (s_W / (sample_size - num_groups))\n",
      "/Users/jgs286/miniconda3/envs/houtz2021/lib/python3.6/site-packages/sklearn/metrics/pairwise.py:1761: DataConversionWarning: Data was converted to boolean for metric dice\n",
      "  warnings.warn(msg, DataConversionWarning)\n"
     ]
    },
    {
     "name": "stdout",
     "output_type": "stream",
     "text": [
      "Problem with taxon k__Bacteria; p__Synergistetes; c__Synergistia; o__Synergistales; f__Dethiosulfovibrionaceae; g__Pyramidobacter\n"
     ]
    },
    {
     "name": "stderr",
     "output_type": "stream",
     "text": [
      "/Users/jgs286/miniconda3/envs/houtz2021/lib/python3.6/site-packages/sklearn/metrics/pairwise.py:1761: DataConversionWarning: Data was converted to boolean for metric dice\n",
      "  warnings.warn(msg, DataConversionWarning)\n",
      "/Users/jgs286/miniconda3/envs/houtz2021/lib/python3.6/site-packages/skbio/stats/distance/_permanova.py:130: RuntimeWarning: invalid value encountered in double_scalars\n",
      "  return (s_A / (num_groups - 1)) / (s_W / (sample_size - num_groups))\n",
      "/Users/jgs286/miniconda3/envs/houtz2021/lib/python3.6/site-packages/skbio/stats/distance/_permanova.py:130: RuntimeWarning: divide by zero encountered in double_scalars\n",
      "  return (s_A / (num_groups - 1)) / (s_W / (sample_size - num_groups))\n",
      "/Users/jgs286/miniconda3/envs/houtz2021/lib/python3.6/site-packages/sklearn/metrics/pairwise.py:1761: DataConversionWarning: Data was converted to boolean for metric dice\n",
      "  warnings.warn(msg, DataConversionWarning)\n",
      "/Users/jgs286/miniconda3/envs/houtz2021/lib/python3.6/site-packages/skbio/stats/distance/_permanova.py:130: RuntimeWarning: divide by zero encountered in double_scalars\n",
      "  return (s_A / (num_groups - 1)) / (s_W / (sample_size - num_groups))\n",
      "/Users/jgs286/miniconda3/envs/houtz2021/lib/python3.6/site-packages/skbio/stats/distance/_permanova.py:130: RuntimeWarning: invalid value encountered in double_scalars\n",
      "  return (s_A / (num_groups - 1)) / (s_W / (sample_size - num_groups))\n",
      "/Users/jgs286/miniconda3/envs/houtz2021/lib/python3.6/site-packages/sklearn/metrics/pairwise.py:1761: DataConversionWarning: Data was converted to boolean for metric dice\n",
      "  warnings.warn(msg, DataConversionWarning)\n",
      "/Users/jgs286/miniconda3/envs/houtz2021/lib/python3.6/site-packages/skbio/stats/distance/_permanova.py:130: RuntimeWarning: divide by zero encountered in double_scalars\n",
      "  return (s_A / (num_groups - 1)) / (s_W / (sample_size - num_groups))\n",
      "/Users/jgs286/miniconda3/envs/houtz2021/lib/python3.6/site-packages/sklearn/metrics/pairwise.py:1761: DataConversionWarning: Data was converted to boolean for metric dice\n",
      "  warnings.warn(msg, DataConversionWarning)\n"
     ]
    },
    {
     "name": "stdout",
     "output_type": "stream",
     "text": [
      "Problem with taxon k__Bacteria; p__Actinobacteria; c__Coriobacteriia; o__Coriobacteriales; f__Coriobacteriaceae; g__Enterococcus\n",
      "Problem with taxon k__Bacteria; p__Actinobacteria; c__Thermoleophilia; o__Solirubrobacterales; f__Solirubrobacteraceae; g__\n"
     ]
    },
    {
     "name": "stderr",
     "output_type": "stream",
     "text": [
      "/Users/jgs286/miniconda3/envs/houtz2021/lib/python3.6/site-packages/sklearn/metrics/pairwise.py:1761: DataConversionWarning: Data was converted to boolean for metric dice\n",
      "  warnings.warn(msg, DataConversionWarning)\n"
     ]
    },
    {
     "name": "stdout",
     "output_type": "stream",
     "text": [
      "Problem with taxon k__Bacteria; p__Firmicutes; c__Erysipelotrichi; o__Erysipelotrichales; f__Erysipelotrichaceae; g__cc_115\n"
     ]
    },
    {
     "name": "stderr",
     "output_type": "stream",
     "text": [
      "/Users/jgs286/miniconda3/envs/houtz2021/lib/python3.6/site-packages/sklearn/metrics/pairwise.py:1761: DataConversionWarning: Data was converted to boolean for metric dice\n",
      "  warnings.warn(msg, DataConversionWarning)\n"
     ]
    },
    {
     "name": "stdout",
     "output_type": "stream",
     "text": [
      "Problem with taxon k__Bacteria; p__Actinobacteria; c__Coriobacteriia; o__Coriobacteriales; f__Coriobacteriaceae; g__Eggerthella\n"
     ]
    },
    {
     "name": "stderr",
     "output_type": "stream",
     "text": [
      "/Users/jgs286/miniconda3/envs/houtz2021/lib/python3.6/site-packages/sklearn/metrics/pairwise.py:1761: DataConversionWarning: Data was converted to boolean for metric dice\n",
      "  warnings.warn(msg, DataConversionWarning)\n",
      "/Users/jgs286/miniconda3/envs/houtz2021/lib/python3.6/site-packages/skbio/stats/distance/_permanova.py:130: RuntimeWarning: divide by zero encountered in double_scalars\n",
      "  return (s_A / (num_groups - 1)) / (s_W / (sample_size - num_groups))\n"
     ]
    },
    {
     "name": "stdout",
     "output_type": "stream",
     "text": [
      "Problem with taxon k__Bacteria; p__Firmicutes; c__Bacilli; o__Lactobacillales; f__Lactobacillaceae;  \n"
     ]
    },
    {
     "name": "stderr",
     "output_type": "stream",
     "text": [
      "/Users/jgs286/miniconda3/envs/houtz2021/lib/python3.6/site-packages/sklearn/metrics/pairwise.py:1761: DataConversionWarning: Data was converted to boolean for metric dice\n",
      "  warnings.warn(msg, DataConversionWarning)\n",
      "/Users/jgs286/miniconda3/envs/houtz2021/lib/python3.6/site-packages/skbio/stats/distance/_permanova.py:130: RuntimeWarning: divide by zero encountered in double_scalars\n",
      "  return (s_A / (num_groups - 1)) / (s_W / (sample_size - num_groups))\n",
      "/Users/jgs286/miniconda3/envs/houtz2021/lib/python3.6/site-packages/skbio/stats/distance/_permanova.py:130: RuntimeWarning: invalid value encountered in double_scalars\n",
      "  return (s_A / (num_groups - 1)) / (s_W / (sample_size - num_groups))\n",
      "/Users/jgs286/miniconda3/envs/houtz2021/lib/python3.6/site-packages/sklearn/metrics/pairwise.py:1761: DataConversionWarning: Data was converted to boolean for metric dice\n",
      "  warnings.warn(msg, DataConversionWarning)\n"
     ]
    },
    {
     "name": "stdout",
     "output_type": "stream",
     "text": [
      "Problem with taxon k__Bacteria; p__Proteobacteria; c__Betaproteobacteria; o__Burkholderiales; f__Oxalobacteraceae;  \n"
     ]
    },
    {
     "name": "stderr",
     "output_type": "stream",
     "text": [
      "/Users/jgs286/miniconda3/envs/houtz2021/lib/python3.6/site-packages/sklearn/metrics/pairwise.py:1761: DataConversionWarning: Data was converted to boolean for metric dice\n",
      "  warnings.warn(msg, DataConversionWarning)\n"
     ]
    },
    {
     "name": "stdout",
     "output_type": "stream",
     "text": [
      "Problem with taxon k__Bacteria; p__Acidobacteria; c__Acidobacteriia; o__Acidobacteriales; f__Acidobacteriaceae; g__\n"
     ]
    },
    {
     "name": "stderr",
     "output_type": "stream",
     "text": [
      "/Users/jgs286/miniconda3/envs/houtz2021/lib/python3.6/site-packages/sklearn/metrics/pairwise.py:1761: DataConversionWarning: Data was converted to boolean for metric dice\n",
      "  warnings.warn(msg, DataConversionWarning)\n",
      "/Users/jgs286/miniconda3/envs/houtz2021/lib/python3.6/site-packages/sklearn/metrics/pairwise.py:1761: DataConversionWarning: Data was converted to boolean for metric dice\n",
      "  warnings.warn(msg, DataConversionWarning)\n",
      "/Users/jgs286/miniconda3/envs/houtz2021/lib/python3.6/site-packages/sklearn/metrics/pairwise.py:1761: DataConversionWarning: Data was converted to boolean for metric dice\n",
      "  warnings.warn(msg, DataConversionWarning)\n",
      "/Users/jgs286/miniconda3/envs/houtz2021/lib/python3.6/site-packages/sklearn/metrics/pairwise.py:1761: DataConversionWarning: Data was converted to boolean for metric dice\n",
      "  warnings.warn(msg, DataConversionWarning)\n",
      "/Users/jgs286/miniconda3/envs/houtz2021/lib/python3.6/site-packages/skbio/stats/distance/_permanova.py:130: RuntimeWarning: invalid value encountered in double_scalars\n",
      "  return (s_A / (num_groups - 1)) / (s_W / (sample_size - num_groups))\n"
     ]
    },
    {
     "name": "stdout",
     "output_type": "stream",
     "text": [
      "Problem with taxon k__Bacteria; p__Bacteroidetes; c__Bacteroidia; o__Bacteroidales; f__Porphyromonadaceae; g__Tannerella\n"
     ]
    },
    {
     "name": "stderr",
     "output_type": "stream",
     "text": [
      "/Users/jgs286/miniconda3/envs/houtz2021/lib/python3.6/site-packages/sklearn/metrics/pairwise.py:1761: DataConversionWarning: Data was converted to boolean for metric dice\n",
      "  warnings.warn(msg, DataConversionWarning)\n",
      "/Users/jgs286/miniconda3/envs/houtz2021/lib/python3.6/site-packages/skbio/stats/distance/_permanova.py:130: RuntimeWarning: divide by zero encountered in double_scalars\n",
      "  return (s_A / (num_groups - 1)) / (s_W / (sample_size - num_groups))\n"
     ]
    },
    {
     "name": "stdout",
     "output_type": "stream",
     "text": [
      "Problem with taxon k__Bacteria; p__Proteobacteria; c__Gammaproteobacteria; o__Pasteurellales; f__Pasteurellaceae;  \n"
     ]
    },
    {
     "name": "stderr",
     "output_type": "stream",
     "text": [
      "/Users/jgs286/miniconda3/envs/houtz2021/lib/python3.6/site-packages/sklearn/metrics/pairwise.py:1761: DataConversionWarning: Data was converted to boolean for metric dice\n",
      "  warnings.warn(msg, DataConversionWarning)\n"
     ]
    },
    {
     "name": "stdout",
     "output_type": "stream",
     "text": [
      "Problem with taxon k__Bacteria; p__Firmicutes; c__Bacilli; o__Bacillales; f__Bacillaceae;  \n"
     ]
    },
    {
     "name": "stderr",
     "output_type": "stream",
     "text": [
      "/Users/jgs286/miniconda3/envs/houtz2021/lib/python3.6/site-packages/sklearn/metrics/pairwise.py:1761: DataConversionWarning: Data was converted to boolean for metric dice\n",
      "  warnings.warn(msg, DataConversionWarning)\n"
     ]
    },
    {
     "name": "stdout",
     "output_type": "stream",
     "text": [
      "Problem with taxon k__Bacteria; p__Planctomycetes; c__Planctomycetia; o__Gemmatales; f__Gemmataceae; g__\n"
     ]
    },
    {
     "name": "stderr",
     "output_type": "stream",
     "text": [
      "/Users/jgs286/miniconda3/envs/houtz2021/lib/python3.6/site-packages/sklearn/metrics/pairwise.py:1761: DataConversionWarning: Data was converted to boolean for metric dice\n",
      "  warnings.warn(msg, DataConversionWarning)\n",
      "/Users/jgs286/miniconda3/envs/houtz2021/lib/python3.6/site-packages/sklearn/metrics/pairwise.py:1761: DataConversionWarning: Data was converted to boolean for metric dice\n",
      "  warnings.warn(msg, DataConversionWarning)\n",
      "/Users/jgs286/miniconda3/envs/houtz2021/lib/python3.6/site-packages/sklearn/metrics/pairwise.py:1761: DataConversionWarning: Data was converted to boolean for metric dice\n",
      "  warnings.warn(msg, DataConversionWarning)\n"
     ]
    },
    {
     "name": "stdout",
     "output_type": "stream",
     "text": [
      "Problem with taxon k__Bacteria; p__Firmicutes; c__Erysipelotrichi; o__Erysipelotrichales; f__Erysipelotrichaceae; g__Sharpea\n"
     ]
    },
    {
     "name": "stderr",
     "output_type": "stream",
     "text": [
      "/Users/jgs286/miniconda3/envs/houtz2021/lib/python3.6/site-packages/sklearn/metrics/pairwise.py:1761: DataConversionWarning: Data was converted to boolean for metric dice\n",
      "  warnings.warn(msg, DataConversionWarning)\n",
      "/Users/jgs286/miniconda3/envs/houtz2021/lib/python3.6/site-packages/sklearn/metrics/pairwise.py:1761: DataConversionWarning: Data was converted to boolean for metric dice\n",
      "  warnings.warn(msg, DataConversionWarning)\n",
      "/Users/jgs286/miniconda3/envs/houtz2021/lib/python3.6/site-packages/skbio/stats/distance/_permanova.py:130: RuntimeWarning: divide by zero encountered in double_scalars\n",
      "  return (s_A / (num_groups - 1)) / (s_W / (sample_size - num_groups))\n",
      "/Users/jgs286/miniconda3/envs/houtz2021/lib/python3.6/site-packages/sklearn/metrics/pairwise.py:1761: DataConversionWarning: Data was converted to boolean for metric dice\n",
      "  warnings.warn(msg, DataConversionWarning)\n",
      "/Users/jgs286/miniconda3/envs/houtz2021/lib/python3.6/site-packages/sklearn/metrics/pairwise.py:1761: DataConversionWarning: Data was converted to boolean for metric dice\n",
      "  warnings.warn(msg, DataConversionWarning)\n",
      "/Users/jgs286/miniconda3/envs/houtz2021/lib/python3.6/site-packages/skbio/stats/distance/_permanova.py:130: RuntimeWarning: divide by zero encountered in double_scalars\n",
      "  return (s_A / (num_groups - 1)) / (s_W / (sample_size - num_groups))\n",
      "/Users/jgs286/miniconda3/envs/houtz2021/lib/python3.6/site-packages/sklearn/metrics/pairwise.py:1761: DataConversionWarning: Data was converted to boolean for metric dice\n",
      "  warnings.warn(msg, DataConversionWarning)\n",
      "/Users/jgs286/miniconda3/envs/houtz2021/lib/python3.6/site-packages/skbio/stats/distance/_permanova.py:130: RuntimeWarning: divide by zero encountered in double_scalars\n",
      "  return (s_A / (num_groups - 1)) / (s_W / (sample_size - num_groups))\n"
     ]
    },
    {
     "name": "stdout",
     "output_type": "stream",
     "text": [
      "Problem with taxon k__Bacteria; p__Proteobacteria; c__Alphaproteobacteria; o__Sphingomonadales; f__Sphingomonadaceae; g__Novosphingobium\n"
     ]
    },
    {
     "name": "stderr",
     "output_type": "stream",
     "text": [
      "/Users/jgs286/miniconda3/envs/houtz2021/lib/python3.6/site-packages/sklearn/metrics/pairwise.py:1761: DataConversionWarning: Data was converted to boolean for metric dice\n",
      "  warnings.warn(msg, DataConversionWarning)\n",
      "/Users/jgs286/miniconda3/envs/houtz2021/lib/python3.6/site-packages/skbio/stats/distance/_permanova.py:130: RuntimeWarning: invalid value encountered in double_scalars\n",
      "  return (s_A / (num_groups - 1)) / (s_W / (sample_size - num_groups))\n",
      "/Users/jgs286/miniconda3/envs/houtz2021/lib/python3.6/site-packages/skbio/stats/distance/_permanova.py:130: RuntimeWarning: divide by zero encountered in double_scalars\n",
      "  return (s_A / (num_groups - 1)) / (s_W / (sample_size - num_groups))\n",
      "/Users/jgs286/miniconda3/envs/houtz2021/lib/python3.6/site-packages/sklearn/metrics/pairwise.py:1761: DataConversionWarning: Data was converted to boolean for metric dice\n",
      "  warnings.warn(msg, DataConversionWarning)\n"
     ]
    },
    {
     "name": "stdout",
     "output_type": "stream",
     "text": [
      "Problem with taxon k__Bacteria; p__Firmicutes; c__Erysipelotrichi; o__Erysipelotrichales; f__Erysipelotrichaceae; g__Clostridium\n",
      "Problem with taxon k__Bacteria; p__Proteobacteria; c__Alphaproteobacteria; o__Rhodobacterales; f__Rhodobacteraceae;  \n"
     ]
    },
    {
     "name": "stderr",
     "output_type": "stream",
     "text": [
      "/Users/jgs286/miniconda3/envs/houtz2021/lib/python3.6/site-packages/sklearn/metrics/pairwise.py:1761: DataConversionWarning: Data was converted to boolean for metric dice\n",
      "  warnings.warn(msg, DataConversionWarning)\n"
     ]
    }
   ],
   "source": [
    "metric = 'dice'\n",
    "distance_dir = 'output/distance'\n",
    "metadata_col = 'species_geo_captivity'\n",
    "makedirs(distance_dir, exist_ok=True)\n",
    "\n",
    "for genus in genus_tables:\n",
    "    tax_dir = join(distance_dir,\n",
    "                   genus.replace(';','_').replace(' ',''))\n",
    "    makedirs(tax_dir, exist_ok=True)\n",
    "    \n",
    "    # filter empty samples\n",
    "    genus_filtered = filter_samples(genus_tables[genus],\n",
    "                                    min_frequency=1)\n",
    "    \n",
    "    # get distance matrix\n",
    "    dm = diversity.actions.beta(genus_filtered.filtered_table,\n",
    "                            metric)\n",
    "    \n",
    "    # write distance matrix to file \n",
    "    dm.distance_matrix.view(DistanceMatrix).to_series().to_csv(join(tax_dir,\n",
    "                                                                    'distance_list.dice.tsv'),\n",
    "                                                               sep='\\t')\n",
    "    try:\n",
    "        # calculate beta group significance\n",
    "        bgs = diversity.actions.beta_group_significance(dm.distance_matrix,\n",
    "                                                        metadata.get_column(metadata_col),\n",
    "                                                        pairwise=True,\n",
    "                                                        method='permanova')\n",
    "    except ValueError:\n",
    "        print(\"Problem with taxon %s\" % genus)\n",
    "    \n",
    "    # write results to directory\n",
    "    bgs.visualization.export_data(join(tax_dir,'permanova'))\n",
    "    "
   ]
  },
  {
   "cell_type": "code",
   "execution_count": 138,
   "id": "korean-halifax",
   "metadata": {},
   "outputs": [],
   "source": [
    "\n",
    "foo = genus_filtered.filtered_table.view(Table)"
   ]
  },
  {
   "cell_type": "code",
   "execution_count": 146,
   "id": "trained-friday",
   "metadata": {},
   "outputs": [
    {
     "data": {
      "text/plain": [
       "#SampleID\n",
       "62017.850.USygt52.M                         human_USA\n",
       "62017.850.USygt9.T1                         human_USA\n",
       "62017.850.USygt44.T1                        human_USA\n",
       "62017.850.TS13                              human_USA\n",
       "64778.12140.chimp.4         chimp_USA_captive_moeller\n",
       "                                      ...            \n",
       "100030.13393.SRR8978415     gorilla_DRC_wild_campbell\n",
       "100030.13393.SRR8978490    chimp_USA_captive_campbell\n",
       "100030.13393.SRR8978416     gorilla_DRC_wild_campbell\n",
       "100030.13393.SRR8978444    chimp_USA_captive_campbell\n",
       "100030.13393.SRR8978472    chimp_USA_captive_campbell\n",
       "Name: species_geo_captivity, Length: 214, dtype: object"
      ]
     },
     "execution_count": 146,
     "metadata": {},
     "output_type": "execute_result"
    }
   ],
   "source": [
    "metadata.get_column(metadata_col).to_series()[foo.ids(axis='sample')]"
   ]
  },
  {
   "cell_type": "code",
   "execution_count": 141,
   "id": "arranged-rocket",
   "metadata": {},
   "outputs": [
    {
     "data": {
      "text/plain": [
       "array(['62017.850.USygt52.M', '62017.850.USygt9.T1',\n",
       "       '62017.850.USygt44.T1', '62017.850.TS13', '64778.12140.chimp.4',\n",
       "       '64778.12140.chimp.3', '64778.12140.chimp.2',\n",
       "       '64778.12140.chimp.5', '64778.12140.chimp.11',\n",
       "       '64778.12140.chimp.8', '64778.12140.chimp.1',\n",
       "       '64778.12140.chimp.6', '64778.12140.chimp.13',\n",
       "       '64778.12140.chimp.7', '64778.12140.chimp.9', '65716.12173.99',\n",
       "       '65716.12173.20', '65716.12173.27', '65716.12173.136',\n",
       "       '65716.12173.68', '65716.12173.90', '65716.12173.153',\n",
       "       '65716.12173.29', '65716.12173.42', '65716.12173.45',\n",
       "       '65716.12173.61', '65716.12173.103', '65716.12173.12',\n",
       "       '65716.12173.79', '65716.12173.15', '65716.12173.104',\n",
       "       '65716.12173.31', '65716.12173.120', '65716.12173.145',\n",
       "       '65716.12173.2', '65716.12173.70', '65716.12173.77',\n",
       "       '65716.12173.5', '65716.12173.38', '65716.12173.129',\n",
       "       '65716.12173.60', '65716.12173.155', '65716.12173.44',\n",
       "       '65716.12173.43', '65716.12173.28', '65716.12173.67',\n",
       "       '65716.12173.91', '65716.12173.69', '65716.12173.137',\n",
       "       '65716.12173.26', '65716.12173.130', '65716.12173.128',\n",
       "       '65716.12173.4', '65716.12173.71', '65716.12173.160',\n",
       "       '65716.12173.144', '65716.12173.121', '65716.12173.105',\n",
       "       '65716.12173.89', '65716.12173.14', '65716.12173.78',\n",
       "       '65716.12173.13', '65716.12173.102', '65716.12173.37',\n",
       "       '65716.12173.126', '65716.12173.140', '65716.12173.7',\n",
       "       '65716.12173.19', '65716.12173.72', '65716.12173.108',\n",
       "       '65716.12173.56', '65716.12173.122', '65716.12173.33',\n",
       "       '65716.12173.58', '65716.12173.106', '65716.12173.17',\n",
       "       '65716.12173.10', '65716.12173.9', '65716.12173.101',\n",
       "       '65716.12173.119', '65716.12173.156', '65716.12173.47',\n",
       "       '65716.12173.151', '65716.12173.92', '65716.12173.134',\n",
       "       '65716.12173.22', '65716.12173.49', '65716.12173.133',\n",
       "       '65716.12173.35', '65716.12173.8', '65716.12173.100',\n",
       "       '65716.12173.11', '65716.12173.16', '65716.12173.107',\n",
       "       '65716.12173.59', '65716.12173.32', '65716.12173.146',\n",
       "       '65716.12173.18', '65716.12173.6', '65716.12173.50',\n",
       "       '65716.12173.141', '65716.12173.159', '65716.12173.132',\n",
       "       '65716.12173.48', '65716.12173.23', '65716.12173.135',\n",
       "       '65716.12173.111', '65716.12173.150', '65716.12173.46',\n",
       "       '65716.12173.157', '65716.12173.62', '80072.12821.G12MB10',\n",
       "       '80072.12821.G12MB2', '80072.12821.AGMB6', '80072.12821.G12MB5',\n",
       "       '80072.12821.G12MB17', '80072.12821.URGMB3', '80072.12821.URGMB4',\n",
       "       '80072.12821.SZMB10', '80072.12821.G2MB13', '80072.12821.URGMB14',\n",
       "       '80072.12821.URGMB13', '80072.12821.URGMB5', '80072.12821.URGMB2',\n",
       "       '80072.12821.UNKGMB24', '80072.12821.UNKGMB3', '80072.12821.AGMB7',\n",
       "       '80072.12821.G12MB3', '80072.12821.G2MB2', '80072.12821.URGMB12',\n",
       "       '80072.12821.G2MB5', '80072.12821.G2MB12', '80072.12821.UNKGMB32',\n",
       "       '80072.12821.G2MB1', '80072.12821.UNKGMB38', '80072.12821.URGMB11',\n",
       "       '80072.12821.G2MB6', '80072.12821.G2MB11', '80072.12821.EPRCMB17',\n",
       "       '80072.12821.URGMB1', '80072.12821.AGMB4', '80072.12821.URGMB8',\n",
       "       '80072.12821.G2MB9', '80072.12821.G2MB10', '80072.12821.G2MB7',\n",
       "       '80072.12821.FRCMB5', '80072.12821.AGMB2', '80072.12821.AGMB5',\n",
       "       '80072.12821.EPRCMB3', '80072.12821.G12MB6', '80072.12821.G12MB14',\n",
       "       '80072.12821.G12MB8', '80072.12821.URGMB7',\n",
       "       '100030.13393.SRR8978203', '100030.13393.SRR8978206',\n",
       "       '100030.13393.SRR8978207', '100030.13393.SRR8978283',\n",
       "       '100030.13393.SRR8978202', '100030.13393.SRR8978214',\n",
       "       '100030.13393.SRR8978210', '100030.13393.SRR8978204',\n",
       "       '100030.13393.SRR8978211', '100030.13393.SRR8978208',\n",
       "       '100030.13393.SRR8978212', '100030.13393.SRR8978205',\n",
       "       '100030.13393.SRR8978229', '100030.13393.SRR8978213',\n",
       "       '100030.13393.SRR8978284', '100030.13393.SRR8978209',\n",
       "       '100030.13393.SRR8978288', '100030.13393.SRR8978291',\n",
       "       '100030.13393.SRR8978298', '100030.13393.SRR8978289',\n",
       "       '100030.13393.SRR8978285', '100030.13393.SRR8978255',\n",
       "       '100030.13393.SRR8978286', '100030.13393.SRR8978292',\n",
       "       '100030.13393.SRR8978305', '100030.13393.SRR8978290',\n",
       "       '100030.13393.SRR8978306', '100030.13393.SRR8978293',\n",
       "       '100030.13393.SRR8978312', '100030.13393.SRR8978297',\n",
       "       '100030.13393.SRR8978307', '100030.13393.SRR8978350',\n",
       "       '100030.13393.SRR8978339', '100030.13393.SRR8978351',\n",
       "       '100030.13393.SRR8978316', '100030.13393.SRR8978340',\n",
       "       '100030.13393.SRR8978342', '100030.13393.SRR8978311',\n",
       "       '100030.13393.SRR8978341', '100030.13393.SRR8978358',\n",
       "       '100030.13393.SRR8978377', '100030.13393.SRR8978355',\n",
       "       '100030.13393.SRR8978343', '100030.13393.SRR8978381',\n",
       "       '100030.13393.SRR8978409', '100030.13393.SRR8978374',\n",
       "       '100030.13393.SRR8978379', '100030.13393.SRR8978344',\n",
       "       '100030.13393.SRR8978345', '100030.13393.SRR8978376',\n",
       "       '100030.13393.SRR8978413', '100030.13393.SRR8978383',\n",
       "       '100030.13393.SRR8978417', '100030.13393.SRR8978485',\n",
       "       '100030.13393.SRR8978418', '100030.13393.SRR8978486',\n",
       "       '100030.13393.SRR8978415', '100030.13393.SRR8978490',\n",
       "       '100030.13393.SRR8978416', '100030.13393.SRR8978444',\n",
       "       '100030.13393.SRR8978472'], dtype=object)"
      ]
     },
     "execution_count": 141,
     "metadata": {},
     "output_type": "execute_result"
    }
   ],
   "source": [
    "foo.ids(axis='sample')"
   ]
  },
  {
   "cell_type": "code",
   "execution_count": null,
   "id": "adequate-expansion",
   "metadata": {},
   "outputs": [],
   "source": []
  }
 ],
 "metadata": {
  "kernelspec": {
   "display_name": "Python 3",
   "language": "python",
   "name": "python3"
  },
  "language_info": {
   "codemirror_mode": {
    "name": "ipython",
    "version": 3
   },
   "file_extension": ".py",
   "mimetype": "text/x-python",
   "name": "python",
   "nbconvert_exporter": "python",
   "pygments_lexer": "ipython3",
   "version": "3.6.13"
  }
 },
 "nbformat": 4,
 "nbformat_minor": 5
}
